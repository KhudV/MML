{
  "cells": [
    {
      "cell_type": "markdown",
      "metadata": {
        "id": "view-in-github",
        "colab_type": "text"
      },
      "source": [
        "<a href=\"https://colab.research.google.com/github/KhudV/MML/blob/main/Lab3_report.ipynb\" target=\"_parent\"><img src=\"https://colab.research.google.com/assets/colab-badge.svg\" alt=\"Open In Colab\"/></a>"
      ]
    },
    {
      "cell_type": "markdown",
      "metadata": {
        "id": "bkvu6piHt3ra"
      },
      "source": [
        "### РОССИЙСКИЙ УНИВЕРСИТЕТ ДРУЖБЫ НАРОДОВ\n",
        "\n",
        "#### Факультет физико-математических и естественных наук  \n",
        "#### Кафедра информационных технологий"
      ]
    },
    {
      "cell_type": "markdown",
      "metadata": {
        "id": "djXIWnpjt3rf"
      },
      "source": [
        "## ОТЧЕТ ПО ЛАБОРАТОРНОЙ РАБОТЕ № 3\n",
        "\n",
        "\n",
        "### Дисциплина: Методы машинного обучения"
      ]
    },
    {
      "cell_type": "markdown",
      "metadata": {
        "id": "fo_ynhTst3rg"
      },
      "source": [
        "\n",
        "\n",
        "##### Студент:  Худицкий Василий\n",
        "##### Группа:   НКНбд-01-19"
      ]
    },
    {
      "cell_type": "markdown",
      "metadata": {
        "id": "TbvGIymht3rh"
      },
      "source": [
        "## Москва 2022\n",
        "***"
      ]
    },
    {
      "cell_type": "markdown",
      "metadata": {
        "id": "avs03Eqmt3rh"
      },
      "source": [
        "### Вариант №3\n",
        "\n",
        "1. Набор данных: diamonds\n",
        "\n",
        "2. Независимая переменная: features/carat\n",
        "\n",
        "3. Зависимая переменная: features/x\n",
        "\n",
        "4. Доп. признак: имеющий минимальную ковариацию с независимой переменной\n",
        "\n",
        "5. Визуализация доп. признака – диаграмма размаха\n",
        "\n",
        "6. Показатель качества регрессии – R^2 (коэффициент детерминации)\n",
        "\n",
        "7. Степень полинома: 5\n",
        "\n",
        "8. Параметры глубокой нейронной сети: кол-во скрытых слоев – 5, кол-во нейронов в скрытом слое – 32, функция активации – гиперболический тангенс."
      ]
    },
    {
      "cell_type": "markdown",
      "source": [
        "**Решение**\n",
        "\n",
        "1. Загрузите заданный в индивидуальном задании набор данных из Tensorflow Datasets, включая указанные в задании независимый признак и зависимый признак (отклик)."
      ],
      "metadata": {
        "id": "1teG1eGi0FAJ"
      }
    },
    {
      "cell_type": "code",
      "source": [
        "!pip install -q tfds-nightly"
      ],
      "metadata": {
        "id": "kJ3N3voqJRAi",
        "colab": {
          "base_uri": "https://localhost:8080/"
        },
        "outputId": "f83c4039-b917-4433-84b4-06ffcd668dc9"
      },
      "execution_count": null,
      "outputs": [
        {
          "output_type": "stream",
          "name": "stdout",
          "text": [
            "\u001b[K     |████████████████████████████████| 4.3 MB 5.0 MB/s \n",
            "\u001b[K     |████████████████████████████████| 87 kB 5.7 MB/s \n",
            "\u001b[?25h"
          ]
        }
      ]
    },
    {
      "cell_type": "code",
      "execution_count": null,
      "metadata": {
        "id": "GCNmPhYuurZN"
      },
      "outputs": [],
      "source": [
        "import numpy as np\n",
        "import matplotlib.pyplot as plt\n",
        "import pandas as pd\n",
        "import tensorflow as tf\n",
        "import tensorflow_datasets as tfds"
      ]
    },
    {
      "cell_type": "code",
      "source": [
        "ds = tfds.load(\"diamonds\", split='train')\n",
        "df = tfds.as_dataframe(ds)\n",
        "df.head()"
      ],
      "metadata": {
        "colab": {
          "base_uri": "https://localhost:8080/",
          "height": 305,
          "referenced_widgets": [
            "55117798c524408b8266a1b8d566d52e",
            "9f9e2131615b4a19b6294dc8f7ffcd5f",
            "467a647f6aea4deca91836be7d360223",
            "ff9501f739af4650871ddce7303fde31",
            "bbe8d19f6db4474cb1761953a80fc331",
            "2921b5ff71c948fb81b67a64ade18ee3",
            "53e45b30c0b44f8c8afc2840accf1154",
            "acec3c2e463e4c4c8819eec776e6ea99",
            "2ce8c24f213d40198486d801175a1f81",
            "b2c2cb897aca46afb76d7b6cdf625f04",
            "987579716dd04c47b9c097551c00e402",
            "01ec9173c7bc4c0bae1a4dec22b8dc50",
            "079884456fde44f3a200136988ec442d",
            "7e30251ef24c4e6e8c53e0b388779518",
            "c739eb5203e747f4bef94a4f80e5aa6c",
            "2628551e8fa84d53882b69f7a93ddacb",
            "79c295b8ba3a4e22b6c5c54a9342ae0d",
            "48a911f47f5b400480499da294e36e56",
            "4d811d9030ab44868abc81e8e9561da4",
            "b2334f242e1a44189a15dfa51610eeb5",
            "50d66af209194b12ac3de6d45a4f04d0",
            "f872e762ca9a4526bacccae0350633e1",
            "2491a10a491645f59865435b4517b3d3",
            "50286b25e438423787a1372c0fe64351",
            "7267cdc4718c422bbe58ffaf6f204c8a",
            "87b194b83193454fb689fb1e7620f43d",
            "7349e24a70ff4a7f8628960fda3e3d04",
            "6a3565f221cc473d91ed453db1dc4e69",
            "4b9dd95152f648a09c59e36174d81ea5",
            "f83ca2dec2b845f2bcf6bd229908d9b5",
            "84a44d968d834ab2baeba6acc523c2b3",
            "18e6f28671554fb49c60906fc9f11f3c",
            "ad76d9ee132c4592ab623430adf98a43",
            "fc58a880f0124dbd98878fd750d92d9c",
            "e9ac0a47954d438fb40fca58e458eebb",
            "b44e9bef877f46139f4685dd5c806601",
            "6dbf1146483b409d969556d77bad7637",
            "6d259309320e4214aa11b54e29f04243",
            "cebb8df5ce054cae9be23de7198c7f8f",
            "96bcb57ba17a460c8dc0c375d1582d52",
            "4ea7e7de052b43d99397487d2bf12b37",
            "86b5dc6270c14fd8b60ce9345ebd3fe2",
            "71f75a061a764f419be10af8d97ff986",
            "02821140c6e8421db5ef69d6e657c5f7",
            "1d69d8c5ac454c93985e7ab62bc86ade",
            "f4cdd36581c44e4da997ae2d1b9e8793",
            "d3789fd3c2034133a48323e6910dd3b5",
            "45969bb3bf83420da59e4d56d755ecd2",
            "2e783dd171624306a6280e49194a6e93",
            "1480ff94b49e4ee19fc37c13dc8b4972",
            "dd8bcf9c906e4a3e990f61c02cc4690c",
            "012204798fd548e0bb90841f60207cbd",
            "8b7ed7246d374f3b80e66bf41fddb7b7",
            "c390aaad150c42b48e843ebd17cdd0e4",
            "948944e7f4b948aaaad23129a6c895c4"
          ]
        },
        "id": "gqWUFbF74g6-",
        "outputId": "dbf70e9f-17fb-4083-ab83-595a24d8807e"
      },
      "execution_count": null,
      "outputs": [
        {
          "output_type": "stream",
          "name": "stdout",
          "text": [
            "\u001b[1mDownloading and preparing dataset 2.64 MiB (download: 2.64 MiB, generated: 13.01 MiB, total: 15.66 MiB) to ~/tensorflow_datasets/diamonds/1.0.0...\u001b[0m\n"
          ]
        },
        {
          "output_type": "display_data",
          "data": {
            "text/plain": [
              "Dl Completed...: 0 url [00:00, ? url/s]"
            ],
            "application/vnd.jupyter.widget-view+json": {
              "version_major": 2,
              "version_minor": 0,
              "model_id": "55117798c524408b8266a1b8d566d52e"
            }
          },
          "metadata": {}
        },
        {
          "output_type": "display_data",
          "data": {
            "text/plain": [
              "Dl Size...: 0 MiB [00:00, ? MiB/s]"
            ],
            "application/vnd.jupyter.widget-view+json": {
              "version_major": 2,
              "version_minor": 0,
              "model_id": "01ec9173c7bc4c0bae1a4dec22b8dc50"
            }
          },
          "metadata": {}
        },
        {
          "output_type": "display_data",
          "data": {
            "text/plain": [
              "Generating splits...:   0%|          | 0/1 [00:00<?, ? splits/s]"
            ],
            "application/vnd.jupyter.widget-view+json": {
              "version_major": 2,
              "version_minor": 0,
              "model_id": "2491a10a491645f59865435b4517b3d3"
            }
          },
          "metadata": {}
        },
        {
          "output_type": "display_data",
          "data": {
            "text/plain": [
              "Generating train examples...:   0%|          | 0/53940 [00:00<?, ? examples/s]"
            ],
            "application/vnd.jupyter.widget-view+json": {
              "version_major": 2,
              "version_minor": 0,
              "model_id": "fc58a880f0124dbd98878fd750d92d9c"
            }
          },
          "metadata": {}
        },
        {
          "output_type": "display_data",
          "data": {
            "text/plain": [
              "Shuffling ~/tensorflow_datasets/diamonds/1.0.0.incomplete2WUPHV/diamonds-train.tfrecord*...:   0%|          | …"
            ],
            "application/vnd.jupyter.widget-view+json": {
              "version_major": 2,
              "version_minor": 0,
              "model_id": "1d69d8c5ac454c93985e7ab62bc86ade"
            }
          },
          "metadata": {}
        },
        {
          "output_type": "stream",
          "name": "stdout",
          "text": [
            "\u001b[1mDataset diamonds downloaded and prepared to ~/tensorflow_datasets/diamonds/1.0.0. Subsequent calls will reuse this data.\u001b[0m\n"
          ]
        },
        {
          "output_type": "execute_result",
          "data": {
            "text/plain": [
              "   features/carat  features/clarity  features/color  features/cut  \\\n",
              "0            1.26                 2               4             2   \n",
              "1            0.80                 3               4             4   \n",
              "2            0.56                 4               2             4   \n",
              "3            1.51                 3               6             1   \n",
              "4            0.33                 6               5             4   \n",
              "\n",
              "   features/depth  features/table  features/x  features/y  features/z   price  \n",
              "0       60.599998            60.0        6.97        7.00        4.23  6546.0  \n",
              "1       62.099998            54.0        5.96        5.99        3.71  3030.0  \n",
              "2       61.700001            54.0        5.28        5.32        3.27  1915.0  \n",
              "3       64.000000            58.0        7.24        7.27        4.64  6936.0  \n",
              "4       62.200001            54.0        4.43        4.45        2.76   646.0  "
            ],
            "text/html": [
              "\n",
              "  <div id=\"df-4be189f1-47ae-4899-8a58-4e797f2f18d5\">\n",
              "    <div class=\"colab-df-container\">\n",
              "      <div>\n",
              "<style scoped>\n",
              "    .dataframe tbody tr th:only-of-type {\n",
              "        vertical-align: middle;\n",
              "    }\n",
              "\n",
              "    .dataframe tbody tr th {\n",
              "        vertical-align: top;\n",
              "    }\n",
              "\n",
              "    .dataframe thead th {\n",
              "        text-align: right;\n",
              "    }\n",
              "</style>\n",
              "<table border=\"1\" class=\"dataframe\">\n",
              "  <thead>\n",
              "    <tr style=\"text-align: right;\">\n",
              "      <th></th>\n",
              "      <th>features/carat</th>\n",
              "      <th>features/clarity</th>\n",
              "      <th>features/color</th>\n",
              "      <th>features/cut</th>\n",
              "      <th>features/depth</th>\n",
              "      <th>features/table</th>\n",
              "      <th>features/x</th>\n",
              "      <th>features/y</th>\n",
              "      <th>features/z</th>\n",
              "      <th>price</th>\n",
              "    </tr>\n",
              "  </thead>\n",
              "  <tbody>\n",
              "    <tr>\n",
              "      <th>0</th>\n",
              "      <td>1.26</td>\n",
              "      <td>2</td>\n",
              "      <td>4</td>\n",
              "      <td>2</td>\n",
              "      <td>60.599998</td>\n",
              "      <td>60.0</td>\n",
              "      <td>6.97</td>\n",
              "      <td>7.00</td>\n",
              "      <td>4.23</td>\n",
              "      <td>6546.0</td>\n",
              "    </tr>\n",
              "    <tr>\n",
              "      <th>1</th>\n",
              "      <td>0.80</td>\n",
              "      <td>3</td>\n",
              "      <td>4</td>\n",
              "      <td>4</td>\n",
              "      <td>62.099998</td>\n",
              "      <td>54.0</td>\n",
              "      <td>5.96</td>\n",
              "      <td>5.99</td>\n",
              "      <td>3.71</td>\n",
              "      <td>3030.0</td>\n",
              "    </tr>\n",
              "    <tr>\n",
              "      <th>2</th>\n",
              "      <td>0.56</td>\n",
              "      <td>4</td>\n",
              "      <td>2</td>\n",
              "      <td>4</td>\n",
              "      <td>61.700001</td>\n",
              "      <td>54.0</td>\n",
              "      <td>5.28</td>\n",
              "      <td>5.32</td>\n",
              "      <td>3.27</td>\n",
              "      <td>1915.0</td>\n",
              "    </tr>\n",
              "    <tr>\n",
              "      <th>3</th>\n",
              "      <td>1.51</td>\n",
              "      <td>3</td>\n",
              "      <td>6</td>\n",
              "      <td>1</td>\n",
              "      <td>64.000000</td>\n",
              "      <td>58.0</td>\n",
              "      <td>7.24</td>\n",
              "      <td>7.27</td>\n",
              "      <td>4.64</td>\n",
              "      <td>6936.0</td>\n",
              "    </tr>\n",
              "    <tr>\n",
              "      <th>4</th>\n",
              "      <td>0.33</td>\n",
              "      <td>6</td>\n",
              "      <td>5</td>\n",
              "      <td>4</td>\n",
              "      <td>62.200001</td>\n",
              "      <td>54.0</td>\n",
              "      <td>4.43</td>\n",
              "      <td>4.45</td>\n",
              "      <td>2.76</td>\n",
              "      <td>646.0</td>\n",
              "    </tr>\n",
              "  </tbody>\n",
              "</table>\n",
              "</div>\n",
              "      <button class=\"colab-df-convert\" onclick=\"convertToInteractive('df-4be189f1-47ae-4899-8a58-4e797f2f18d5')\"\n",
              "              title=\"Convert this dataframe to an interactive table.\"\n",
              "              style=\"display:none;\">\n",
              "        \n",
              "  <svg xmlns=\"http://www.w3.org/2000/svg\" height=\"24px\"viewBox=\"0 0 24 24\"\n",
              "       width=\"24px\">\n",
              "    <path d=\"M0 0h24v24H0V0z\" fill=\"none\"/>\n",
              "    <path d=\"M18.56 5.44l.94 2.06.94-2.06 2.06-.94-2.06-.94-.94-2.06-.94 2.06-2.06.94zm-11 1L8.5 8.5l.94-2.06 2.06-.94-2.06-.94L8.5 2.5l-.94 2.06-2.06.94zm10 10l.94 2.06.94-2.06 2.06-.94-2.06-.94-.94-2.06-.94 2.06-2.06.94z\"/><path d=\"M17.41 7.96l-1.37-1.37c-.4-.4-.92-.59-1.43-.59-.52 0-1.04.2-1.43.59L10.3 9.45l-7.72 7.72c-.78.78-.78 2.05 0 2.83L4 21.41c.39.39.9.59 1.41.59.51 0 1.02-.2 1.41-.59l7.78-7.78 2.81-2.81c.8-.78.8-2.07 0-2.86zM5.41 20L4 18.59l7.72-7.72 1.47 1.35L5.41 20z\"/>\n",
              "  </svg>\n",
              "      </button>\n",
              "      \n",
              "  <style>\n",
              "    .colab-df-container {\n",
              "      display:flex;\n",
              "      flex-wrap:wrap;\n",
              "      gap: 12px;\n",
              "    }\n",
              "\n",
              "    .colab-df-convert {\n",
              "      background-color: #E8F0FE;\n",
              "      border: none;\n",
              "      border-radius: 50%;\n",
              "      cursor: pointer;\n",
              "      display: none;\n",
              "      fill: #1967D2;\n",
              "      height: 32px;\n",
              "      padding: 0 0 0 0;\n",
              "      width: 32px;\n",
              "    }\n",
              "\n",
              "    .colab-df-convert:hover {\n",
              "      background-color: #E2EBFA;\n",
              "      box-shadow: 0px 1px 2px rgba(60, 64, 67, 0.3), 0px 1px 3px 1px rgba(60, 64, 67, 0.15);\n",
              "      fill: #174EA6;\n",
              "    }\n",
              "\n",
              "    [theme=dark] .colab-df-convert {\n",
              "      background-color: #3B4455;\n",
              "      fill: #D2E3FC;\n",
              "    }\n",
              "\n",
              "    [theme=dark] .colab-df-convert:hover {\n",
              "      background-color: #434B5C;\n",
              "      box-shadow: 0px 1px 3px 1px rgba(0, 0, 0, 0.15);\n",
              "      filter: drop-shadow(0px 1px 2px rgba(0, 0, 0, 0.3));\n",
              "      fill: #FFFFFF;\n",
              "    }\n",
              "  </style>\n",
              "\n",
              "      <script>\n",
              "        const buttonEl =\n",
              "          document.querySelector('#df-4be189f1-47ae-4899-8a58-4e797f2f18d5 button.colab-df-convert');\n",
              "        buttonEl.style.display =\n",
              "          google.colab.kernel.accessAllowed ? 'block' : 'none';\n",
              "\n",
              "        async function convertToInteractive(key) {\n",
              "          const element = document.querySelector('#df-4be189f1-47ae-4899-8a58-4e797f2f18d5');\n",
              "          const dataTable =\n",
              "            await google.colab.kernel.invokeFunction('convertToInteractive',\n",
              "                                                     [key], {});\n",
              "          if (!dataTable) return;\n",
              "\n",
              "          const docLinkHtml = 'Like what you see? Visit the ' +\n",
              "            '<a target=\"_blank\" href=https://colab.research.google.com/notebooks/data_table.ipynb>data table notebook</a>'\n",
              "            + ' to learn more about interactive tables.';\n",
              "          element.innerHTML = '';\n",
              "          dataTable['output_type'] = 'display_data';\n",
              "          await google.colab.output.renderOutput(dataTable, element);\n",
              "          const docLink = document.createElement('div');\n",
              "          docLink.innerHTML = docLinkHtml;\n",
              "          element.appendChild(docLink);\n",
              "        }\n",
              "      </script>\n",
              "    </div>\n",
              "  </div>\n",
              "  "
            ]
          },
          "metadata": {},
          "execution_count": 3
        }
      ]
    },
    {
      "cell_type": "code",
      "source": [
        "x = np.array(df['features/carat'])\n",
        "y = np.array(df['features/x'])\n",
        "x.shape, y.shape"
      ],
      "metadata": {
        "colab": {
          "base_uri": "https://localhost:8080/"
        },
        "id": "SS860yUl-EDV",
        "outputId": "dbc73f0b-fcfb-4af6-a17a-ac7ab50840b4"
      },
      "execution_count": null,
      "outputs": [
        {
          "output_type": "execute_result",
          "data": {
            "text/plain": [
              "((53940,), (53940,))"
            ]
          },
          "metadata": {},
          "execution_count": 4
        }
      ]
    },
    {
      "cell_type": "markdown",
      "source": [
        "2. Решите задачу полиномиальной регрессии для степени полинома, указанной в индивидуальном задании, при помощи нейронной сети с одним нейроном и оцените качество полученной модели по показателю, указанному в индивидуальном задании."
      ],
      "metadata": {
        "id": "lxRA-bQQMf38"
      }
    },
    {
      "cell_type": "code",
      "source": [
        "X5 = np.array([x**n for n in range(1, 6)]).T\n",
        "X5.shape"
      ],
      "metadata": {
        "colab": {
          "base_uri": "https://localhost:8080/"
        },
        "id": "rW5yx0Ud_JbK",
        "outputId": "2dfca7c5-08a5-4823-ea02-761676a25d5d"
      },
      "execution_count": null,
      "outputs": [
        {
          "output_type": "execute_result",
          "data": {
            "text/plain": [
              "(53940, 5)"
            ]
          },
          "metadata": {},
          "execution_count": 5
        }
      ]
    },
    {
      "cell_type": "code",
      "source": [
        "reg_model = tf.keras.Sequential([\n",
        "    tf.keras.Input(shape=(5,)),\n",
        "    tf.keras.layers.Dense(units=1)\n",
        "])\n",
        "reg_model.summary()"
      ],
      "metadata": {
        "colab": {
          "base_uri": "https://localhost:8080/"
        },
        "id": "ODInCcgJ98SS",
        "outputId": "137a682c-6563-4b02-d233-9aa8a2fce1b4"
      },
      "execution_count": null,
      "outputs": [
        {
          "output_type": "stream",
          "name": "stdout",
          "text": [
            "Model: \"sequential\"\n",
            "_________________________________________________________________\n",
            " Layer (type)                Output Shape              Param #   \n",
            "=================================================================\n",
            " dense (Dense)               (None, 1)                 6         \n",
            "                                                                 \n",
            "=================================================================\n",
            "Total params: 6\n",
            "Trainable params: 6\n",
            "Non-trainable params: 0\n",
            "_________________________________________________________________\n"
          ]
        }
      ]
    },
    {
      "cell_type": "code",
      "source": [
        "reg_model.compile(\n",
        "    optimizer=tf.optimizers.Adam(learning_rate=0.1),\n",
        "    loss='mean_absolute_error')"
      ],
      "metadata": {
        "id": "CCrshwc-_p6s"
      },
      "execution_count": null,
      "outputs": []
    },
    {
      "cell_type": "code",
      "source": [
        "history = reg_model.fit(\n",
        "    X5, y,\n",
        "    epochs=100,\n",
        "    # уровень выводимой информации\n",
        "    verbose=1,\n",
        "    # проверка (валидация) на 20% обучающих данных\n",
        "    validation_split = 0.2)"
      ],
      "metadata": {
        "colab": {
          "base_uri": "https://localhost:8080/"
        },
        "id": "z9Q2C4aJAcXc",
        "outputId": "ede22d7e-0bda-4297-e753-194d5c4d14f3"
      },
      "execution_count": null,
      "outputs": [
        {
          "output_type": "stream",
          "name": "stdout",
          "text": [
            "Epoch 1/100\n",
            "1349/1349 [==============================] - 3s 2ms/step - loss: 0.3473 - val_loss: 0.1579\n",
            "Epoch 2/100\n",
            "1349/1349 [==============================] - 3s 2ms/step - loss: 0.2761 - val_loss: 0.1978\n",
            "Epoch 3/100\n",
            "1349/1349 [==============================] - 3s 2ms/step - loss: 0.2778 - val_loss: 0.8562\n",
            "Epoch 4/100\n",
            "1349/1349 [==============================] - 2s 2ms/step - loss: 0.3048 - val_loss: 0.1791\n",
            "Epoch 5/100\n",
            "1349/1349 [==============================] - 2s 2ms/step - loss: 0.2655 - val_loss: 0.0855\n",
            "Epoch 6/100\n",
            "1349/1349 [==============================] - 4s 3ms/step - loss: 0.2896 - val_loss: 0.1254\n",
            "Epoch 7/100\n",
            "1349/1349 [==============================] - 2s 2ms/step - loss: 0.2522 - val_loss: 0.1391\n",
            "Epoch 8/100\n",
            "1349/1349 [==============================] - 2s 2ms/step - loss: 0.2776 - val_loss: 0.2133\n",
            "Epoch 9/100\n",
            "1349/1349 [==============================] - 3s 2ms/step - loss: 0.2868 - val_loss: 0.1414\n",
            "Epoch 10/100\n",
            "1349/1349 [==============================] - 2s 2ms/step - loss: 0.2987 - val_loss: 0.2261\n",
            "Epoch 11/100\n",
            "1349/1349 [==============================] - 3s 2ms/step - loss: 0.2605 - val_loss: 0.2397\n",
            "Epoch 12/100\n",
            "1349/1349 [==============================] - 2s 2ms/step - loss: 0.3098 - val_loss: 0.1084\n",
            "Epoch 13/100\n",
            "1349/1349 [==============================] - 2s 2ms/step - loss: 0.2746 - val_loss: 0.2302\n",
            "Epoch 14/100\n",
            "1349/1349 [==============================] - 3s 2ms/step - loss: 0.2674 - val_loss: 0.1086\n",
            "Epoch 15/100\n",
            "1349/1349 [==============================] - 2s 2ms/step - loss: 0.2876 - val_loss: 0.0814\n",
            "Epoch 16/100\n",
            "1349/1349 [==============================] - 2s 2ms/step - loss: 0.2806 - val_loss: 0.1637\n",
            "Epoch 17/100\n",
            "1349/1349 [==============================] - 4s 3ms/step - loss: 0.3097 - val_loss: 0.1240\n",
            "Epoch 18/100\n",
            "1349/1349 [==============================] - 2s 2ms/step - loss: 0.2694 - val_loss: 0.2826\n",
            "Epoch 19/100\n",
            "1349/1349 [==============================] - 2s 2ms/step - loss: 0.3251 - val_loss: 0.0919\n",
            "Epoch 20/100\n",
            "1349/1349 [==============================] - 3s 2ms/step - loss: 0.2662 - val_loss: 0.1477\n",
            "Epoch 21/100\n",
            "1349/1349 [==============================] - 2s 2ms/step - loss: 0.2700 - val_loss: 1.1015\n",
            "Epoch 22/100\n",
            "1349/1349 [==============================] - 2s 2ms/step - loss: 0.3002 - val_loss: 0.1278\n",
            "Epoch 23/100\n",
            "1349/1349 [==============================] - 2s 2ms/step - loss: 0.2856 - val_loss: 0.1348\n",
            "Epoch 24/100\n",
            "1349/1349 [==============================] - 2s 2ms/step - loss: 0.2648 - val_loss: 0.1532\n",
            "Epoch 25/100\n",
            "1349/1349 [==============================] - 2s 2ms/step - loss: 0.2845 - val_loss: 0.0690\n",
            "Epoch 26/100\n",
            "1349/1349 [==============================] - 2s 2ms/step - loss: 0.3092 - val_loss: 0.1264\n",
            "Epoch 27/100\n",
            "1349/1349 [==============================] - 3s 2ms/step - loss: 0.2790 - val_loss: 0.1783\n",
            "Epoch 28/100\n",
            "1349/1349 [==============================] - 2s 2ms/step - loss: 0.2835 - val_loss: 0.1106\n",
            "Epoch 29/100\n",
            "1349/1349 [==============================] - 3s 2ms/step - loss: 0.2907 - val_loss: 0.1315\n",
            "Epoch 30/100\n",
            "1349/1349 [==============================] - 3s 2ms/step - loss: 0.3322 - val_loss: 0.2106\n",
            "Epoch 31/100\n",
            "1349/1349 [==============================] - 2s 2ms/step - loss: 0.3005 - val_loss: 0.2078\n",
            "Epoch 32/100\n",
            "1349/1349 [==============================] - 2s 2ms/step - loss: 0.3108 - val_loss: 0.0940\n",
            "Epoch 33/100\n",
            "1349/1349 [==============================] - 2s 2ms/step - loss: 0.2936 - val_loss: 0.1643\n",
            "Epoch 34/100\n",
            "1349/1349 [==============================] - 3s 2ms/step - loss: 0.2938 - val_loss: 0.1065\n",
            "Epoch 35/100\n",
            "1349/1349 [==============================] - 2s 2ms/step - loss: 0.2938 - val_loss: 0.0933\n",
            "Epoch 36/100\n",
            "1349/1349 [==============================] - 2s 2ms/step - loss: 0.2896 - val_loss: 0.7175\n",
            "Epoch 37/100\n",
            "1349/1349 [==============================] - 2s 2ms/step - loss: 0.3301 - val_loss: 0.1122\n",
            "Epoch 38/100\n",
            "1349/1349 [==============================] - 2s 2ms/step - loss: 0.2844 - val_loss: 0.0821\n",
            "Epoch 39/100\n",
            "1349/1349 [==============================] - 3s 2ms/step - loss: 0.3105 - val_loss: 0.1405\n",
            "Epoch 40/100\n",
            "1349/1349 [==============================] - 3s 2ms/step - loss: 0.2818 - val_loss: 0.2025\n",
            "Epoch 41/100\n",
            "1349/1349 [==============================] - 2s 2ms/step - loss: 0.2412 - val_loss: 0.1317\n",
            "Epoch 42/100\n",
            "1349/1349 [==============================] - 2s 2ms/step - loss: 0.2769 - val_loss: 0.1412\n",
            "Epoch 43/100\n",
            "1349/1349 [==============================] - 3s 2ms/step - loss: 0.2679 - val_loss: 0.1847\n",
            "Epoch 44/100\n",
            "1349/1349 [==============================] - 2s 2ms/step - loss: 0.2770 - val_loss: 0.9453\n",
            "Epoch 45/100\n",
            "1349/1349 [==============================] - 3s 2ms/step - loss: 0.3381 - val_loss: 0.4804\n",
            "Epoch 46/100\n",
            "1349/1349 [==============================] - 3s 2ms/step - loss: 0.2707 - val_loss: 0.4376\n",
            "Epoch 47/100\n",
            "1349/1349 [==============================] - 3s 2ms/step - loss: 0.3204 - val_loss: 0.2477\n",
            "Epoch 48/100\n",
            "1349/1349 [==============================] - 2s 2ms/step - loss: 0.2646 - val_loss: 0.2721\n",
            "Epoch 49/100\n",
            "1349/1349 [==============================] - 3s 2ms/step - loss: 0.3000 - val_loss: 0.1617\n",
            "Epoch 50/100\n",
            "1349/1349 [==============================] - 2s 2ms/step - loss: 0.2705 - val_loss: 0.1791\n",
            "Epoch 51/100\n",
            "1349/1349 [==============================] - 2s 2ms/step - loss: 0.2156 - val_loss: 0.1506\n",
            "Epoch 52/100\n",
            "1349/1349 [==============================] - 3s 2ms/step - loss: 0.3024 - val_loss: 0.1012\n",
            "Epoch 53/100\n",
            "1349/1349 [==============================] - 2s 2ms/step - loss: 0.2926 - val_loss: 0.0621\n",
            "Epoch 54/100\n",
            "1349/1349 [==============================] - 2s 2ms/step - loss: 0.2875 - val_loss: 0.0681\n",
            "Epoch 55/100\n",
            "1349/1349 [==============================] - 3s 2ms/step - loss: 0.2894 - val_loss: 0.5519\n",
            "Epoch 56/100\n",
            "1349/1349 [==============================] - 3s 2ms/step - loss: 0.2994 - val_loss: 0.2007\n",
            "Epoch 57/100\n",
            "1349/1349 [==============================] - 2s 2ms/step - loss: 0.3289 - val_loss: 0.1289\n",
            "Epoch 58/100\n",
            "1349/1349 [==============================] - 2s 2ms/step - loss: 0.2667 - val_loss: 0.1217\n",
            "Epoch 59/100\n",
            "1349/1349 [==============================] - 3s 2ms/step - loss: 0.2797 - val_loss: 0.0601\n",
            "Epoch 60/100\n",
            "1349/1349 [==============================] - 3s 2ms/step - loss: 0.2865 - val_loss: 0.3311\n",
            "Epoch 61/100\n",
            "1349/1349 [==============================] - 2s 2ms/step - loss: 0.2530 - val_loss: 0.0992\n",
            "Epoch 62/100\n",
            "1349/1349 [==============================] - 3s 2ms/step - loss: 0.3324 - val_loss: 0.2060\n",
            "Epoch 63/100\n",
            "1349/1349 [==============================] - 3s 2ms/step - loss: 0.2748 - val_loss: 0.1171\n",
            "Epoch 64/100\n",
            "1349/1349 [==============================] - 2s 2ms/step - loss: 0.3002 - val_loss: 0.1611\n",
            "Epoch 65/100\n",
            "1349/1349 [==============================] - 3s 2ms/step - loss: 0.3327 - val_loss: 0.1450\n",
            "Epoch 66/100\n",
            "1349/1349 [==============================] - 3s 2ms/step - loss: 0.2841 - val_loss: 0.0837\n",
            "Epoch 67/100\n",
            "1349/1349 [==============================] - 2s 2ms/step - loss: 0.2666 - val_loss: 0.1551\n",
            "Epoch 68/100\n",
            "1349/1349 [==============================] - 3s 2ms/step - loss: 0.2853 - val_loss: 0.3625\n",
            "Epoch 69/100\n",
            "1349/1349 [==============================] - 2s 2ms/step - loss: 0.2840 - val_loss: 0.1152\n",
            "Epoch 70/100\n",
            "1349/1349 [==============================] - 3s 2ms/step - loss: 0.2852 - val_loss: 0.0822\n",
            "Epoch 71/100\n",
            "1349/1349 [==============================] - 2s 2ms/step - loss: 0.2565 - val_loss: 0.6050\n",
            "Epoch 72/100\n",
            "1349/1349 [==============================] - 2s 2ms/step - loss: 0.2919 - val_loss: 0.0883\n",
            "Epoch 73/100\n",
            "1349/1349 [==============================] - 2s 2ms/step - loss: 0.2941 - val_loss: 0.3625\n",
            "Epoch 74/100\n",
            "1349/1349 [==============================] - 2s 2ms/step - loss: 0.3139 - val_loss: 0.1324\n",
            "Epoch 75/100\n",
            "1349/1349 [==============================] - 3s 2ms/step - loss: 0.2553 - val_loss: 0.3044\n",
            "Epoch 76/100\n",
            "1349/1349 [==============================] - 3s 2ms/step - loss: 0.3326 - val_loss: 0.1810\n",
            "Epoch 77/100\n",
            "1349/1349 [==============================] - 2s 2ms/step - loss: 0.2872 - val_loss: 0.4276\n",
            "Epoch 78/100\n",
            "1349/1349 [==============================] - 3s 2ms/step - loss: 0.2733 - val_loss: 0.0978\n",
            "Epoch 79/100\n",
            "1349/1349 [==============================] - 2s 2ms/step - loss: 0.2722 - val_loss: 0.1535\n",
            "Epoch 80/100\n",
            "1349/1349 [==============================] - 2s 2ms/step - loss: 0.2793 - val_loss: 0.1079\n",
            "Epoch 81/100\n",
            "1349/1349 [==============================] - 2s 2ms/step - loss: 0.3277 - val_loss: 0.4255\n",
            "Epoch 82/100\n",
            "1349/1349 [==============================] - 2s 2ms/step - loss: 0.2832 - val_loss: 0.1957\n",
            "Epoch 83/100\n",
            "1349/1349 [==============================] - 2s 2ms/step - loss: 0.2933 - val_loss: 0.2043\n",
            "Epoch 84/100\n",
            "1349/1349 [==============================] - 3s 2ms/step - loss: 0.3077 - val_loss: 0.1258\n",
            "Epoch 85/100\n",
            "1349/1349 [==============================] - 2s 2ms/step - loss: 0.2396 - val_loss: 0.0655\n",
            "Epoch 86/100\n",
            "1349/1349 [==============================] - 3s 2ms/step - loss: 0.3124 - val_loss: 0.0820\n",
            "Epoch 87/100\n",
            "1349/1349 [==============================] - 3s 2ms/step - loss: 0.2716 - val_loss: 0.1597\n",
            "Epoch 88/100\n",
            "1349/1349 [==============================] - 2s 2ms/step - loss: 0.2963 - val_loss: 0.0841\n",
            "Epoch 89/100\n",
            "1349/1349 [==============================] - 3s 2ms/step - loss: 0.2838 - val_loss: 0.5156\n",
            "Epoch 90/100\n",
            "1349/1349 [==============================] - 2s 2ms/step - loss: 0.2718 - val_loss: 0.6342\n",
            "Epoch 91/100\n",
            "1349/1349 [==============================] - 3s 2ms/step - loss: 0.3008 - val_loss: 0.1734\n",
            "Epoch 92/100\n",
            "1349/1349 [==============================] - 2s 2ms/step - loss: 0.2675 - val_loss: 0.2269\n",
            "Epoch 93/100\n",
            "1349/1349 [==============================] - 2s 2ms/step - loss: 0.2895 - val_loss: 0.2513\n",
            "Epoch 94/100\n",
            "1349/1349 [==============================] - 3s 2ms/step - loss: 0.2881 - val_loss: 0.3633\n",
            "Epoch 95/100\n",
            "1349/1349 [==============================] - 3s 2ms/step - loss: 0.2962 - val_loss: 0.1299\n",
            "Epoch 96/100\n",
            "1349/1349 [==============================] - 2s 2ms/step - loss: 0.2720 - val_loss: 0.1061\n",
            "Epoch 97/100\n",
            "1349/1349 [==============================] - 3s 2ms/step - loss: 0.2725 - val_loss: 0.4182\n",
            "Epoch 98/100\n",
            "1349/1349 [==============================] - 2s 2ms/step - loss: 0.2961 - val_loss: 0.2691\n",
            "Epoch 99/100\n",
            "1349/1349 [==============================] - 3s 2ms/step - loss: 0.2891 - val_loss: 0.1063\n",
            "Epoch 100/100\n",
            "1349/1349 [==============================] - 2s 2ms/step - loss: 0.2639 - val_loss: 0.0867\n"
          ]
        }
      ]
    },
    {
      "cell_type": "code",
      "source": [
        "y_predict_reg = reg_model.predict(X5)\n",
        "y_predict_reg.shape"
      ],
      "metadata": {
        "colab": {
          "base_uri": "https://localhost:8080/"
        },
        "id": "quOeXElKBiHK",
        "outputId": "92af5cce-8eeb-4b26-9c0b-bd303508d261"
      },
      "execution_count": null,
      "outputs": [
        {
          "output_type": "execute_result",
          "data": {
            "text/plain": [
              "(53940, 1)"
            ]
          },
          "metadata": {},
          "execution_count": 24
        }
      ]
    },
    {
      "cell_type": "code",
      "source": [
        "y_predict_reg = y_predict_reg.reshape((53940,))"
      ],
      "metadata": {
        "id": "nUbFNNhPJ9KR"
      },
      "execution_count": null,
      "outputs": []
    },
    {
      "cell_type": "code",
      "source": [
        "mse = np.sum((y_predict_reg - y)**2) / len(y)\n",
        "1 - mse/np.var(y)"
      ],
      "metadata": {
        "colab": {
          "base_uri": "https://localhost:8080/"
        },
        "id": "SD2Yc-V-IVkh",
        "outputId": "67643d81-a77d-43cf-9da1-571c45e58554"
      },
      "execution_count": null,
      "outputs": [
        {
          "output_type": "execute_result",
          "data": {
            "text/plain": [
              "0.9743582645008304"
            ]
          },
          "metadata": {},
          "execution_count": 26
        }
      ]
    },
    {
      "cell_type": "markdown",
      "source": [
        "3. Постройте кривые обучения с зависимостью от количества эпох."
      ],
      "metadata": {
        "id": "StpDnvMRMorX"
      }
    },
    {
      "cell_type": "code",
      "execution_count": null,
      "metadata": {
        "id": "0UC0XgsXDZgb"
      },
      "outputs": [],
      "source": [
        "def plot_loss(history):\n",
        "  plt.plot(history.history['loss'])\n",
        "  plt.plot(history.history['val_loss'])\n",
        "  plt.ylim([0, max(history.history['val_loss'])])\n",
        "  plt.title('Функция потерь при обучении модели')\n",
        "  plt.xlabel('Эпохи обучения')\n",
        "  plt.ylabel('Функция потерь')\n",
        "  plt.legend(['Обучающая выборка', 'Тестовая выборка'], loc='upper right')\n",
        "  plt.grid(True)"
      ]
    },
    {
      "cell_type": "code",
      "source": [
        "plot_loss(history)"
      ],
      "metadata": {
        "colab": {
          "base_uri": "https://localhost:8080/",
          "height": 295
        },
        "id": "cJ2Yf1Z7FRA1",
        "outputId": "ce6e7cc8-d3d0-4753-f6e7-9ca9ba91c375"
      },
      "execution_count": null,
      "outputs": [
        {
          "output_type": "display_data",
          "data": {
            "text/plain": [
              "<Figure size 432x288 with 1 Axes>"
            ],
            "image/png": "[encoded data removed]"
          },
          "metadata": {
            "needs_background": "light"
          }
        }
      ]
    },
    {
      "cell_type": "markdown",
      "source": [
        "4. Визуализируйте точки набора данных на плоскости в виде диаграммы рассеяния (ось X – независимый признак, ось Y – зависимый признак), а также линию регрессии (другим цветом), подписывая оси и рисунок."
      ],
      "metadata": {
        "id": "Nsh5qEGlMvAB"
      }
    },
    {
      "cell_type": "code",
      "source": [
        "plt.scatter(x, y, label='набор данных')\n",
        "plt.plot(np.sort(x), y_predict_reg[np.argsort(x)], color='r', label='прогноз')\n",
        "plt.legend(loc='upper left')\n",
        "plt.grid();"
      ],
      "metadata": {
        "colab": {
          "base_uri": "https://localhost:8080/",
          "height": 265
        },
        "id": "PPd_HzxOM1fZ",
        "outputId": "26cd6197-128c-4cc7-b1c5-9f696ddef2dc"
      },
      "execution_count": null,
      "outputs": [
        {
          "output_type": "display_data",
          "data": {
            "text/plain": [
              "<Figure size 432x288 with 1 Axes>"
            ],
            "image/png": "[encoded data removed]"
          },
          "metadata": {
            "needs_background": "light"
          }
        }
      ]
    },
    {
      "cell_type": "markdown",
      "source": [
        "5. Определите в исходном наборе данных признак (отличный от независимого и зависимого признаков), принимающий непрерывные значения и имеющий свойства, указанные в индивидуальном задании."
      ],
      "metadata": {
        "id": "D9syGR0hQMmW"
      }
    },
    {
      "cell_type": "code",
      "source": [
        "df.cov()"
      ],
      "metadata": {
        "colab": {
          "base_uri": "https://localhost:8080/",
          "height": 363
        },
        "id": "S_FNWX5oQO2P",
        "outputId": "9f726da7-4c93-466d-e404-deb6cd31aba7"
      },
      "execution_count": null,
      "outputs": [
        {
          "output_type": "execute_result",
          "data": {
            "text/plain": [
              "                  features/carat  features/clarity  features/color  \\\n",
              "features/carat          0.224687         -0.275484        0.234998   \n",
              "features/clarity       -0.275484          2.713057        0.071818   \n",
              "features/color          0.234998          0.071818        2.893757   \n",
              "features/cut           -0.071435          0.347929       -0.038974   \n",
              "features/depth          0.019167         -0.159009        0.115221   \n",
              "features/table          0.192365         -0.590085        0.100597   \n",
              "features/x              0.518484         -0.687339        0.515770   \n",
              "features/y              0.515248         -0.674277        0.512116   \n",
              "features/z              0.318917         -0.426538        0.321998   \n",
              "price                1742.765358       -964.645300     1170.737650   \n",
              "\n",
              "                  features/cut  features/depth  features/table   features/x  \\\n",
              "features/carat       -0.071435        0.019167        0.192365     0.518484   \n",
              "features/clarity      0.347929       -0.159009       -0.590085    -0.687339   \n",
              "features/color       -0.038974        0.115221        0.100597     0.515770   \n",
              "features/cut          1.246795       -0.348815       -1.081358    -0.157278   \n",
              "features/depth       -0.348815        2.052404       -0.946840    -0.040641   \n",
              "features/table       -1.081358       -0.946840        4.992948     0.489643   \n",
              "features/x           -0.157278       -0.040641        0.489643     1.258347   \n",
              "features/y           -0.154901       -0.048009        0.468972     1.248789   \n",
              "features/z           -0.117664        0.095968        0.237996     0.768487   \n",
              "price              -238.279928      -60.853732     1133.318065  3958.021484   \n",
              "\n",
              "                   features/y   features/z         price  \n",
              "features/carat       0.515248     0.318917  1.742765e+03  \n",
              "features/clarity    -0.674277    -0.426538 -9.646453e+02  \n",
              "features/color       0.512116     0.321998  1.170738e+03  \n",
              "features/cut        -0.154901    -0.117664 -2.382799e+02  \n",
              "features/depth      -0.048009     0.095968 -6.085373e+01  \n",
              "features/table       0.468972     0.237996  1.133318e+03  \n",
              "features/x           1.248789     0.768487  3.958021e+03  \n",
              "features/y           1.304472     0.767320  3.943271e+03  \n",
              "features/z           0.767320     0.498011  2.424713e+03  \n",
              "price             3943.270809  2424.712609  1.591563e+07  "
            ],
            "text/html": [
              "\n",
              "  <div id=\"df-99508b59-4f13-4c22-bb2a-13cb4e8e2cd7\">\n",
              "    <div class=\"colab-df-container\">\n",
              "      <div>\n",
              "<style scoped>\n",
              "    .dataframe tbody tr th:only-of-type {\n",
              "        vertical-align: middle;\n",
              "    }\n",
              "\n",
              "    .dataframe tbody tr th {\n",
              "        vertical-align: top;\n",
              "    }\n",
              "\n",
              "    .dataframe thead th {\n",
              "        text-align: right;\n",
              "    }\n",
              "</style>\n",
              "<table border=\"1\" class=\"dataframe\">\n",
              "  <thead>\n",
              "    <tr style=\"text-align: right;\">\n",
              "      <th></th>\n",
              "      <th>features/carat</th>\n",
              "      <th>features/clarity</th>\n",
              "      <th>features/color</th>\n",
              "      <th>features/cut</th>\n",
              "      <th>features/depth</th>\n",
              "      <th>features/table</th>\n",
              "      <th>features/x</th>\n",
              "      <th>features/y</th>\n",
              "      <th>features/z</th>\n",
              "      <th>price</th>\n",
              "    </tr>\n",
              "  </thead>\n",
              "  <tbody>\n",
              "    <tr>\n",
              "      <th>features/carat</th>\n",
              "      <td>0.224687</td>\n",
              "      <td>-0.275484</td>\n",
              "      <td>0.234998</td>\n",
              "      <td>-0.071435</td>\n",
              "      <td>0.019167</td>\n",
              "      <td>0.192365</td>\n",
              "      <td>0.518484</td>\n",
              "      <td>0.515248</td>\n",
              "      <td>0.318917</td>\n",
              "      <td>1.742765e+03</td>\n",
              "    </tr>\n",
              "    <tr>\n",
              "      <th>features/clarity</th>\n",
              "      <td>-0.275484</td>\n",
              "      <td>2.713057</td>\n",
              "      <td>0.071818</td>\n",
              "      <td>0.347929</td>\n",
              "      <td>-0.159009</td>\n",
              "      <td>-0.590085</td>\n",
              "      <td>-0.687339</td>\n",
              "      <td>-0.674277</td>\n",
              "      <td>-0.426538</td>\n",
              "      <td>-9.646453e+02</td>\n",
              "    </tr>\n",
              "    <tr>\n",
              "      <th>features/color</th>\n",
              "      <td>0.234998</td>\n",
              "      <td>0.071818</td>\n",
              "      <td>2.893757</td>\n",
              "      <td>-0.038974</td>\n",
              "      <td>0.115221</td>\n",
              "      <td>0.100597</td>\n",
              "      <td>0.515770</td>\n",
              "      <td>0.512116</td>\n",
              "      <td>0.321998</td>\n",
              "      <td>1.170738e+03</td>\n",
              "    </tr>\n",
              "    <tr>\n",
              "      <th>features/cut</th>\n",
              "      <td>-0.071435</td>\n",
              "      <td>0.347929</td>\n",
              "      <td>-0.038974</td>\n",
              "      <td>1.246795</td>\n",
              "      <td>-0.348815</td>\n",
              "      <td>-1.081358</td>\n",
              "      <td>-0.157278</td>\n",
              "      <td>-0.154901</td>\n",
              "      <td>-0.117664</td>\n",
              "      <td>-2.382799e+02</td>\n",
              "    </tr>\n",
              "    <tr>\n",
              "      <th>features/depth</th>\n",
              "      <td>0.019167</td>\n",
              "      <td>-0.159009</td>\n",
              "      <td>0.115221</td>\n",
              "      <td>-0.348815</td>\n",
              "      <td>2.052404</td>\n",
              "      <td>-0.946840</td>\n",
              "      <td>-0.040641</td>\n",
              "      <td>-0.048009</td>\n",
              "      <td>0.095968</td>\n",
              "      <td>-6.085373e+01</td>\n",
              "    </tr>\n",
              "    <tr>\n",
              "      <th>features/table</th>\n",
              "      <td>0.192365</td>\n",
              "      <td>-0.590085</td>\n",
              "      <td>0.100597</td>\n",
              "      <td>-1.081358</td>\n",
              "      <td>-0.946840</td>\n",
              "      <td>4.992948</td>\n",
              "      <td>0.489643</td>\n",
              "      <td>0.468972</td>\n",
              "      <td>0.237996</td>\n",
              "      <td>1.133318e+03</td>\n",
              "    </tr>\n",
              "    <tr>\n",
              "      <th>features/x</th>\n",
              "      <td>0.518484</td>\n",
              "      <td>-0.687339</td>\n",
              "      <td>0.515770</td>\n",
              "      <td>-0.157278</td>\n",
              "      <td>-0.040641</td>\n",
              "      <td>0.489643</td>\n",
              "      <td>1.258347</td>\n",
              "      <td>1.248789</td>\n",
              "      <td>0.768487</td>\n",
              "      <td>3.958021e+03</td>\n",
              "    </tr>\n",
              "    <tr>\n",
              "      <th>features/y</th>\n",
              "      <td>0.515248</td>\n",
              "      <td>-0.674277</td>\n",
              "      <td>0.512116</td>\n",
              "      <td>-0.154901</td>\n",
              "      <td>-0.048009</td>\n",
              "      <td>0.468972</td>\n",
              "      <td>1.248789</td>\n",
              "      <td>1.304472</td>\n",
              "      <td>0.767320</td>\n",
              "      <td>3.943271e+03</td>\n",
              "    </tr>\n",
              "    <tr>\n",
              "      <th>features/z</th>\n",
              "      <td>0.318917</td>\n",
              "      <td>-0.426538</td>\n",
              "      <td>0.321998</td>\n",
              "      <td>-0.117664</td>\n",
              "      <td>0.095968</td>\n",
              "      <td>0.237996</td>\n",
              "      <td>0.768487</td>\n",
              "      <td>0.767320</td>\n",
              "      <td>0.498011</td>\n",
              "      <td>2.424713e+03</td>\n",
              "    </tr>\n",
              "    <tr>\n",
              "      <th>price</th>\n",
              "      <td>1742.765358</td>\n",
              "      <td>-964.645300</td>\n",
              "      <td>1170.737650</td>\n",
              "      <td>-238.279928</td>\n",
              "      <td>-60.853732</td>\n",
              "      <td>1133.318065</td>\n",
              "      <td>3958.021484</td>\n",
              "      <td>3943.270809</td>\n",
              "      <td>2424.712609</td>\n",
              "      <td>1.591563e+07</td>\n",
              "    </tr>\n",
              "  </tbody>\n",
              "</table>\n",
              "</div>\n",
              "      <button class=\"colab-df-convert\" onclick=\"convertToInteractive('df-99508b59-4f13-4c22-bb2a-13cb4e8e2cd7')\"\n",
              "              title=\"Convert this dataframe to an interactive table.\"\n",
              "              style=\"display:none;\">\n",
              "        \n",
              "  <svg xmlns=\"http://www.w3.org/2000/svg\" height=\"24px\"viewBox=\"0 0 24 24\"\n",
              "       width=\"24px\">\n",
              "    <path d=\"M0 0h24v24H0V0z\" fill=\"none\"/>\n",
              "    <path d=\"M18.56 5.44l.94 2.06.94-2.06 2.06-.94-2.06-.94-.94-2.06-.94 2.06-2.06.94zm-11 1L8.5 8.5l.94-2.06 2.06-.94-2.06-.94L8.5 2.5l-.94 2.06-2.06.94zm10 10l.94 2.06.94-2.06 2.06-.94-2.06-.94-.94-2.06-.94 2.06-2.06.94z\"/><path d=\"M17.41 7.96l-1.37-1.37c-.4-.4-.92-.59-1.43-.59-.52 0-1.04.2-1.43.59L10.3 9.45l-7.72 7.72c-.78.78-.78 2.05 0 2.83L4 21.41c.39.39.9.59 1.41.59.51 0 1.02-.2 1.41-.59l7.78-7.78 2.81-2.81c.8-.78.8-2.07 0-2.86zM5.41 20L4 18.59l7.72-7.72 1.47 1.35L5.41 20z\"/>\n",
              "  </svg>\n",
              "      </button>\n",
              "      \n",
              "  <style>\n",
              "    .colab-df-container {\n",
              "      display:flex;\n",
              "      flex-wrap:wrap;\n",
              "      gap: 12px;\n",
              "    }\n",
              "\n",
              "    .colab-df-convert {\n",
              "      background-color: #E8F0FE;\n",
              "      border: none;\n",
              "      border-radius: 50%;\n",
              "      cursor: pointer;\n",
              "      display: none;\n",
              "      fill: #1967D2;\n",
              "      height: 32px;\n",
              "      padding: 0 0 0 0;\n",
              "      width: 32px;\n",
              "    }\n",
              "\n",
              "    .colab-df-convert:hover {\n",
              "      background-color: #E2EBFA;\n",
              "      box-shadow: 0px 1px 2px rgba(60, 64, 67, 0.3), 0px 1px 3px 1px rgba(60, 64, 67, 0.15);\n",
              "      fill: #174EA6;\n",
              "    }\n",
              "\n",
              "    [theme=dark] .colab-df-convert {\n",
              "      background-color: #3B4455;\n",
              "      fill: #D2E3FC;\n",
              "    }\n",
              "\n",
              "    [theme=dark] .colab-df-convert:hover {\n",
              "      background-color: #434B5C;\n",
              "      box-shadow: 0px 1px 3px 1px rgba(0, 0, 0, 0.15);\n",
              "      filter: drop-shadow(0px 1px 2px rgba(0, 0, 0, 0.3));\n",
              "      fill: #FFFFFF;\n",
              "    }\n",
              "  </style>\n",
              "\n",
              "      <script>\n",
              "        const buttonEl =\n",
              "          document.querySelector('#df-99508b59-4f13-4c22-bb2a-13cb4e8e2cd7 button.colab-df-convert');\n",
              "        buttonEl.style.display =\n",
              "          google.colab.kernel.accessAllowed ? 'block' : 'none';\n",
              "\n",
              "        async function convertToInteractive(key) {\n",
              "          const element = document.querySelector('#df-99508b59-4f13-4c22-bb2a-13cb4e8e2cd7');\n",
              "          const dataTable =\n",
              "            await google.colab.kernel.invokeFunction('convertToInteractive',\n",
              "                                                     [key], {});\n",
              "          if (!dataTable) return;\n",
              "\n",
              "          const docLinkHtml = 'Like what you see? Visit the ' +\n",
              "            '<a target=\"_blank\" href=https://colab.research.google.com/notebooks/data_table.ipynb>data table notebook</a>'\n",
              "            + ' to learn more about interactive tables.';\n",
              "          element.innerHTML = '';\n",
              "          dataTable['output_type'] = 'display_data';\n",
              "          await google.colab.output.renderOutput(dataTable, element);\n",
              "          const docLink = document.createElement('div');\n",
              "          docLink.innerHTML = docLinkHtml;\n",
              "          element.appendChild(docLink);\n",
              "        }\n",
              "      </script>\n",
              "    </div>\n",
              "  </div>\n",
              "  "
            ]
          },
          "metadata": {},
          "execution_count": 44
        }
      ]
    },
    {
      "cell_type": "markdown",
      "source": [
        "Из признаков, принимающих непрерывные значения, минимальную ковариацию с независимой переменной features/carat имеет признак features/depth"
      ],
      "metadata": {
        "id": "47HVyRGiSyEP"
      }
    },
    {
      "cell_type": "markdown",
      "source": [
        "6. Визуализируйте этот признак в соответствии с индивидуальным заданием."
      ],
      "metadata": {
        "id": "R6RcCr_kWK72"
      }
    },
    {
      "cell_type": "code",
      "source": [
        "plt.boxplot(x = df['features/depth'])\n",
        "plt.show()"
      ],
      "metadata": {
        "colab": {
          "base_uri": "https://localhost:8080/",
          "height": 265
        },
        "id": "3eVQa9l7WP_P",
        "outputId": "56eff4ef-15f0-4c3b-c3e1-5e774de70749"
      },
      "execution_count": null,
      "outputs": [
        {
          "output_type": "display_data",
          "data": {
            "text/plain": [
              "<Figure size 432x288 with 1 Axes>"
            ],
            "image/png": "[encoded data removed]"
          },
          "metadata": {
            "needs_background": "light"
          }
        }
      ]
    },
    {
      "cell_type": "markdown",
      "source": [
        "7. Сформируйте набор входных из двух признаков набора данных (независимый признак и определенный признак), создайте и адаптируйте нормализующий слой Tensorflow для двух признаков."
      ],
      "metadata": {
        "id": "NusVZFGoX-Ti"
      }
    },
    {
      "cell_type": "code",
      "source": [
        "X = np.array(df[['features/carat', 'features/depth']])\n",
        "X.shape"
      ],
      "metadata": {
        "colab": {
          "base_uri": "https://localhost:8080/"
        },
        "id": "VA9q_DcIX-ra",
        "outputId": "2fbde647-46e3-4809-817b-3546901be48a"
      },
      "execution_count": null,
      "outputs": [
        {
          "output_type": "execute_result",
          "data": {
            "text/plain": [
              "(53940, 2)"
            ]
          },
          "metadata": {},
          "execution_count": 58
        }
      ]
    },
    {
      "cell_type": "code",
      "source": [
        "feature_normalizer = tf.keras.layers.Normalization(axis=None,input_shape=(2,))\n",
        "feature_normalizer.adapt(X)"
      ],
      "metadata": {
        "id": "1fvibOkcY2TD"
      },
      "execution_count": null,
      "outputs": []
    },
    {
      "cell_type": "markdown",
      "source": [
        "8. Используя созданный нормализующий слой, постройте нейронную сеть (нелинейный регресор) с количеством скрытых слоев, количеством нейронов и функцией активации, указанными в индивидуальном задании, и одним нейроном в выходном слое и обучите ее на наборе данных из двух признаков и отклика."
      ],
      "metadata": {
        "id": "IyIAwWaKZsjD"
      }
    },
    {
      "cell_type": "code",
      "source": [
        "large_model = tf.keras.Sequential([\n",
        "    feature_normalizer,\n",
        "    tf.keras.layers.Dense(units=32, activation='tanh'),\n",
        "    tf.keras.layers.Dense(units=32, activation='tanh'),\n",
        "    tf.keras.layers.Dense(units=32, activation='tanh'),\n",
        "    tf.keras.layers.Dense(units=32, activation='tanh'),\n",
        "    tf.keras.layers.Dense(units=32, activation='tanh'),\n",
        "    tf.keras.layers.Dense(units=1)\n",
        "])\n",
        "\n",
        "large_model.summary()"
      ],
      "metadata": {
        "colab": {
          "base_uri": "https://localhost:8080/"
        },
        "id": "NezkpllZY9fl",
        "outputId": "bddb0f27-e3c9-476d-ad45-664ad2eb5ebc"
      },
      "execution_count": null,
      "outputs": [
        {
          "output_type": "stream",
          "name": "stdout",
          "text": [
            "Model: \"sequential_1\"\n",
            "_________________________________________________________________\n",
            " Layer (type)                Output Shape              Param #   \n",
            "=================================================================\n",
            " normalization (Normalizatio  (None, 2)                3         \n",
            " n)                                                              \n",
            "                                                                 \n",
            " dense_1 (Dense)             (None, 32)                96        \n",
            "                                                                 \n",
            " dense_2 (Dense)             (None, 32)                1056      \n",
            "                                                                 \n",
            " dense_3 (Dense)             (None, 32)                1056      \n",
            "                                                                 \n",
            " dense_4 (Dense)             (None, 32)                1056      \n",
            "                                                                 \n",
            " dense_5 (Dense)             (None, 32)                1056      \n",
            "                                                                 \n",
            " dense_6 (Dense)             (None, 1)                 33        \n",
            "                                                                 \n",
            "=================================================================\n",
            "Total params: 4,356\n",
            "Trainable params: 4,353\n",
            "Non-trainable params: 3\n",
            "_________________________________________________________________\n"
          ]
        }
      ]
    },
    {
      "cell_type": "code",
      "source": [
        "large_model.compile(loss='mse')"
      ],
      "metadata": {
        "id": "RoW3ARTFa-v9"
      },
      "execution_count": null,
      "outputs": []
    },
    {
      "cell_type": "code",
      "source": [
        "history2 = large_model.fit(\n",
        "    X, y,\n",
        "    epochs=100,\n",
        "    # уровень выводимой информации\n",
        "    verbose=1,\n",
        "    # проверка (валидация) на 30% обучающих данных\n",
        "    validation_split = 0.3)"
      ],
      "metadata": {
        "colab": {
          "base_uri": "https://localhost:8080/"
        },
        "id": "ecgsjvhDbM7q",
        "outputId": "ea7f9b8f-b685-40b6-e88a-3c437e844e7a"
      },
      "execution_count": null,
      "outputs": [
        {
          "output_type": "stream",
          "name": "stdout",
          "text": [
            "Epoch 1/100\n",
            "1180/1180 [==============================] - 5s 4ms/step - loss: 1.4955 - val_loss: 1.1945\n",
            "Epoch 2/100\n",
            "1180/1180 [==============================] - 3s 3ms/step - loss: 1.1334 - val_loss: 0.9920\n",
            "Epoch 3/100\n",
            "1180/1180 [==============================] - 3s 3ms/step - loss: 0.9651 - val_loss: 1.2114\n",
            "Epoch 4/100\n",
            "1180/1180 [==============================] - 3s 2ms/step - loss: 0.8286 - val_loss: 1.3348\n",
            "Epoch 5/100\n",
            "1180/1180 [==============================] - 3s 3ms/step - loss: 0.7316 - val_loss: 0.4499\n",
            "Epoch 6/100\n",
            "1180/1180 [==============================] - 3s 2ms/step - loss: 0.6543 - val_loss: 1.4547\n",
            "Epoch 7/100\n",
            "1180/1180 [==============================] - 3s 2ms/step - loss: 0.5790 - val_loss: 0.3016\n",
            "Epoch 8/100\n",
            "1180/1180 [==============================] - 3s 2ms/step - loss: 0.5279 - val_loss: 0.3212\n",
            "Epoch 9/100\n",
            "1180/1180 [==============================] - 3s 2ms/step - loss: 0.4816 - val_loss: 0.2173\n",
            "Epoch 10/100\n",
            "1180/1180 [==============================] - 3s 3ms/step - loss: 0.4406 - val_loss: 0.1682\n",
            "Epoch 11/100\n",
            "1180/1180 [==============================] - 3s 2ms/step - loss: 0.4145 - val_loss: 0.5549\n",
            "Epoch 12/100\n",
            "1180/1180 [==============================] - 3s 2ms/step - loss: 0.3890 - val_loss: 0.2060\n",
            "Epoch 13/100\n",
            "1180/1180 [==============================] - 3s 2ms/step - loss: 0.3700 - val_loss: 0.1244\n",
            "Epoch 14/100\n",
            "1180/1180 [==============================] - 3s 2ms/step - loss: 0.3454 - val_loss: 0.8154\n",
            "Epoch 15/100\n",
            "1180/1180 [==============================] - 3s 2ms/step - loss: 0.3259 - val_loss: 0.2841\n",
            "Epoch 16/100\n",
            "1180/1180 [==============================] - 3s 2ms/step - loss: 0.3067 - val_loss: 0.4668\n",
            "Epoch 17/100\n",
            "1180/1180 [==============================] - 3s 3ms/step - loss: 0.2951 - val_loss: 0.1932\n",
            "Epoch 18/100\n",
            "1180/1180 [==============================] - 3s 2ms/step - loss: 0.2802 - val_loss: 0.0769\n",
            "Epoch 19/100\n",
            "1180/1180 [==============================] - 3s 2ms/step - loss: 0.2673 - val_loss: 0.1236\n",
            "Epoch 20/100\n",
            "1180/1180 [==============================] - 3s 3ms/step - loss: 0.2569 - val_loss: 0.3128\n",
            "Epoch 21/100\n",
            "1180/1180 [==============================] - 3s 3ms/step - loss: 0.2456 - val_loss: 0.0470\n",
            "Epoch 22/100\n",
            "1180/1180 [==============================] - 3s 3ms/step - loss: 0.2389 - val_loss: 0.2858\n",
            "Epoch 23/100\n",
            "1180/1180 [==============================] - 3s 2ms/step - loss: 0.2311 - val_loss: 0.4165\n",
            "Epoch 24/100\n",
            "1180/1180 [==============================] - 3s 2ms/step - loss: 0.2230 - val_loss: 0.7515\n",
            "Epoch 25/100\n",
            "1180/1180 [==============================] - 3s 3ms/step - loss: 0.2140 - val_loss: 0.1843\n",
            "Epoch 26/100\n",
            "1180/1180 [==============================] - 3s 3ms/step - loss: 0.2073 - val_loss: 0.6062\n",
            "Epoch 27/100\n",
            "1180/1180 [==============================] - 3s 3ms/step - loss: 0.2041 - val_loss: 0.2363\n",
            "Epoch 28/100\n",
            "1180/1180 [==============================] - 3s 3ms/step - loss: 0.2000 - val_loss: 0.3152\n",
            "Epoch 29/100\n",
            "1180/1180 [==============================] - 3s 2ms/step - loss: 0.1948 - val_loss: 0.0493\n",
            "Epoch 30/100\n",
            "1180/1180 [==============================] - 3s 3ms/step - loss: 0.1882 - val_loss: 0.2345\n",
            "Epoch 31/100\n",
            "1180/1180 [==============================] - 3s 3ms/step - loss: 0.1846 - val_loss: 0.0599\n",
            "Epoch 32/100\n",
            "1180/1180 [==============================] - 4s 3ms/step - loss: 0.1808 - val_loss: 0.4984\n",
            "Epoch 33/100\n",
            "1180/1180 [==============================] - 5s 4ms/step - loss: 0.1772 - val_loss: 0.0772\n",
            "Epoch 34/100\n",
            "1180/1180 [==============================] - 3s 3ms/step - loss: 0.1746 - val_loss: 0.0337\n",
            "Epoch 35/100\n",
            "1180/1180 [==============================] - 3s 3ms/step - loss: 0.1701 - val_loss: 0.0510\n",
            "Epoch 36/100\n",
            "1180/1180 [==============================] - 3s 2ms/step - loss: 0.1664 - val_loss: 0.0565\n",
            "Epoch 37/100\n",
            "1180/1180 [==============================] - 4s 3ms/step - loss: 0.1620 - val_loss: 0.1134\n",
            "Epoch 38/100\n",
            "1180/1180 [==============================] - 3s 3ms/step - loss: 0.1599 - val_loss: 0.7510\n",
            "Epoch 39/100\n",
            "1180/1180 [==============================] - 3s 3ms/step - loss: 0.1571 - val_loss: 0.0664\n",
            "Epoch 40/100\n",
            "1180/1180 [==============================] - 3s 3ms/step - loss: 0.1553 - val_loss: 0.0285\n",
            "Epoch 41/100\n",
            "1180/1180 [==============================] - 3s 3ms/step - loss: 0.1514 - val_loss: 0.0614\n",
            "Epoch 42/100\n",
            "1180/1180 [==============================] - 3s 3ms/step - loss: 0.1502 - val_loss: 0.0282\n",
            "Epoch 43/100\n",
            "1180/1180 [==============================] - 3s 3ms/step - loss: 0.1476 - val_loss: 0.0692\n",
            "Epoch 44/100\n",
            "1180/1180 [==============================] - 3s 3ms/step - loss: 0.1444 - val_loss: 0.2886\n",
            "Epoch 45/100\n",
            "1180/1180 [==============================] - 3s 3ms/step - loss: 0.1435 - val_loss: 0.0475\n",
            "Epoch 46/100\n",
            "1180/1180 [==============================] - 4s 3ms/step - loss: 0.1408 - val_loss: 0.0283\n",
            "Epoch 47/100\n",
            "1180/1180 [==============================] - 3s 3ms/step - loss: 0.1377 - val_loss: 0.2105\n",
            "Epoch 48/100\n",
            "1180/1180 [==============================] - 3s 2ms/step - loss: 0.1376 - val_loss: 0.1783\n",
            "Epoch 49/100\n",
            "1180/1180 [==============================] - 3s 3ms/step - loss: 0.1338 - val_loss: 0.5050\n",
            "Epoch 50/100\n",
            "1180/1180 [==============================] - 3s 3ms/step - loss: 0.1342 - val_loss: 0.0436\n",
            "Epoch 51/100\n",
            "1180/1180 [==============================] - 3s 3ms/step - loss: 0.1313 - val_loss: 0.0907\n",
            "Epoch 52/100\n",
            "1180/1180 [==============================] - 3s 3ms/step - loss: 0.1303 - val_loss: 0.0295\n",
            "Epoch 53/100\n",
            "1180/1180 [==============================] - 3s 3ms/step - loss: 0.1275 - val_loss: 0.0424\n",
            "Epoch 54/100\n",
            "1180/1180 [==============================] - 3s 2ms/step - loss: 0.1268 - val_loss: 0.4228\n",
            "Epoch 55/100\n",
            "1180/1180 [==============================] - 3s 2ms/step - loss: 0.1255 - val_loss: 0.0662\n",
            "Epoch 56/100\n",
            "1180/1180 [==============================] - 3s 3ms/step - loss: 0.1235 - val_loss: 0.0494\n",
            "Epoch 57/100\n",
            "1180/1180 [==============================] - 3s 3ms/step - loss: 0.1223 - val_loss: 0.0629\n",
            "Epoch 58/100\n",
            "1180/1180 [==============================] - 3s 3ms/step - loss: 0.1210 - val_loss: 0.1032\n",
            "Epoch 59/100\n",
            "1180/1180 [==============================] - 3s 2ms/step - loss: 0.1202 - val_loss: 0.1420\n",
            "Epoch 60/100\n",
            "1180/1180 [==============================] - 3s 2ms/step - loss: 0.1187 - val_loss: 0.0230\n",
            "Epoch 61/100\n",
            "1180/1180 [==============================] - 3s 3ms/step - loss: 0.1162 - val_loss: 0.5537\n",
            "Epoch 62/100\n",
            "1180/1180 [==============================] - 3s 3ms/step - loss: 0.1161 - val_loss: 0.0229\n",
            "Epoch 63/100\n",
            "1180/1180 [==============================] - 3s 3ms/step - loss: 0.1140 - val_loss: 0.0302\n",
            "Epoch 64/100\n",
            "1180/1180 [==============================] - 3s 2ms/step - loss: 0.1130 - val_loss: 0.0203\n",
            "Epoch 65/100\n",
            "1180/1180 [==============================] - 3s 2ms/step - loss: 0.1127 - val_loss: 0.2918\n",
            "Epoch 66/100\n",
            "1180/1180 [==============================] - 3s 3ms/step - loss: 0.1111 - val_loss: 0.3447\n",
            "Epoch 67/100\n",
            "1180/1180 [==============================] - 3s 2ms/step - loss: 0.1100 - val_loss: 0.0480\n",
            "Epoch 68/100\n",
            "1180/1180 [==============================] - 3s 2ms/step - loss: 0.1089 - val_loss: 0.0162\n",
            "Epoch 69/100\n",
            "1180/1180 [==============================] - 3s 3ms/step - loss: 0.1093 - val_loss: 0.0252\n",
            "Epoch 70/100\n",
            "1180/1180 [==============================] - 3s 3ms/step - loss: 0.1078 - val_loss: 0.0266\n",
            "Epoch 71/100\n",
            "1180/1180 [==============================] - 3s 3ms/step - loss: 0.1069 - val_loss: 0.0154\n",
            "Epoch 72/100\n",
            "1180/1180 [==============================] - 3s 2ms/step - loss: 0.1053 - val_loss: 0.0195\n",
            "Epoch 73/100\n",
            "1180/1180 [==============================] - 3s 3ms/step - loss: 0.1038 - val_loss: 0.0272\n",
            "Epoch 74/100\n",
            "1180/1180 [==============================] - 3s 3ms/step - loss: 0.1039 - val_loss: 0.0221\n",
            "Epoch 75/100\n",
            "1180/1180 [==============================] - 3s 3ms/step - loss: 0.1027 - val_loss: 0.0744\n",
            "Epoch 76/100\n",
            "1180/1180 [==============================] - 3s 3ms/step - loss: 0.1015 - val_loss: 0.0171\n",
            "Epoch 77/100\n",
            "1180/1180 [==============================] - 3s 3ms/step - loss: 0.1022 - val_loss: 0.1043\n",
            "Epoch 78/100\n",
            "1180/1180 [==============================] - 3s 3ms/step - loss: 0.0999 - val_loss: 0.0206\n",
            "Epoch 79/100\n",
            "1180/1180 [==============================] - 3s 3ms/step - loss: 0.0995 - val_loss: 0.0178\n",
            "Epoch 80/100\n",
            "1180/1180 [==============================] - 3s 3ms/step - loss: 0.0976 - val_loss: 0.2634\n",
            "Epoch 81/100\n",
            "1180/1180 [==============================] - 3s 3ms/step - loss: 0.0979 - val_loss: 0.0313\n",
            "Epoch 82/100\n",
            "1180/1180 [==============================] - 3s 2ms/step - loss: 0.0972 - val_loss: 0.0862\n",
            "Epoch 83/100\n",
            "1180/1180 [==============================] - 3s 3ms/step - loss: 0.0965 - val_loss: 0.1146\n",
            "Epoch 84/100\n",
            "1180/1180 [==============================] - 3s 3ms/step - loss: 0.0964 - val_loss: 0.0234\n",
            "Epoch 85/100\n",
            "1180/1180 [==============================] - 3s 3ms/step - loss: 0.0945 - val_loss: 0.0591\n",
            "Epoch 86/100\n",
            "1180/1180 [==============================] - 3s 2ms/step - loss: 0.0942 - val_loss: 0.2453\n",
            "Epoch 87/100\n",
            "1180/1180 [==============================] - 3s 2ms/step - loss: 0.0945 - val_loss: 0.0413\n",
            "Epoch 88/100\n",
            "1180/1180 [==============================] - 3s 3ms/step - loss: 0.0932 - val_loss: 0.0177\n",
            "Epoch 89/100\n",
            "1180/1180 [==============================] - 3s 3ms/step - loss: 0.0925 - val_loss: 0.1553\n",
            "Epoch 90/100\n",
            "1180/1180 [==============================] - 3s 3ms/step - loss: 0.0926 - val_loss: 0.1172\n",
            "Epoch 91/100\n",
            "1180/1180 [==============================] - 3s 2ms/step - loss: 0.0910 - val_loss: 0.0177\n",
            "Epoch 92/100\n",
            "1180/1180 [==============================] - 3s 2ms/step - loss: 0.0915 - val_loss: 0.0491\n",
            "Epoch 93/100\n",
            "1180/1180 [==============================] - 3s 3ms/step - loss: 0.0901 - val_loss: 0.2715\n",
            "Epoch 94/100\n",
            "1180/1180 [==============================] - 3s 3ms/step - loss: 0.0908 - val_loss: 0.0336\n",
            "Epoch 95/100\n",
            "1180/1180 [==============================] - 3s 2ms/step - loss: 0.0885 - val_loss: 0.0169\n",
            "Epoch 96/100\n",
            "1180/1180 [==============================] - 3s 2ms/step - loss: 0.0894 - val_loss: 0.0172\n",
            "Epoch 97/100\n",
            "1180/1180 [==============================] - 3s 3ms/step - loss: 0.0881 - val_loss: 0.1046\n",
            "Epoch 98/100\n",
            "1180/1180 [==============================] - 3s 3ms/step - loss: 0.0870 - val_loss: 0.0937\n",
            "Epoch 99/100\n",
            "1180/1180 [==============================] - 3s 3ms/step - loss: 0.0883 - val_loss: 0.0290\n",
            "Epoch 100/100\n",
            "1180/1180 [==============================] - 3s 3ms/step - loss: 0.0862 - val_loss: 0.0260\n"
          ]
        }
      ]
    },
    {
      "cell_type": "code",
      "source": [
        "plot_loss(history2)"
      ],
      "metadata": {
        "colab": {
          "base_uri": "https://localhost:8080/",
          "height": 295
        },
        "id": "NX6FzDE4eR-A",
        "outputId": "2a010a6b-92dd-4cd8-f1b3-64bb5158b287"
      },
      "execution_count": null,
      "outputs": [
        {
          "output_type": "display_data",
          "data": {
            "text/plain": [
              "<Figure size 432x288 with 1 Axes>"
            ],
            "image/png": "[encoded data removed]"
          },
          "metadata": {
            "needs_background": "light"
          }
        }
      ]
    },
    {
      "cell_type": "markdown",
      "source": [
        "9. Визуализируйте набор данных в виде точечного графика и прогноз нейронной сети в виде поверхности в трехмерном пространстве."
      ],
      "metadata": {
        "id": "5nEbPO49exrY"
      }
    },
    {
      "cell_type": "code",
      "source": [
        "from mpl_toolkits import mplot3d"
      ],
      "metadata": {
        "id": "FFLEc7LEe3aj"
      },
      "execution_count": null,
      "outputs": []
    },
    {
      "cell_type": "code",
      "source": [
        "n_plot = 51\n",
        "xs = X[:,0]\n",
        "ys = X[:,1]\n",
        "zs = y\n",
        "x_plot = np.linspace(np.min(xs), np.max(xs), n_plot)\n",
        "y_plot = np.linspace(np.min(ys), np.max(ys), n_plot)\n",
        "x_mesh, y_mesh = np.meshgrid(x_plot, y_plot)\n",
        "x_mesh.shape, y_mesh.shape"
      ],
      "metadata": {
        "colab": {
          "base_uri": "https://localhost:8080/"
        },
        "id": "F8Zs2GD3fhRg",
        "outputId": "dbdb18d5-de40-4971-bcda-26f3eee4a234"
      },
      "execution_count": null,
      "outputs": [
        {
          "output_type": "execute_result",
          "data": {
            "text/plain": [
              "((51, 51), (51, 51))"
            ]
          },
          "metadata": {},
          "execution_count": 65
        }
      ]
    },
    {
      "cell_type": "code",
      "source": [
        "x_plot2 = np.reshape(x_mesh, [n_plot**2,1])\n",
        "y_plot2 = np.reshape(y_mesh, [n_plot**2,1])\n",
        "xy_2 = np.hstack([x_plot2, y_plot2])\n",
        "xy_2.shape"
      ],
      "metadata": {
        "colab": {
          "base_uri": "https://localhost:8080/"
        },
        "id": "dU0y4uF2gBZj",
        "outputId": "ddcd2371-dc99-4def-fab8-a2f5ec445211"
      },
      "execution_count": null,
      "outputs": [
        {
          "output_type": "execute_result",
          "data": {
            "text/plain": [
              "(2601, 2)"
            ]
          },
          "metadata": {},
          "execution_count": 66
        }
      ]
    },
    {
      "cell_type": "code",
      "source": [
        "z = large_model.predict(xy_2)\n",
        "z.shape"
      ],
      "metadata": {
        "colab": {
          "base_uri": "https://localhost:8080/"
        },
        "id": "-5Vg4mZUgM8C",
        "outputId": "d236fffc-2b66-4ffc-874a-4cdcecd08ff6"
      },
      "execution_count": null,
      "outputs": [
        {
          "output_type": "execute_result",
          "data": {
            "text/plain": [
              "(2601, 1)"
            ]
          },
          "metadata": {},
          "execution_count": 67
        }
      ]
    },
    {
      "cell_type": "code",
      "source": [
        "z_mesh = z.reshape((n_plot, n_plot))\n",
        "z_mesh.shape"
      ],
      "metadata": {
        "colab": {
          "base_uri": "https://localhost:8080/"
        },
        "id": "nmRFAJTFgRVX",
        "outputId": "a353a77c-a1fb-429c-db08-e996544184f6"
      },
      "execution_count": null,
      "outputs": [
        {
          "output_type": "execute_result",
          "data": {
            "text/plain": [
              "(51, 51)"
            ]
          },
          "metadata": {},
          "execution_count": 68
        }
      ]
    },
    {
      "cell_type": "code",
      "source": [
        "from matplotlib import cm\n",
        "\n",
        "fig = plt.figure(figsize=(10, 8))\n",
        "ax = fig.add_subplot(111, projection='3d')\n",
        "\n",
        "surf = ax.plot_surface(x_mesh, y_mesh, z_mesh, \\\n",
        "       rstride=1, cstride=1, linewidth=0.05, cmap=cm.winter, antialiased=True, \\\n",
        "       edgecolors='gray')\n",
        "ax.scatter( xs, ys, zs, s=100, c='r' )\n",
        "\n",
        "ax.set_xlabel('features/carat', fontsize=14)\n",
        "ax.set_ylabel('features/depth', fontsize=14)\n",
        "ax.set_zlabel('features/x', fontsize=14)\n",
        "ax.set_title('Diamonds', fontsize=16)\n",
        "\n",
        "ax.set_zlim(0., z_mesh.max())\n",
        "ax.view_init(elev = 20, azim = 120)"
      ],
      "metadata": {
        "colab": {
          "base_uri": "https://localhost:8080/",
          "height": 466
        },
        "id": "pDxG4_VygYXy",
        "outputId": "22944647-2321-4d21-9d75-7b306aa780dd"
      },
      "execution_count": null,
      "outputs": [
        {
          "output_type": "display_data",
          "data": {
            "text/plain": [
              "<Figure size 720x576 with 1 Axes>"
            ],
            "image/png": "[encoded data removed]"
          },
          "metadata": {
            "needs_background": "light"
          }
        }
      ]
    },
    {
      "cell_type": "markdown",
      "source": [
        "10. Разбейте набор данных из двух признаков и отклика на обучающую и тестовую выборки и постройте кривые обучения для заданного показателя качества в зависимости от количества точек в обучающей выборке, подписывая оси и рисунок и создавая легенду."
      ],
      "metadata": {
        "id": "lz42HKEghkEC"
      }
    },
    {
      "cell_type": "code",
      "source": [
        "def train_test_split(X, y, test_ratio=0.2, seed=None):\n",
        "    \"\"\"возвращает X_train, X_test, y_train, y_test\"\"\"\n",
        "    assert X.shape[0] == y.shape[0], \\\n",
        "        \"Размер X должен быть равен размеру y\"\n",
        "    assert 0.0 <= test_ratio <= 1.0, \\\n",
        "        \"Неверное значение test_ratio\"\n",
        "\n",
        "    if seed:\n",
        "        np.random.seed(seed)\n",
        "\n",
        "    shuffled_indexes = np.random.permutation(len(X))\n",
        "\n",
        "    test_size = int(len(X) * test_ratio)\n",
        "    test_indexes = shuffled_indexes[:test_size]\n",
        "    train_indexes = shuffled_indexes[test_size:]\n",
        "\n",
        "    X_train = X[train_indexes]\n",
        "    y_train = y[train_indexes]\n",
        "\n",
        "    X_test = X[test_indexes]\n",
        "    y_test = y[test_indexes]\n",
        "\n",
        "    return X_train, X_test, y_train, y_test"
      ],
      "metadata": {
        "id": "efXo2R7OhmgK"
      },
      "execution_count": null,
      "outputs": []
    },
    {
      "cell_type": "code",
      "source": [
        "X_train, X_test, y_train, y_test = train_test_split(X, y, 0.3)\n",
        "X_train.shape, X_test.shape, y_train.shape, y_test.shape"
      ],
      "metadata": {
        "colab": {
          "base_uri": "https://localhost:8080/"
        },
        "id": "SXSsV5TdhsYM",
        "outputId": "e6ff8cf9-57c7-42fd-d413-409cba29a440"
      },
      "execution_count": null,
      "outputs": [
        {
          "output_type": "execute_result",
          "data": {
            "text/plain": [
              "((37758, 2), (16182, 2), (37758,), (16182,))"
            ]
          },
          "metadata": {},
          "execution_count": 71
        }
      ]
    },
    {
      "cell_type": "code",
      "source": [
        "def my_R(y_test, y_predict):\n",
        "    mse = np.sum((y_predict - y_test)**2) / len(y_test)\n",
        "    r = 1 - mse/np.var(y_test)\n",
        "    return r"
      ],
      "metadata": {
        "id": "xRkDFDvKiGFE"
      },
      "execution_count": null,
      "outputs": []
    },
    {
      "cell_type": "code",
      "source": [
        "train_score = []\n",
        "test_score = []\n",
        "for i in range(1758, 37758, 4000):\n",
        "    large_model = tf.keras.Sequential([\n",
        "      feature_normalizer,\n",
        "      tf.keras.layers.Dense(units=32, activation='tanh'),\n",
        "      tf.keras.layers.Dense(units=32, activation='tanh'),\n",
        "      tf.keras.layers.Dense(units=32, activation='tanh'),\n",
        "      tf.keras.layers.Dense(units=32, activation='tanh'),\n",
        "      tf.keras.layers.Dense(units=32, activation='tanh'),\n",
        "      tf.keras.layers.Dense(units=1)\n",
        "  ])\n",
        "    large_model.compile(loss='mse')\n",
        "    large_model.fit(X_train[:i], y_train[:i], epochs=25, verbose=0)\n",
        "\n",
        "    y_train_predict = large_model.predict(X_train[:i])\n",
        "    y_train_predict = y_train_predict.reshape(-1)\n",
        "    train_score.append(my_R(y_train[:i], y_train_predict))\n",
        "\n",
        "    y_test_predict = large_model.predict(X_test)\n",
        "    y_test_predict = y_test_predict.reshape(-1)\n",
        "    test_score.append(my_R(y_test, y_test_predict))\n",
        "    print('-->', i, ' done')"
      ],
      "metadata": {
        "colab": {
          "base_uri": "https://localhost:8080/"
        },
        "id": "dWpH6C9OjUtN",
        "outputId": "c4a28a22-61b3-4eb1-a23e-d22bf41e2edd"
      },
      "execution_count": null,
      "outputs": [
        {
          "output_type": "stream",
          "name": "stdout",
          "text": [
            "--> 1758  done\n",
            "--> 5758  done\n",
            "--> 9758  done\n",
            "--> 13758  done\n",
            "--> 17758  done\n",
            "--> 21758  done\n",
            "--> 25758  done\n",
            "--> 29758  done\n",
            "--> 33758  done\n"
          ]
        }
      ]
    },
    {
      "cell_type": "code",
      "source": [
        "plt.plot([i for i in range(1758, len(X_train), 4000)],\n",
        "                               train_score, label=\"train\")\n",
        "plt.plot([i for i in range(1758, len(X_train), 4000)],\n",
        "                               test_score, label=\"test\")\n",
        "plt.title('R^2 в зависимости от количества точек в обучающей выборке')\n",
        "plt.xlabel('Количество точек в обучающей выборке')\n",
        "plt.ylabel('Коэффициент детерминации')\n",
        "plt.legend();"
      ],
      "metadata": {
        "colab": {
          "base_uri": "https://localhost:8080/",
          "height": 295
        },
        "id": "7cgeEiILkV7J",
        "outputId": "ef6f57ae-5005-4a69-a22d-2d89098ce9ae"
      },
      "execution_count": null,
      "outputs": [
        {
          "output_type": "display_data",
          "data": {
            "text/plain": [
              "<Figure size 432x288 with 1 Axes>"
            ],
            "image/png": "[encoded data removed]"
          },
          "metadata": {
            "needs_background": "light"
          }
        }
      ]
    }
  ],
  "metadata": {
    "kernelspec": {
      "display_name": "Python 3 (ipykernel)",
      "language": "python",
      "name": "python3"
    },
    "language_info": {
      "codemirror_mode": {
        "name": "ipython",
        "version": 3
      },
      "file_extension": ".py",
      "mimetype": "text/x-python",
      "name": "python",
      "nbconvert_exporter": "python",
      "pygments_lexer": "ipython3",
      "version": "3.8.11"
    },
    "colab": {
      "provenance": [],
      "include_colab_link": true
    },
    "widgets": {
      "application/vnd.jupyter.widget-state+json": {
        "55117798c524408b8266a1b8d566d52e": {
          "model_module": "@jupyter-widgets/controls",
          "model_name": "HBoxModel",
          "model_module_version": "1.5.0",
          "state": {
            "_dom_classes": [],
            "_model_module": "@jupyter-widgets/controls",
            "_model_module_version": "1.5.0",
            "_model_name": "HBoxModel",
            "_view_count": null,
            "_view_module": "@jupyter-widgets/controls",
            "_view_module_version": "1.5.0",
            "_view_name": "HBoxView",
            "box_style": "",
            "children": [
              "IPY_MODEL_9f9e2131615b4a19b6294dc8f7ffcd5f",
              "IPY_MODEL_467a647f6aea4deca91836be7d360223",
              "IPY_MODEL_ff9501f739af4650871ddce7303fde31"
            ],
            "layout": "IPY_MODEL_bbe8d19f6db4474cb1761953a80fc331"
          }
        },
        "9f9e2131615b4a19b6294dc8f7ffcd5f": {
          "model_module": "@jupyter-widgets/controls",
          "model_name": "HTMLModel",
          "model_module_version": "1.5.0",
          "state": {
            "_dom_classes": [],
            "_model_module": "@jupyter-widgets/controls",
            "_model_module_version": "1.5.0",
            "_model_name": "HTMLModel",
            "_view_count": null,
            "_view_module": "@jupyter-widgets/controls",
            "_view_module_version": "1.5.0",
            "_view_name": "HTMLView",
            "description": "",
            "description_tooltip": null,
            "layout": "IPY_MODEL_2921b5ff71c948fb81b67a64ade18ee3",
            "placeholder": "​",
            "style": "IPY_MODEL_53e45b30c0b44f8c8afc2840accf1154",
            "value": "Dl Completed...: 100%"
          }
        },
        "467a647f6aea4deca91836be7d360223": {
          "model_module": "@jupyter-widgets/controls",
          "model_name": "FloatProgressModel",
          "model_module_version": "1.5.0",
          "state": {
            "_dom_classes": [],
            "_model_module": "@jupyter-widgets/controls",
            "_model_module_version": "1.5.0",
            "_model_name": "FloatProgressModel",
            "_view_count": null,
            "_view_module": "@jupyter-widgets/controls",
            "_view_module_version": "1.5.0",
            "_view_name": "ProgressView",
            "bar_style": "success",
            "description": "",
            "description_tooltip": null,
            "layout": "IPY_MODEL_acec3c2e463e4c4c8819eec776e6ea99",
            "max": 1,
            "min": 0,
            "orientation": "horizontal",
            "style": "IPY_MODEL_2ce8c24f213d40198486d801175a1f81",
            "value": 1
          }
        },
        "ff9501f739af4650871ddce7303fde31": {
          "model_module": "@jupyter-widgets/controls",
          "model_name": "HTMLModel",
          "model_module_version": "1.5.0",
          "state": {
            "_dom_classes": [],
            "_model_module": "@jupyter-widgets/controls",
            "_model_module_version": "1.5.0",
            "_model_name": "HTMLModel",
            "_view_count": null,
            "_view_module": "@jupyter-widgets/controls",
            "_view_module_version": "1.5.0",
            "_view_name": "HTMLView",
            "description": "",
            "description_tooltip": null,
            "layout": "IPY_MODEL_b2c2cb897aca46afb76d7b6cdf625f04",
            "placeholder": "​",
            "style": "IPY_MODEL_987579716dd04c47b9c097551c00e402",
            "value": " 1/1 [00:00&lt;00:00,  1.03 url/s]"
          }
        },
        "bbe8d19f6db4474cb1761953a80fc331": {
          "model_module": "@jupyter-widgets/base",
          "model_name": "LayoutModel",
          "model_module_version": "1.2.0",
          "state": {
            "_model_module": "@jupyter-widgets/base",
            "_model_module_version": "1.2.0",
            "_model_name": "LayoutModel",
            "_view_count": null,
            "_view_module": "@jupyter-widgets/base",
            "_view_module_version": "1.2.0",
            "_view_name": "LayoutView",
            "align_content": null,
            "align_items": null,
            "align_self": null,
            "border": null,
            "bottom": null,
            "display": null,
            "flex": null,
            "flex_flow": null,
            "grid_area": null,
            "grid_auto_columns": null,
            "grid_auto_flow": null,
            "grid_auto_rows": null,
            "grid_column": null,
            "grid_gap": null,
            "grid_row": null,
            "grid_template_areas": null,
            "grid_template_columns": null,
            "grid_template_rows": null,
            "height": null,
            "justify_content": null,
            "justify_items": null,
            "left": null,
            "margin": null,
            "max_height": null,
            "max_width": null,
            "min_height": null,
            "min_width": null,
            "object_fit": null,
            "object_position": null,
            "order": null,
            "overflow": null,
            "overflow_x": null,
            "overflow_y": null,
            "padding": null,
            "right": null,
            "top": null,
            "visibility": null,
            "width": null
          }
        },
        "2921b5ff71c948fb81b67a64ade18ee3": {
          "model_module": "@jupyter-widgets/base",
          "model_name": "LayoutModel",
          "model_module_version": "1.2.0",
          "state": {
            "_model_module": "@jupyter-widgets/base",
            "_model_module_version": "1.2.0",
            "_model_name": "LayoutModel",
            "_view_count": null,
            "_view_module": "@jupyter-widgets/base",
            "_view_module_version": "1.2.0",
            "_view_name": "LayoutView",
            "align_content": null,
            "align_items": null,
            "align_self": null,
            "border": null,
            "bottom": null,
            "display": null,
            "flex": null,
            "flex_flow": null,
            "grid_area": null,
            "grid_auto_columns": null,
            "grid_auto_flow": null,
            "grid_auto_rows": null,
            "grid_column": null,
            "grid_gap": null,
            "grid_row": null,
            "grid_template_areas": null,
            "grid_template_columns": null,
            "grid_template_rows": null,
            "height": null,
            "justify_content": null,
            "justify_items": null,
            "left": null,
            "margin": null,
            "max_height": null,
            "max_width": null,
            "min_height": null,
            "min_width": null,
            "object_fit": null,
            "object_position": null,
            "order": null,
            "overflow": null,
            "overflow_x": null,
            "overflow_y": null,
            "padding": null,
            "right": null,
            "top": null,
            "visibility": null,
            "width": null
          }
        },
        "53e45b30c0b44f8c8afc2840accf1154": {
          "model_module": "@jupyter-widgets/controls",
          "model_name": "DescriptionStyleModel",
          "model_module_version": "1.5.0",
          "state": {
            "_model_module": "@jupyter-widgets/controls",
            "_model_module_version": "1.5.0",
            "_model_name": "DescriptionStyleModel",
            "_view_count": null,
            "_view_module": "@jupyter-widgets/base",
            "_view_module_version": "1.2.0",
            "_view_name": "StyleView",
            "description_width": ""
          }
        },
        "acec3c2e463e4c4c8819eec776e6ea99": {
          "model_module": "@jupyter-widgets/base",
          "model_name": "LayoutModel",
          "model_module_version": "1.2.0",
          "state": {
            "_model_module": "@jupyter-widgets/base",
            "_model_module_version": "1.2.0",
            "_model_name": "LayoutModel",
            "_view_count": null,
            "_view_module": "@jupyter-widgets/base",
            "_view_module_version": "1.2.0",
            "_view_name": "LayoutView",
            "align_content": null,
            "align_items": null,
            "align_self": null,
            "border": null,
            "bottom": null,
            "display": null,
            "flex": null,
            "flex_flow": null,
            "grid_area": null,
            "grid_auto_columns": null,
            "grid_auto_flow": null,
            "grid_auto_rows": null,
            "grid_column": null,
            "grid_gap": null,
            "grid_row": null,
            "grid_template_areas": null,
            "grid_template_columns": null,
            "grid_template_rows": null,
            "height": null,
            "justify_content": null,
            "justify_items": null,
            "left": null,
            "margin": null,
            "max_height": null,
            "max_width": null,
            "min_height": null,
            "min_width": null,
            "object_fit": null,
            "object_position": null,
            "order": null,
            "overflow": null,
            "overflow_x": null,
            "overflow_y": null,
            "padding": null,
            "right": null,
            "top": null,
            "visibility": null,
            "width": "20px"
          }
        },
        "2ce8c24f213d40198486d801175a1f81": {
          "model_module": "@jupyter-widgets/controls",
          "model_name": "ProgressStyleModel",
          "model_module_version": "1.5.0",
          "state": {
            "_model_module": "@jupyter-widgets/controls",
            "_model_module_version": "1.5.0",
            "_model_name": "ProgressStyleModel",
            "_view_count": null,
            "_view_module": "@jupyter-widgets/base",
            "_view_module_version": "1.2.0",
            "_view_name": "StyleView",
            "bar_color": null,
            "description_width": ""
          }
        },
        "b2c2cb897aca46afb76d7b6cdf625f04": {
          "model_module": "@jupyter-widgets/base",
          "model_name": "LayoutModel",
          "model_module_version": "1.2.0",
          "state": {
            "_model_module": "@jupyter-widgets/base",
            "_model_module_version": "1.2.0",
            "_model_name": "LayoutModel",
            "_view_count": null,
            "_view_module": "@jupyter-widgets/base",
            "_view_module_version": "1.2.0",
            "_view_name": "LayoutView",
            "align_content": null,
            "align_items": null,
            "align_self": null,
            "border": null,
            "bottom": null,
            "display": null,
            "flex": null,
            "flex_flow": null,
            "grid_area": null,
            "grid_auto_columns": null,
            "grid_auto_flow": null,
            "grid_auto_rows": null,
            "grid_column": null,
            "grid_gap": null,
            "grid_row": null,
            "grid_template_areas": null,
            "grid_template_columns": null,
            "grid_template_rows": null,
            "height": null,
            "justify_content": null,
            "justify_items": null,
            "left": null,
            "margin": null,
            "max_height": null,
            "max_width": null,
            "min_height": null,
            "min_width": null,
            "object_fit": null,
            "object_position": null,
            "order": null,
            "overflow": null,
            "overflow_x": null,
            "overflow_y": null,
            "padding": null,
            "right": null,
            "top": null,
            "visibility": null,
            "width": null
          }
        },
        "987579716dd04c47b9c097551c00e402": {
          "model_module": "@jupyter-widgets/controls",
          "model_name": "DescriptionStyleModel",
          "model_module_version": "1.5.0",
          "state": {
            "_model_module": "@jupyter-widgets/controls",
            "_model_module_version": "1.5.0",
            "_model_name": "DescriptionStyleModel",
            "_view_count": null,
            "_view_module": "@jupyter-widgets/base",
            "_view_module_version": "1.2.0",
            "_view_name": "StyleView",
            "description_width": ""
          }
        },
        "01ec9173c7bc4c0bae1a4dec22b8dc50": {
          "model_module": "@jupyter-widgets/controls",
          "model_name": "HBoxModel",
          "model_module_version": "1.5.0",
          "state": {
            "_dom_classes": [],
            "_model_module": "@jupyter-widgets/controls",
            "_model_module_version": "1.5.0",
            "_model_name": "HBoxModel",
            "_view_count": null,
            "_view_module": "@jupyter-widgets/controls",
            "_view_module_version": "1.5.0",
            "_view_name": "HBoxView",
            "box_style": "",
            "children": [
              "IPY_MODEL_079884456fde44f3a200136988ec442d",
              "IPY_MODEL_7e30251ef24c4e6e8c53e0b388779518",
              "IPY_MODEL_c739eb5203e747f4bef94a4f80e5aa6c"
            ],
            "layout": "IPY_MODEL_2628551e8fa84d53882b69f7a93ddacb"
          }
        },
        "079884456fde44f3a200136988ec442d": {
          "model_module": "@jupyter-widgets/controls",
          "model_name": "HTMLModel",
          "model_module_version": "1.5.0",
          "state": {
            "_dom_classes": [],
            "_model_module": "@jupyter-widgets/controls",
            "_model_module_version": "1.5.0",
            "_model_name": "HTMLModel",
            "_view_count": null,
            "_view_module": "@jupyter-widgets/controls",
            "_view_module_version": "1.5.0",
            "_view_name": "HTMLView",
            "description": "",
            "description_tooltip": null,
            "layout": "IPY_MODEL_79c295b8ba3a4e22b6c5c54a9342ae0d",
            "placeholder": "​",
            "style": "IPY_MODEL_48a911f47f5b400480499da294e36e56",
            "value": "Dl Size...: "
          }
        },
        "7e30251ef24c4e6e8c53e0b388779518": {
          "model_module": "@jupyter-widgets/controls",
          "model_name": "FloatProgressModel",
          "model_module_version": "1.5.0",
          "state": {
            "_dom_classes": [],
            "_model_module": "@jupyter-widgets/controls",
            "_model_module_version": "1.5.0",
            "_model_name": "FloatProgressModel",
            "_view_count": null,
            "_view_module": "@jupyter-widgets/controls",
            "_view_module_version": "1.5.0",
            "_view_name": "ProgressView",
            "bar_style": "success",
            "description": "",
            "description_tooltip": null,
            "layout": "IPY_MODEL_4d811d9030ab44868abc81e8e9561da4",
            "max": 1,
            "min": 0,
            "orientation": "horizontal",
            "style": "IPY_MODEL_b2334f242e1a44189a15dfa51610eeb5",
            "value": 1
          }
        },
        "c739eb5203e747f4bef94a4f80e5aa6c": {
          "model_module": "@jupyter-widgets/controls",
          "model_name": "HTMLModel",
          "model_module_version": "1.5.0",
          "state": {
            "_dom_classes": [],
            "_model_module": "@jupyter-widgets/controls",
            "_model_module_version": "1.5.0",
            "_model_name": "HTMLModel",
            "_view_count": null,
            "_view_module": "@jupyter-widgets/controls",
            "_view_module_version": "1.5.0",
            "_view_name": "HTMLView",
            "description": "",
            "description_tooltip": null,
            "layout": "IPY_MODEL_50d66af209194b12ac3de6d45a4f04d0",
            "placeholder": "​",
            "style": "IPY_MODEL_f872e762ca9a4526bacccae0350633e1",
            "value": " 2/0 [00:00&lt;00:00,  1.22 MiB/s]"
          }
        },
        "2628551e8fa84d53882b69f7a93ddacb": {
          "model_module": "@jupyter-widgets/base",
          "model_name": "LayoutModel",
          "model_module_version": "1.2.0",
          "state": {
            "_model_module": "@jupyter-widgets/base",
            "_model_module_version": "1.2.0",
            "_model_name": "LayoutModel",
            "_view_count": null,
            "_view_module": "@jupyter-widgets/base",
            "_view_module_version": "1.2.0",
            "_view_name": "LayoutView",
            "align_content": null,
            "align_items": null,
            "align_self": null,
            "border": null,
            "bottom": null,
            "display": null,
            "flex": null,
            "flex_flow": null,
            "grid_area": null,
            "grid_auto_columns": null,
            "grid_auto_flow": null,
            "grid_auto_rows": null,
            "grid_column": null,
            "grid_gap": null,
            "grid_row": null,
            "grid_template_areas": null,
            "grid_template_columns": null,
            "grid_template_rows": null,
            "height": null,
            "justify_content": null,
            "justify_items": null,
            "left": null,
            "margin": null,
            "max_height": null,
            "max_width": null,
            "min_height": null,
            "min_width": null,
            "object_fit": null,
            "object_position": null,
            "order": null,
            "overflow": null,
            "overflow_x": null,
            "overflow_y": null,
            "padding": null,
            "right": null,
            "top": null,
            "visibility": null,
            "width": null
          }
        },
        "79c295b8ba3a4e22b6c5c54a9342ae0d": {
          "model_module": "@jupyter-widgets/base",
          "model_name": "LayoutModel",
          "model_module_version": "1.2.0",
          "state": {
            "_model_module": "@jupyter-widgets/base",
            "_model_module_version": "1.2.0",
            "_model_name": "LayoutModel",
            "_view_count": null,
            "_view_module": "@jupyter-widgets/base",
            "_view_module_version": "1.2.0",
            "_view_name": "LayoutView",
            "align_content": null,
            "align_items": null,
            "align_self": null,
            "border": null,
            "bottom": null,
            "display": null,
            "flex": null,
            "flex_flow": null,
            "grid_area": null,
            "grid_auto_columns": null,
            "grid_auto_flow": null,
            "grid_auto_rows": null,
            "grid_column": null,
            "grid_gap": null,
            "grid_row": null,
            "grid_template_areas": null,
            "grid_template_columns": null,
            "grid_template_rows": null,
            "height": null,
            "justify_content": null,
            "justify_items": null,
            "left": null,
            "margin": null,
            "max_height": null,
            "max_width": null,
            "min_height": null,
            "min_width": null,
            "object_fit": null,
            "object_position": null,
            "order": null,
            "overflow": null,
            "overflow_x": null,
            "overflow_y": null,
            "padding": null,
            "right": null,
            "top": null,
            "visibility": null,
            "width": null
          }
        },
        "48a911f47f5b400480499da294e36e56": {
          "model_module": "@jupyter-widgets/controls",
          "model_name": "DescriptionStyleModel",
          "model_module_version": "1.5.0",
          "state": {
            "_model_module": "@jupyter-widgets/controls",
            "_model_module_version": "1.5.0",
            "_model_name": "DescriptionStyleModel",
            "_view_count": null,
            "_view_module": "@jupyter-widgets/base",
            "_view_module_version": "1.2.0",
            "_view_name": "StyleView",
            "description_width": ""
          }
        },
        "4d811d9030ab44868abc81e8e9561da4": {
          "model_module": "@jupyter-widgets/base",
          "model_name": "LayoutModel",
          "model_module_version": "1.2.0",
          "state": {
            "_model_module": "@jupyter-widgets/base",
            "_model_module_version": "1.2.0",
            "_model_name": "LayoutModel",
            "_view_count": null,
            "_view_module": "@jupyter-widgets/base",
            "_view_module_version": "1.2.0",
            "_view_name": "LayoutView",
            "align_content": null,
            "align_items": null,
            "align_self": null,
            "border": null,
            "bottom": null,
            "display": null,
            "flex": null,
            "flex_flow": null,
            "grid_area": null,
            "grid_auto_columns": null,
            "grid_auto_flow": null,
            "grid_auto_rows": null,
            "grid_column": null,
            "grid_gap": null,
            "grid_row": null,
            "grid_template_areas": null,
            "grid_template_columns": null,
            "grid_template_rows": null,
            "height": null,
            "justify_content": null,
            "justify_items": null,
            "left": null,
            "margin": null,
            "max_height": null,
            "max_width": null,
            "min_height": null,
            "min_width": null,
            "object_fit": null,
            "object_position": null,
            "order": null,
            "overflow": null,
            "overflow_x": null,
            "overflow_y": null,
            "padding": null,
            "right": null,
            "top": null,
            "visibility": null,
            "width": "20px"
          }
        },
        "b2334f242e1a44189a15dfa51610eeb5": {
          "model_module": "@jupyter-widgets/controls",
          "model_name": "ProgressStyleModel",
          "model_module_version": "1.5.0",
          "state": {
            "_model_module": "@jupyter-widgets/controls",
            "_model_module_version": "1.5.0",
            "_model_name": "ProgressStyleModel",
            "_view_count": null,
            "_view_module": "@jupyter-widgets/base",
            "_view_module_version": "1.2.0",
            "_view_name": "StyleView",
            "bar_color": null,
            "description_width": ""
          }
        },
        "50d66af209194b12ac3de6d45a4f04d0": {
          "model_module": "@jupyter-widgets/base",
          "model_name": "LayoutModel",
          "model_module_version": "1.2.0",
          "state": {
            "_model_module": "@jupyter-widgets/base",
            "_model_module_version": "1.2.0",
            "_model_name": "LayoutModel",
            "_view_count": null,
            "_view_module": "@jupyter-widgets/base",
            "_view_module_version": "1.2.0",
            "_view_name": "LayoutView",
            "align_content": null,
            "align_items": null,
            "align_self": null,
            "border": null,
            "bottom": null,
            "display": null,
            "flex": null,
            "flex_flow": null,
            "grid_area": null,
            "grid_auto_columns": null,
            "grid_auto_flow": null,
            "grid_auto_rows": null,
            "grid_column": null,
            "grid_gap": null,
            "grid_row": null,
            "grid_template_areas": null,
            "grid_template_columns": null,
            "grid_template_rows": null,
            "height": null,
            "justify_content": null,
            "justify_items": null,
            "left": null,
            "margin": null,
            "max_height": null,
            "max_width": null,
            "min_height": null,
            "min_width": null,
            "object_fit": null,
            "object_position": null,
            "order": null,
            "overflow": null,
            "overflow_x": null,
            "overflow_y": null,
            "padding": null,
            "right": null,
            "top": null,
            "visibility": null,
            "width": null
          }
        },
        "f872e762ca9a4526bacccae0350633e1": {
          "model_module": "@jupyter-widgets/controls",
          "model_name": "DescriptionStyleModel",
          "model_module_version": "1.5.0",
          "state": {
            "_model_module": "@jupyter-widgets/controls",
            "_model_module_version": "1.5.0",
            "_model_name": "DescriptionStyleModel",
            "_view_count": null,
            "_view_module": "@jupyter-widgets/base",
            "_view_module_version": "1.2.0",
            "_view_name": "StyleView",
            "description_width": ""
          }
        },
        "2491a10a491645f59865435b4517b3d3": {
          "model_module": "@jupyter-widgets/controls",
          "model_name": "HBoxModel",
          "model_module_version": "1.5.0",
          "state": {
            "_dom_classes": [],
            "_model_module": "@jupyter-widgets/controls",
            "_model_module_version": "1.5.0",
            "_model_name": "HBoxModel",
            "_view_count": null,
            "_view_module": "@jupyter-widgets/controls",
            "_view_module_version": "1.5.0",
            "_view_name": "HBoxView",
            "box_style": "",
            "children": [
              "IPY_MODEL_50286b25e438423787a1372c0fe64351",
              "IPY_MODEL_7267cdc4718c422bbe58ffaf6f204c8a",
              "IPY_MODEL_87b194b83193454fb689fb1e7620f43d"
            ],
            "layout": "IPY_MODEL_7349e24a70ff4a7f8628960fda3e3d04"
          }
        },
        "50286b25e438423787a1372c0fe64351": {
          "model_module": "@jupyter-widgets/controls",
          "model_name": "HTMLModel",
          "model_module_version": "1.5.0",
          "state": {
            "_dom_classes": [],
            "_model_module": "@jupyter-widgets/controls",
            "_model_module_version": "1.5.0",
            "_model_name": "HTMLModel",
            "_view_count": null,
            "_view_module": "@jupyter-widgets/controls",
            "_view_module_version": "1.5.0",
            "_view_name": "HTMLView",
            "description": "",
            "description_tooltip": null,
            "layout": "IPY_MODEL_6a3565f221cc473d91ed453db1dc4e69",
            "placeholder": "​",
            "style": "IPY_MODEL_4b9dd95152f648a09c59e36174d81ea5",
            "value": "Generating splits...: 100%"
          }
        },
        "7267cdc4718c422bbe58ffaf6f204c8a": {
          "model_module": "@jupyter-widgets/controls",
          "model_name": "FloatProgressModel",
          "model_module_version": "1.5.0",
          "state": {
            "_dom_classes": [],
            "_model_module": "@jupyter-widgets/controls",
            "_model_module_version": "1.5.0",
            "_model_name": "FloatProgressModel",
            "_view_count": null,
            "_view_module": "@jupyter-widgets/controls",
            "_view_module_version": "1.5.0",
            "_view_name": "ProgressView",
            "bar_style": "",
            "description": "",
            "description_tooltip": null,
            "layout": "IPY_MODEL_f83ca2dec2b845f2bcf6bd229908d9b5",
            "max": 1,
            "min": 0,
            "orientation": "horizontal",
            "style": "IPY_MODEL_84a44d968d834ab2baeba6acc523c2b3",
            "value": 1
          }
        },
        "87b194b83193454fb689fb1e7620f43d": {
          "model_module": "@jupyter-widgets/controls",
          "model_name": "HTMLModel",
          "model_module_version": "1.5.0",
          "state": {
            "_dom_classes": [],
            "_model_module": "@jupyter-widgets/controls",
            "_model_module_version": "1.5.0",
            "_model_name": "HTMLModel",
            "_view_count": null,
            "_view_module": "@jupyter-widgets/controls",
            "_view_module_version": "1.5.0",
            "_view_name": "HTMLView",
            "description": "",
            "description_tooltip": null,
            "layout": "IPY_MODEL_18e6f28671554fb49c60906fc9f11f3c",
            "placeholder": "​",
            "style": "IPY_MODEL_ad76d9ee132c4592ab623430adf98a43",
            "value": " 1/1 [00:20&lt;00:00, 20.71s/ splits]"
          }
        },
        "7349e24a70ff4a7f8628960fda3e3d04": {
          "model_module": "@jupyter-widgets/base",
          "model_name": "LayoutModel",
          "model_module_version": "1.2.0",
          "state": {
            "_model_module": "@jupyter-widgets/base",
            "_model_module_version": "1.2.0",
            "_model_name": "LayoutModel",
            "_view_count": null,
            "_view_module": "@jupyter-widgets/base",
            "_view_module_version": "1.2.0",
            "_view_name": "LayoutView",
            "align_content": null,
            "align_items": null,
            "align_self": null,
            "border": null,
            "bottom": null,
            "display": null,
            "flex": null,
            "flex_flow": null,
            "grid_area": null,
            "grid_auto_columns": null,
            "grid_auto_flow": null,
            "grid_auto_rows": null,
            "grid_column": null,
            "grid_gap": null,
            "grid_row": null,
            "grid_template_areas": null,
            "grid_template_columns": null,
            "grid_template_rows": null,
            "height": null,
            "justify_content": null,
            "justify_items": null,
            "left": null,
            "margin": null,
            "max_height": null,
            "max_width": null,
            "min_height": null,
            "min_width": null,
            "object_fit": null,
            "object_position": null,
            "order": null,
            "overflow": null,
            "overflow_x": null,
            "overflow_y": null,
            "padding": null,
            "right": null,
            "top": null,
            "visibility": null,
            "width": null
          }
        },
        "6a3565f221cc473d91ed453db1dc4e69": {
          "model_module": "@jupyter-widgets/base",
          "model_name": "LayoutModel",
          "model_module_version": "1.2.0",
          "state": {
            "_model_module": "@jupyter-widgets/base",
            "_model_module_version": "1.2.0",
            "_model_name": "LayoutModel",
            "_view_count": null,
            "_view_module": "@jupyter-widgets/base",
            "_view_module_version": "1.2.0",
            "_view_name": "LayoutView",
            "align_content": null,
            "align_items": null,
            "align_self": null,
            "border": null,
            "bottom": null,
            "display": null,
            "flex": null,
            "flex_flow": null,
            "grid_area": null,
            "grid_auto_columns": null,
            "grid_auto_flow": null,
            "grid_auto_rows": null,
            "grid_column": null,
            "grid_gap": null,
            "grid_row": null,
            "grid_template_areas": null,
            "grid_template_columns": null,
            "grid_template_rows": null,
            "height": null,
            "justify_content": null,
            "justify_items": null,
            "left": null,
            "margin": null,
            "max_height": null,
            "max_width": null,
            "min_height": null,
            "min_width": null,
            "object_fit": null,
            "object_position": null,
            "order": null,
            "overflow": null,
            "overflow_x": null,
            "overflow_y": null,
            "padding": null,
            "right": null,
            "top": null,
            "visibility": null,
            "width": null
          }
        },
        "4b9dd95152f648a09c59e36174d81ea5": {
          "model_module": "@jupyter-widgets/controls",
          "model_name": "DescriptionStyleModel",
          "model_module_version": "1.5.0",
          "state": {
            "_model_module": "@jupyter-widgets/controls",
            "_model_module_version": "1.5.0",
            "_model_name": "DescriptionStyleModel",
            "_view_count": null,
            "_view_module": "@jupyter-widgets/base",
            "_view_module_version": "1.2.0",
            "_view_name": "StyleView",
            "description_width": ""
          }
        },
        "f83ca2dec2b845f2bcf6bd229908d9b5": {
          "model_module": "@jupyter-widgets/base",
          "model_name": "LayoutModel",
          "model_module_version": "1.2.0",
          "state": {
            "_model_module": "@jupyter-widgets/base",
            "_model_module_version": "1.2.0",
            "_model_name": "LayoutModel",
            "_view_count": null,
            "_view_module": "@jupyter-widgets/base",
            "_view_module_version": "1.2.0",
            "_view_name": "LayoutView",
            "align_content": null,
            "align_items": null,
            "align_self": null,
            "border": null,
            "bottom": null,
            "display": null,
            "flex": null,
            "flex_flow": null,
            "grid_area": null,
            "grid_auto_columns": null,
            "grid_auto_flow": null,
            "grid_auto_rows": null,
            "grid_column": null,
            "grid_gap": null,
            "grid_row": null,
            "grid_template_areas": null,
            "grid_template_columns": null,
            "grid_template_rows": null,
            "height": null,
            "justify_content": null,
            "justify_items": null,
            "left": null,
            "margin": null,
            "max_height": null,
            "max_width": null,
            "min_height": null,
            "min_width": null,
            "object_fit": null,
            "object_position": null,
            "order": null,
            "overflow": null,
            "overflow_x": null,
            "overflow_y": null,
            "padding": null,
            "right": null,
            "top": null,
            "visibility": null,
            "width": null
          }
        },
        "84a44d968d834ab2baeba6acc523c2b3": {
          "model_module": "@jupyter-widgets/controls",
          "model_name": "ProgressStyleModel",
          "model_module_version": "1.5.0",
          "state": {
            "_model_module": "@jupyter-widgets/controls",
            "_model_module_version": "1.5.0",
            "_model_name": "ProgressStyleModel",
            "_view_count": null,
            "_view_module": "@jupyter-widgets/base",
            "_view_module_version": "1.2.0",
            "_view_name": "StyleView",
            "bar_color": null,
            "description_width": ""
          }
        },
        "18e6f28671554fb49c60906fc9f11f3c": {
          "model_module": "@jupyter-widgets/base",
          "model_name": "LayoutModel",
          "model_module_version": "1.2.0",
          "state": {
            "_model_module": "@jupyter-widgets/base",
            "_model_module_version": "1.2.0",
            "_model_name": "LayoutModel",
            "_view_count": null,
            "_view_module": "@jupyter-widgets/base",
            "_view_module_version": "1.2.0",
            "_view_name": "LayoutView",
            "align_content": null,
            "align_items": null,
            "align_self": null,
            "border": null,
            "bottom": null,
            "display": null,
            "flex": null,
            "flex_flow": null,
            "grid_area": null,
            "grid_auto_columns": null,
            "grid_auto_flow": null,
            "grid_auto_rows": null,
            "grid_column": null,
            "grid_gap": null,
            "grid_row": null,
            "grid_template_areas": null,
            "grid_template_columns": null,
            "grid_template_rows": null,
            "height": null,
            "justify_content": null,
            "justify_items": null,
            "left": null,
            "margin": null,
            "max_height": null,
            "max_width": null,
            "min_height": null,
            "min_width": null,
            "object_fit": null,
            "object_position": null,
            "order": null,
            "overflow": null,
            "overflow_x": null,
            "overflow_y": null,
            "padding": null,
            "right": null,
            "top": null,
            "visibility": null,
            "width": null
          }
        },
        "ad76d9ee132c4592ab623430adf98a43": {
          "model_module": "@jupyter-widgets/controls",
          "model_name": "DescriptionStyleModel",
          "model_module_version": "1.5.0",
          "state": {
            "_model_module": "@jupyter-widgets/controls",
            "_model_module_version": "1.5.0",
            "_model_name": "DescriptionStyleModel",
            "_view_count": null,
            "_view_module": "@jupyter-widgets/base",
            "_view_module_version": "1.2.0",
            "_view_name": "StyleView",
            "description_width": ""
          }
        },
        "fc58a880f0124dbd98878fd750d92d9c": {
          "model_module": "@jupyter-widgets/controls",
          "model_name": "HBoxModel",
          "model_module_version": "1.5.0",
          "state": {
            "_dom_classes": [],
            "_model_module": "@jupyter-widgets/controls",
            "_model_module_version": "1.5.0",
            "_model_name": "HBoxModel",
            "_view_count": null,
            "_view_module": "@jupyter-widgets/controls",
            "_view_module_version": "1.5.0",
            "_view_name": "HBoxView",
            "box_style": "",
            "children": [
              "IPY_MODEL_e9ac0a47954d438fb40fca58e458eebb",
              "IPY_MODEL_b44e9bef877f46139f4685dd5c806601",
              "IPY_MODEL_6dbf1146483b409d969556d77bad7637"
            ],
            "layout": "IPY_MODEL_6d259309320e4214aa11b54e29f04243"
          }
        },
        "e9ac0a47954d438fb40fca58e458eebb": {
          "model_module": "@jupyter-widgets/controls",
          "model_name": "HTMLModel",
          "model_module_version": "1.5.0",
          "state": {
            "_dom_classes": [],
            "_model_module": "@jupyter-widgets/controls",
            "_model_module_version": "1.5.0",
            "_model_name": "HTMLModel",
            "_view_count": null,
            "_view_module": "@jupyter-widgets/controls",
            "_view_module_version": "1.5.0",
            "_view_name": "HTMLView",
            "description": "",
            "description_tooltip": null,
            "layout": "IPY_MODEL_cebb8df5ce054cae9be23de7198c7f8f",
            "placeholder": "​",
            "style": "IPY_MODEL_96bcb57ba17a460c8dc0c375d1582d52",
            "value": "Generating train examples...: 100%"
          }
        },
        "b44e9bef877f46139f4685dd5c806601": {
          "model_module": "@jupyter-widgets/controls",
          "model_name": "FloatProgressModel",
          "model_module_version": "1.5.0",
          "state": {
            "_dom_classes": [],
            "_model_module": "@jupyter-widgets/controls",
            "_model_module_version": "1.5.0",
            "_model_name": "FloatProgressModel",
            "_view_count": null,
            "_view_module": "@jupyter-widgets/controls",
            "_view_module_version": "1.5.0",
            "_view_name": "ProgressView",
            "bar_style": "",
            "description": "",
            "description_tooltip": null,
            "layout": "IPY_MODEL_4ea7e7de052b43d99397487d2bf12b37",
            "max": 53940,
            "min": 0,
            "orientation": "horizontal",
            "style": "IPY_MODEL_86b5dc6270c14fd8b60ce9345ebd3fe2",
            "value": 53940
          }
        },
        "6dbf1146483b409d969556d77bad7637": {
          "model_module": "@jupyter-widgets/controls",
          "model_name": "HTMLModel",
          "model_module_version": "1.5.0",
          "state": {
            "_dom_classes": [],
            "_model_module": "@jupyter-widgets/controls",
            "_model_module_version": "1.5.0",
            "_model_name": "HTMLModel",
            "_view_count": null,
            "_view_module": "@jupyter-widgets/controls",
            "_view_module_version": "1.5.0",
            "_view_name": "HTMLView",
            "description": "",
            "description_tooltip": null,
            "layout": "IPY_MODEL_71f75a061a764f419be10af8d97ff986",
            "placeholder": "​",
            "style": "IPY_MODEL_02821140c6e8421db5ef69d6e657c5f7",
            "value": " 53754/53940 [00:20&lt;00:00, 3523.44 examples/s]"
          }
        },
        "6d259309320e4214aa11b54e29f04243": {
          "model_module": "@jupyter-widgets/base",
          "model_name": "LayoutModel",
          "model_module_version": "1.2.0",
          "state": {
            "_model_module": "@jupyter-widgets/base",
            "_model_module_version": "1.2.0",
            "_model_name": "LayoutModel",
            "_view_count": null,
            "_view_module": "@jupyter-widgets/base",
            "_view_module_version": "1.2.0",
            "_view_name": "LayoutView",
            "align_content": null,
            "align_items": null,
            "align_self": null,
            "border": null,
            "bottom": null,
            "display": null,
            "flex": null,
            "flex_flow": null,
            "grid_area": null,
            "grid_auto_columns": null,
            "grid_auto_flow": null,
            "grid_auto_rows": null,
            "grid_column": null,
            "grid_gap": null,
            "grid_row": null,
            "grid_template_areas": null,
            "grid_template_columns": null,
            "grid_template_rows": null,
            "height": null,
            "justify_content": null,
            "justify_items": null,
            "left": null,
            "margin": null,
            "max_height": null,
            "max_width": null,
            "min_height": null,
            "min_width": null,
            "object_fit": null,
            "object_position": null,
            "order": null,
            "overflow": null,
            "overflow_x": null,
            "overflow_y": null,
            "padding": null,
            "right": null,
            "top": null,
            "visibility": null,
            "width": null
          }
        },
        "cebb8df5ce054cae9be23de7198c7f8f": {
          "model_module": "@jupyter-widgets/base",
          "model_name": "LayoutModel",
          "model_module_version": "1.2.0",
          "state": {
            "_model_module": "@jupyter-widgets/base",
            "_model_module_version": "1.2.0",
            "_model_name": "LayoutModel",
            "_view_count": null,
            "_view_module": "@jupyter-widgets/base",
            "_view_module_version": "1.2.0",
            "_view_name": "LayoutView",
            "align_content": null,
            "align_items": null,
            "align_self": null,
            "border": null,
            "bottom": null,
            "display": null,
            "flex": null,
            "flex_flow": null,
            "grid_area": null,
            "grid_auto_columns": null,
            "grid_auto_flow": null,
            "grid_auto_rows": null,
            "grid_column": null,
            "grid_gap": null,
            "grid_row": null,
            "grid_template_areas": null,
            "grid_template_columns": null,
            "grid_template_rows": null,
            "height": null,
            "justify_content": null,
            "justify_items": null,
            "left": null,
            "margin": null,
            "max_height": null,
            "max_width": null,
            "min_height": null,
            "min_width": null,
            "object_fit": null,
            "object_position": null,
            "order": null,
            "overflow": null,
            "overflow_x": null,
            "overflow_y": null,
            "padding": null,
            "right": null,
            "top": null,
            "visibility": null,
            "width": null
          }
        },
        "96bcb57ba17a460c8dc0c375d1582d52": {
          "model_module": "@jupyter-widgets/controls",
          "model_name": "DescriptionStyleModel",
          "model_module_version": "1.5.0",
          "state": {
            "_model_module": "@jupyter-widgets/controls",
            "_model_module_version": "1.5.0",
            "_model_name": "DescriptionStyleModel",
            "_view_count": null,
            "_view_module": "@jupyter-widgets/base",
            "_view_module_version": "1.2.0",
            "_view_name": "StyleView",
            "description_width": ""
          }
        },
        "4ea7e7de052b43d99397487d2bf12b37": {
          "model_module": "@jupyter-widgets/base",
          "model_name": "LayoutModel",
          "model_module_version": "1.2.0",
          "state": {
            "_model_module": "@jupyter-widgets/base",
            "_model_module_version": "1.2.0",
            "_model_name": "LayoutModel",
            "_view_count": null,
            "_view_module": "@jupyter-widgets/base",
            "_view_module_version": "1.2.0",
            "_view_name": "LayoutView",
            "align_content": null,
            "align_items": null,
            "align_self": null,
            "border": null,
            "bottom": null,
            "display": null,
            "flex": null,
            "flex_flow": null,
            "grid_area": null,
            "grid_auto_columns": null,
            "grid_auto_flow": null,
            "grid_auto_rows": null,
            "grid_column": null,
            "grid_gap": null,
            "grid_row": null,
            "grid_template_areas": null,
            "grid_template_columns": null,
            "grid_template_rows": null,
            "height": null,
            "justify_content": null,
            "justify_items": null,
            "left": null,
            "margin": null,
            "max_height": null,
            "max_width": null,
            "min_height": null,
            "min_width": null,
            "object_fit": null,
            "object_position": null,
            "order": null,
            "overflow": null,
            "overflow_x": null,
            "overflow_y": null,
            "padding": null,
            "right": null,
            "top": null,
            "visibility": null,
            "width": null
          }
        },
        "86b5dc6270c14fd8b60ce9345ebd3fe2": {
          "model_module": "@jupyter-widgets/controls",
          "model_name": "ProgressStyleModel",
          "model_module_version": "1.5.0",
          "state": {
            "_model_module": "@jupyter-widgets/controls",
            "_model_module_version": "1.5.0",
            "_model_name": "ProgressStyleModel",
            "_view_count": null,
            "_view_module": "@jupyter-widgets/base",
            "_view_module_version": "1.2.0",
            "_view_name": "StyleView",
            "bar_color": null,
            "description_width": ""
          }
        },
        "71f75a061a764f419be10af8d97ff986": {
          "model_module": "@jupyter-widgets/base",
          "model_name": "LayoutModel",
          "model_module_version": "1.2.0",
          "state": {
            "_model_module": "@jupyter-widgets/base",
            "_model_module_version": "1.2.0",
            "_model_name": "LayoutModel",
            "_view_count": null,
            "_view_module": "@jupyter-widgets/base",
            "_view_module_version": "1.2.0",
            "_view_name": "LayoutView",
            "align_content": null,
            "align_items": null,
            "align_self": null,
            "border": null,
            "bottom": null,
            "display": null,
            "flex": null,
            "flex_flow": null,
            "grid_area": null,
            "grid_auto_columns": null,
            "grid_auto_flow": null,
            "grid_auto_rows": null,
            "grid_column": null,
            "grid_gap": null,
            "grid_row": null,
            "grid_template_areas": null,
            "grid_template_columns": null,
            "grid_template_rows": null,
            "height": null,
            "justify_content": null,
            "justify_items": null,
            "left": null,
            "margin": null,
            "max_height": null,
            "max_width": null,
            "min_height": null,
            "min_width": null,
            "object_fit": null,
            "object_position": null,
            "order": null,
            "overflow": null,
            "overflow_x": null,
            "overflow_y": null,
            "padding": null,
            "right": null,
            "top": null,
            "visibility": null,
            "width": null
          }
        },
        "02821140c6e8421db5ef69d6e657c5f7": {
          "model_module": "@jupyter-widgets/controls",
          "model_name": "DescriptionStyleModel",
          "model_module_version": "1.5.0",
          "state": {
            "_model_module": "@jupyter-widgets/controls",
            "_model_module_version": "1.5.0",
            "_model_name": "DescriptionStyleModel",
            "_view_count": null,
            "_view_module": "@jupyter-widgets/base",
            "_view_module_version": "1.2.0",
            "_view_name": "StyleView",
            "description_width": ""
          }
        },
        "1d69d8c5ac454c93985e7ab62bc86ade": {
          "model_module": "@jupyter-widgets/controls",
          "model_name": "HBoxModel",
          "model_module_version": "1.5.0",
          "state": {
            "_dom_classes": [],
            "_model_module": "@jupyter-widgets/controls",
            "_model_module_version": "1.5.0",
            "_model_name": "HBoxModel",
            "_view_count": null,
            "_view_module": "@jupyter-widgets/controls",
            "_view_module_version": "1.5.0",
            "_view_name": "HBoxView",
            "box_style": "",
            "children": [
              "IPY_MODEL_f4cdd36581c44e4da997ae2d1b9e8793",
              "IPY_MODEL_d3789fd3c2034133a48323e6910dd3b5",
              "IPY_MODEL_45969bb3bf83420da59e4d56d755ecd2"
            ],
            "layout": "IPY_MODEL_2e783dd171624306a6280e49194a6e93"
          }
        },
        "f4cdd36581c44e4da997ae2d1b9e8793": {
          "model_module": "@jupyter-widgets/controls",
          "model_name": "HTMLModel",
          "model_module_version": "1.5.0",
          "state": {
            "_dom_classes": [],
            "_model_module": "@jupyter-widgets/controls",
            "_model_module_version": "1.5.0",
            "_model_name": "HTMLModel",
            "_view_count": null,
            "_view_module": "@jupyter-widgets/controls",
            "_view_module_version": "1.5.0",
            "_view_name": "HTMLView",
            "description": "",
            "description_tooltip": null,
            "layout": "IPY_MODEL_1480ff94b49e4ee19fc37c13dc8b4972",
            "placeholder": "​",
            "style": "IPY_MODEL_dd8bcf9c906e4a3e990f61c02cc4690c",
            "value": "Shuffling ~/tensorflow_datasets/diamonds/1.0.0.incomplete2WUPHV/diamonds-train.tfrecord*...:  56%"
          }
        },
        "d3789fd3c2034133a48323e6910dd3b5": {
          "model_module": "@jupyter-widgets/controls",
          "model_name": "FloatProgressModel",
          "model_module_version": "1.5.0",
          "state": {
            "_dom_classes": [],
            "_model_module": "@jupyter-widgets/controls",
            "_model_module_version": "1.5.0",
            "_model_name": "FloatProgressModel",
            "_view_count": null,
            "_view_module": "@jupyter-widgets/controls",
            "_view_module_version": "1.5.0",
            "_view_name": "ProgressView",
            "bar_style": "",
            "description": "",
            "description_tooltip": null,
            "layout": "IPY_MODEL_012204798fd548e0bb90841f60207cbd",
            "max": 53940,
            "min": 0,
            "orientation": "horizontal",
            "style": "IPY_MODEL_8b7ed7246d374f3b80e66bf41fddb7b7",
            "value": 53940
          }
        },
        "45969bb3bf83420da59e4d56d755ecd2": {
          "model_module": "@jupyter-widgets/controls",
          "model_name": "HTMLModel",
          "model_module_version": "1.5.0",
          "state": {
            "_dom_classes": [],
            "_model_module": "@jupyter-widgets/controls",
            "_model_module_version": "1.5.0",
            "_model_name": "HTMLModel",
            "_view_count": null,
            "_view_module": "@jupyter-widgets/controls",
            "_view_module_version": "1.5.0",
            "_view_name": "HTMLView",
            "description": "",
            "description_tooltip": null,
            "layout": "IPY_MODEL_c390aaad150c42b48e843ebd17cdd0e4",
            "placeholder": "​",
            "style": "IPY_MODEL_948944e7f4b948aaaad23129a6c895c4",
            "value": " 30054/53940 [00:00&lt;00:00, 157381.27 examples/s]"
          }
        },
        "2e783dd171624306a6280e49194a6e93": {
          "model_module": "@jupyter-widgets/base",
          "model_name": "LayoutModel",
          "model_module_version": "1.2.0",
          "state": {
            "_model_module": "@jupyter-widgets/base",
            "_model_module_version": "1.2.0",
            "_model_name": "LayoutModel",
            "_view_count": null,
            "_view_module": "@jupyter-widgets/base",
            "_view_module_version": "1.2.0",
            "_view_name": "LayoutView",
            "align_content": null,
            "align_items": null,
            "align_self": null,
            "border": null,
            "bottom": null,
            "display": null,
            "flex": null,
            "flex_flow": null,
            "grid_area": null,
            "grid_auto_columns": null,
            "grid_auto_flow": null,
            "grid_auto_rows": null,
            "grid_column": null,
            "grid_gap": null,
            "grid_row": null,
            "grid_template_areas": null,
            "grid_template_columns": null,
            "grid_template_rows": null,
            "height": null,
            "justify_content": null,
            "justify_items": null,
            "left": null,
            "margin": null,
            "max_height": null,
            "max_width": null,
            "min_height": null,
            "min_width": null,
            "object_fit": null,
            "object_position": null,
            "order": null,
            "overflow": null,
            "overflow_x": null,
            "overflow_y": null,
            "padding": null,
            "right": null,
            "top": null,
            "visibility": null,
            "width": null
          }
        },
        "1480ff94b49e4ee19fc37c13dc8b4972": {
          "model_module": "@jupyter-widgets/base",
          "model_name": "LayoutModel",
          "model_module_version": "1.2.0",
          "state": {
            "_model_module": "@jupyter-widgets/base",
            "_model_module_version": "1.2.0",
            "_model_name": "LayoutModel",
            "_view_count": null,
            "_view_module": "@jupyter-widgets/base",
            "_view_module_version": "1.2.0",
            "_view_name": "LayoutView",
            "align_content": null,
            "align_items": null,
            "align_self": null,
            "border": null,
            "bottom": null,
            "display": null,
            "flex": null,
            "flex_flow": null,
            "grid_area": null,
            "grid_auto_columns": null,
            "grid_auto_flow": null,
            "grid_auto_rows": null,
            "grid_column": null,
            "grid_gap": null,
            "grid_row": null,
            "grid_template_areas": null,
            "grid_template_columns": null,
            "grid_template_rows": null,
            "height": null,
            "justify_content": null,
            "justify_items": null,
            "left": null,
            "margin": null,
            "max_height": null,
            "max_width": null,
            "min_height": null,
            "min_width": null,
            "object_fit": null,
            "object_position": null,
            "order": null,
            "overflow": null,
            "overflow_x": null,
            "overflow_y": null,
            "padding": null,
            "right": null,
            "top": null,
            "visibility": null,
            "width": null
          }
        },
        "dd8bcf9c906e4a3e990f61c02cc4690c": {
          "model_module": "@jupyter-widgets/controls",
          "model_name": "DescriptionStyleModel",
          "model_module_version": "1.5.0",
          "state": {
            "_model_module": "@jupyter-widgets/controls",
            "_model_module_version": "1.5.0",
            "_model_name": "DescriptionStyleModel",
            "_view_count": null,
            "_view_module": "@jupyter-widgets/base",
            "_view_module_version": "1.2.0",
            "_view_name": "StyleView",
            "description_width": ""
          }
        },
        "012204798fd548e0bb90841f60207cbd": {
          "model_module": "@jupyter-widgets/base",
          "model_name": "LayoutModel",
          "model_module_version": "1.2.0",
          "state": {
            "_model_module": "@jupyter-widgets/base",
            "_model_module_version": "1.2.0",
            "_model_name": "LayoutModel",
            "_view_count": null,
            "_view_module": "@jupyter-widgets/base",
            "_view_module_version": "1.2.0",
            "_view_name": "LayoutView",
            "align_content": null,
            "align_items": null,
            "align_self": null,
            "border": null,
            "bottom": null,
            "display": null,
            "flex": null,
            "flex_flow": null,
            "grid_area": null,
            "grid_auto_columns": null,
            "grid_auto_flow": null,
            "grid_auto_rows": null,
            "grid_column": null,
            "grid_gap": null,
            "grid_row": null,
            "grid_template_areas": null,
            "grid_template_columns": null,
            "grid_template_rows": null,
            "height": null,
            "justify_content": null,
            "justify_items": null,
            "left": null,
            "margin": null,
            "max_height": null,
            "max_width": null,
            "min_height": null,
            "min_width": null,
            "object_fit": null,
            "object_position": null,
            "order": null,
            "overflow": null,
            "overflow_x": null,
            "overflow_y": null,
            "padding": null,
            "right": null,
            "top": null,
            "visibility": null,
            "width": null
          }
        },
        "8b7ed7246d374f3b80e66bf41fddb7b7": {
          "model_module": "@jupyter-widgets/controls",
          "model_name": "ProgressStyleModel",
          "model_module_version": "1.5.0",
          "state": {
            "_model_module": "@jupyter-widgets/controls",
            "_model_module_version": "1.5.0",
            "_model_name": "ProgressStyleModel",
            "_view_count": null,
            "_view_module": "@jupyter-widgets/base",
            "_view_module_version": "1.2.0",
            "_view_name": "StyleView",
            "bar_color": null,
            "description_width": ""
          }
        },
        "c390aaad150c42b48e843ebd17cdd0e4": {
          "model_module": "@jupyter-widgets/base",
          "model_name": "LayoutModel",
          "model_module_version": "1.2.0",
          "state": {
            "_model_module": "@jupyter-widgets/base",
            "_model_module_version": "1.2.0",
            "_model_name": "LayoutModel",
            "_view_count": null,
            "_view_module": "@jupyter-widgets/base",
            "_view_module_version": "1.2.0",
            "_view_name": "LayoutView",
            "align_content": null,
            "align_items": null,
            "align_self": null,
            "border": null,
            "bottom": null,
            "display": null,
            "flex": null,
            "flex_flow": null,
            "grid_area": null,
            "grid_auto_columns": null,
            "grid_auto_flow": null,
            "grid_auto_rows": null,
            "grid_column": null,
            "grid_gap": null,
            "grid_row": null,
            "grid_template_areas": null,
            "grid_template_columns": null,
            "grid_template_rows": null,
            "height": null,
            "justify_content": null,
            "justify_items": null,
            "left": null,
            "margin": null,
            "max_height": null,
            "max_width": null,
            "min_height": null,
            "min_width": null,
            "object_fit": null,
            "object_position": null,
            "order": null,
            "overflow": null,
            "overflow_x": null,
            "overflow_y": null,
            "padding": null,
            "right": null,
            "top": null,
            "visibility": null,
            "width": null
          }
        },
        "948944e7f4b948aaaad23129a6c895c4": {
          "model_module": "@jupyter-widgets/controls",
          "model_name": "DescriptionStyleModel",
          "model_module_version": "1.5.0",
          "state": {
            "_model_module": "@jupyter-widgets/controls",
            "_model_module_version": "1.5.0",
            "_model_name": "DescriptionStyleModel",
            "_view_count": null,
            "_view_module": "@jupyter-widgets/base",
            "_view_module_version": "1.2.0",
            "_view_name": "StyleView",
            "description_width": ""
          }
        }
      }
    }
  },
  "nbformat": 4,
  "nbformat_minor": 0
}