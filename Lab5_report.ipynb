{
  "cells": [
    {
      "cell_type": "markdown",
      "metadata": {
        "id": "view-in-github",
        "colab_type": "text"
      },
      "source": [
        "<a href=\"https://colab.research.google.com/github/KhudV/MML/blob/main/Lab5_report.ipynb\" target=\"_parent\"><img src=\"https://colab.research.google.com/assets/colab-badge.svg\" alt=\"Open In Colab\"/></a>"
      ]
    },
    {
      "cell_type": "markdown",
      "metadata": {
        "id": "bkvu6piHt3ra"
      },
      "source": [
        "### РОССИЙСКИЙ УНИВЕРСИТЕТ ДРУЖБЫ НАРОДОВ\n",
        "\n",
        "#### Факультет физико-математических и естественных наук  \n",
        "#### Кафедра информационных технологий"
      ]
    },
    {
      "cell_type": "markdown",
      "metadata": {
        "id": "djXIWnpjt3rf"
      },
      "source": [
        "## ОТЧЕТ ПО ЛАБОРАТОРНОЙ РАБОТЕ № 5\n",
        "\n",
        "\n",
        "### Дисциплина: Методы машинного обучения"
      ]
    },
    {
      "cell_type": "markdown",
      "metadata": {
        "id": "fo_ynhTst3rg"
      },
      "source": [
        "\n",
        "\n",
        "##### Студент:  Худицкий Василий\n",
        "##### Группа:   НКНбд-01-19"
      ]
    },
    {
      "cell_type": "markdown",
      "metadata": {
        "id": "TbvGIymht3rh"
      },
      "source": [
        "## Москва 2022\n",
        "***"
      ]
    },
    {
      "cell_type": "markdown",
      "metadata": {
        "id": "avs03Eqmt3rh"
      },
      "source": [
        "### Вариант №13\n",
        "\n",
        "1. Считайте котировки акции с указанным ниже тикером за 2019-2020 год:\n",
        "\n",
        " C         Citigroup Inc\n",
        "\n",
        "2. Показатель акции: дневной убыток/, способ визуализации – эмпирическая CDF  \n",
        "\n",
        "3. Прогнозирование стоимости акции через 10 дней по данным за предыдущие 40 дней.\n",
        "\n",
        "4. Показатель качества MSE\n",
        "\n",
        "5. Техника борьбы с исчезающими градиентами:\n",
        "\n",
        "Альтернативная инициализация весов"
      ]
    },
    {
      "cell_type": "markdown",
      "source": [
        "Решение:\n",
        "\n",
        "1. При помощи модуля `pandas_datareader` считайте котировки указанной в индивидуальным задании акции за указанный период времени."
      ],
      "metadata": {
        "id": "BAiaa77nOt_I"
      }
    },
    {
      "cell_type": "code",
      "source": [
        "!pip install yfinance"
      ],
      "metadata": {
        "colab": {
          "base_uri": "https://localhost:8080/"
        },
        "id": "9LSzDYld_Agp",
        "outputId": "cb10a803-5017-423f-a872-48357cd6c623"
      },
      "execution_count": null,
      "outputs": [
        {
          "output_type": "stream",
          "name": "stdout",
          "text": [
            "Looking in indexes: https://pypi.org/simple, https://us-python.pkg.dev/colab-wheels/public/simple/\n",
            "Requirement already satisfied: yfinance in /usr/local/lib/python3.7/dist-packages (0.1.70)\n",
            "Requirement already satisfied: requests>=2.26 in /usr/local/lib/python3.7/dist-packages (from yfinance) (2.27.1)\n",
            "Requirement already satisfied: pandas>=0.24.0 in /usr/local/lib/python3.7/dist-packages (from yfinance) (1.3.5)\n",
            "Requirement already satisfied: numpy>=1.15 in /usr/local/lib/python3.7/dist-packages (from yfinance) (1.21.6)\n",
            "Requirement already satisfied: lxml>=4.5.1 in /usr/local/lib/python3.7/dist-packages (from yfinance) (4.9.0)\n",
            "Requirement already satisfied: multitasking>=0.0.7 in /usr/local/lib/python3.7/dist-packages (from yfinance) (0.0.10)\n",
            "Requirement already satisfied: pytz>=2017.3 in /usr/local/lib/python3.7/dist-packages (from pandas>=0.24.0->yfinance) (2022.1)\n",
            "Requirement already satisfied: python-dateutil>=2.7.3 in /usr/local/lib/python3.7/dist-packages (from pandas>=0.24.0->yfinance) (2.8.2)\n",
            "Requirement already satisfied: six>=1.5 in /usr/local/lib/python3.7/dist-packages (from python-dateutil>=2.7.3->pandas>=0.24.0->yfinance) (1.15.0)\n",
            "Requirement already satisfied: certifi>=2017.4.17 in /usr/local/lib/python3.7/dist-packages (from requests>=2.26->yfinance) (2022.5.18.1)\n",
            "Requirement already satisfied: idna<4,>=2.5 in /usr/local/lib/python3.7/dist-packages (from requests>=2.26->yfinance) (2.10)\n",
            "Requirement already satisfied: charset-normalizer~=2.0.0 in /usr/local/lib/python3.7/dist-packages (from requests>=2.26->yfinance) (2.0.12)\n",
            "Requirement already satisfied: urllib3<1.27,>=1.21.1 in /usr/local/lib/python3.7/dist-packages (from requests>=2.26->yfinance) (1.24.3)\n"
          ]
        }
      ]
    },
    {
      "cell_type": "code",
      "source": [
        "import numpy as np\n",
        "import matplotlib as mpl\n",
        "import matplotlib.pyplot as plt\n",
        "import pandas as pd\n",
        "import tensorflow as tf\n",
        "from pandas_datareader import data as pdr\n",
        "import yfinance as yfin\n",
        "import datetime as dt\n",
        "\n",
        "yfin.pdr_override()"
      ],
      "metadata": {
        "id": "ols7gBx9-cMp"
      },
      "execution_count": null,
      "outputs": []
    },
    {
      "cell_type": "code",
      "source": [
        "c = pdr.get_data_yahoo('C',\n",
        "                          start=dt.datetime(2019, 1, 1),\n",
        "                          end=dt.datetime(2020, 12, 31))\n",
        "c.head()"
      ],
      "metadata": {
        "colab": {
          "base_uri": "https://localhost:8080/",
          "height": 255
        },
        "id": "38SnTlGt_LE5",
        "outputId": "df419542-a129-4b21-efde-5482ffa7fa05"
      },
      "execution_count": null,
      "outputs": [
        {
          "output_type": "stream",
          "name": "stdout",
          "text": [
            "\r[*********************100%***********************]  1 of 1 completed\n"
          ]
        },
        {
          "output_type": "execute_result",
          "data": {
            "text/plain": [
              "                 Open       High        Low      Close  Adj Close    Volume\n",
              "Date                                                                       \n",
              "2019-01-02  50.680000  53.740002  50.669998  53.529999  47.678234  21646300\n",
              "2019-01-03  53.410000  53.619999  52.220001  52.560001  46.814281  21183000\n",
              "2019-01-04  54.009998  55.380001  53.660000  55.130001  49.103336  24205100\n",
              "2019-01-07  55.330002  56.209999  54.799999  55.610001  49.530865  20634100\n",
              "2019-01-08  56.029999  56.189999  54.759998  55.459999  49.397259  18840100"
            ],
            "text/html": [
              "\n",
              "  <div id=\"df-0daf611c-323d-4db9-b324-e4465f14bbef\">\n",
              "    <div class=\"colab-df-container\">\n",
              "      <div>\n",
              "<style scoped>\n",
              "    .dataframe tbody tr th:only-of-type {\n",
              "        vertical-align: middle;\n",
              "    }\n",
              "\n",
              "    .dataframe tbody tr th {\n",
              "        vertical-align: top;\n",
              "    }\n",
              "\n",
              "    .dataframe thead th {\n",
              "        text-align: right;\n",
              "    }\n",
              "</style>\n",
              "<table border=\"1\" class=\"dataframe\">\n",
              "  <thead>\n",
              "    <tr style=\"text-align: right;\">\n",
              "      <th></th>\n",
              "      <th>Open</th>\n",
              "      <th>High</th>\n",
              "      <th>Low</th>\n",
              "      <th>Close</th>\n",
              "      <th>Adj Close</th>\n",
              "      <th>Volume</th>\n",
              "    </tr>\n",
              "    <tr>\n",
              "      <th>Date</th>\n",
              "      <th></th>\n",
              "      <th></th>\n",
              "      <th></th>\n",
              "      <th></th>\n",
              "      <th></th>\n",
              "      <th></th>\n",
              "    </tr>\n",
              "  </thead>\n",
              "  <tbody>\n",
              "    <tr>\n",
              "      <th>2019-01-02</th>\n",
              "      <td>50.680000</td>\n",
              "      <td>53.740002</td>\n",
              "      <td>50.669998</td>\n",
              "      <td>53.529999</td>\n",
              "      <td>47.678234</td>\n",
              "      <td>21646300</td>\n",
              "    </tr>\n",
              "    <tr>\n",
              "      <th>2019-01-03</th>\n",
              "      <td>53.410000</td>\n",
              "      <td>53.619999</td>\n",
              "      <td>52.220001</td>\n",
              "      <td>52.560001</td>\n",
              "      <td>46.814281</td>\n",
              "      <td>21183000</td>\n",
              "    </tr>\n",
              "    <tr>\n",
              "      <th>2019-01-04</th>\n",
              "      <td>54.009998</td>\n",
              "      <td>55.380001</td>\n",
              "      <td>53.660000</td>\n",
              "      <td>55.130001</td>\n",
              "      <td>49.103336</td>\n",
              "      <td>24205100</td>\n",
              "    </tr>\n",
              "    <tr>\n",
              "      <th>2019-01-07</th>\n",
              "      <td>55.330002</td>\n",
              "      <td>56.209999</td>\n",
              "      <td>54.799999</td>\n",
              "      <td>55.610001</td>\n",
              "      <td>49.530865</td>\n",
              "      <td>20634100</td>\n",
              "    </tr>\n",
              "    <tr>\n",
              "      <th>2019-01-08</th>\n",
              "      <td>56.029999</td>\n",
              "      <td>56.189999</td>\n",
              "      <td>54.759998</td>\n",
              "      <td>55.459999</td>\n",
              "      <td>49.397259</td>\n",
              "      <td>18840100</td>\n",
              "    </tr>\n",
              "  </tbody>\n",
              "</table>\n",
              "</div>\n",
              "      <button class=\"colab-df-convert\" onclick=\"convertToInteractive('df-0daf611c-323d-4db9-b324-e4465f14bbef')\"\n",
              "              title=\"Convert this dataframe to an interactive table.\"\n",
              "              style=\"display:none;\">\n",
              "        \n",
              "  <svg xmlns=\"http://www.w3.org/2000/svg\" height=\"24px\"viewBox=\"0 0 24 24\"\n",
              "       width=\"24px\">\n",
              "    <path d=\"M0 0h24v24H0V0z\" fill=\"none\"/>\n",
              "    <path d=\"M18.56 5.44l.94 2.06.94-2.06 2.06-.94-2.06-.94-.94-2.06-.94 2.06-2.06.94zm-11 1L8.5 8.5l.94-2.06 2.06-.94-2.06-.94L8.5 2.5l-.94 2.06-2.06.94zm10 10l.94 2.06.94-2.06 2.06-.94-2.06-.94-.94-2.06-.94 2.06-2.06.94z\"/><path d=\"M17.41 7.96l-1.37-1.37c-.4-.4-.92-.59-1.43-.59-.52 0-1.04.2-1.43.59L10.3 9.45l-7.72 7.72c-.78.78-.78 2.05 0 2.83L4 21.41c.39.39.9.59 1.41.59.51 0 1.02-.2 1.41-.59l7.78-7.78 2.81-2.81c.8-.78.8-2.07 0-2.86zM5.41 20L4 18.59l7.72-7.72 1.47 1.35L5.41 20z\"/>\n",
              "  </svg>\n",
              "      </button>\n",
              "      \n",
              "  <style>\n",
              "    .colab-df-container {\n",
              "      display:flex;\n",
              "      flex-wrap:wrap;\n",
              "      gap: 12px;\n",
              "    }\n",
              "\n",
              "    .colab-df-convert {\n",
              "      background-color: #E8F0FE;\n",
              "      border: none;\n",
              "      border-radius: 50%;\n",
              "      cursor: pointer;\n",
              "      display: none;\n",
              "      fill: #1967D2;\n",
              "      height: 32px;\n",
              "      padding: 0 0 0 0;\n",
              "      width: 32px;\n",
              "    }\n",
              "\n",
              "    .colab-df-convert:hover {\n",
              "      background-color: #E2EBFA;\n",
              "      box-shadow: 0px 1px 2px rgba(60, 64, 67, 0.3), 0px 1px 3px 1px rgba(60, 64, 67, 0.15);\n",
              "      fill: #174EA6;\n",
              "    }\n",
              "\n",
              "    [theme=dark] .colab-df-convert {\n",
              "      background-color: #3B4455;\n",
              "      fill: #D2E3FC;\n",
              "    }\n",
              "\n",
              "    [theme=dark] .colab-df-convert:hover {\n",
              "      background-color: #434B5C;\n",
              "      box-shadow: 0px 1px 3px 1px rgba(0, 0, 0, 0.15);\n",
              "      filter: drop-shadow(0px 1px 2px rgba(0, 0, 0, 0.3));\n",
              "      fill: #FFFFFF;\n",
              "    }\n",
              "  </style>\n",
              "\n",
              "      <script>\n",
              "        const buttonEl =\n",
              "          document.querySelector('#df-0daf611c-323d-4db9-b324-e4465f14bbef button.colab-df-convert');\n",
              "        buttonEl.style.display =\n",
              "          google.colab.kernel.accessAllowed ? 'block' : 'none';\n",
              "\n",
              "        async function convertToInteractive(key) {\n",
              "          const element = document.querySelector('#df-0daf611c-323d-4db9-b324-e4465f14bbef');\n",
              "          const dataTable =\n",
              "            await google.colab.kernel.invokeFunction('convertToInteractive',\n",
              "                                                     [key], {});\n",
              "          if (!dataTable) return;\n",
              "\n",
              "          const docLinkHtml = 'Like what you see? Visit the ' +\n",
              "            '<a target=\"_blank\" href=https://colab.research.google.com/notebooks/data_table.ipynb>data table notebook</a>'\n",
              "            + ' to learn more about interactive tables.';\n",
              "          element.innerHTML = '';\n",
              "          dataTable['output_type'] = 'display_data';\n",
              "          await google.colab.output.renderOutput(dataTable, element);\n",
              "          const docLink = document.createElement('div');\n",
              "          docLink.innerHTML = docLinkHtml;\n",
              "          element.appendChild(docLink);\n",
              "        }\n",
              "      </script>\n",
              "    </div>\n",
              "  </div>\n",
              "  "
            ]
          },
          "metadata": {},
          "execution_count": 3
        }
      ]
    },
    {
      "cell_type": "code",
      "source": [
        "c.tail()"
      ],
      "metadata": {
        "colab": {
          "base_uri": "https://localhost:8080/",
          "height": 237
        },
        "id": "i7QNrKYM_ZeA",
        "outputId": "825569fc-7154-4896-847d-5fa738fcddda"
      },
      "execution_count": null,
      "outputs": [
        {
          "output_type": "execute_result",
          "data": {
            "text/plain": [
              "                 Open       High        Low      Close  Adj Close    Volume\n",
              "Date                                                                       \n",
              "2020-12-23  60.000000  61.310001  59.790001  60.779999  57.921440  16579100\n",
              "2020-12-24  60.930000  61.090000  59.880001  60.570000  57.721313   6824400\n",
              "2020-12-28  60.619999  61.930000  60.490002  61.130001  58.254978  14414600\n",
              "2020-12-29  61.150002  61.400002  60.549999  60.910000  58.045322  10800400\n",
              "2020-12-30  60.910000  61.270000  60.669998  60.860001  57.997681  10770700"
            ],
            "text/html": [
              "\n",
              "  <div id=\"df-cd846562-0e6e-4e98-9f2f-4539a97bf5da\">\n",
              "    <div class=\"colab-df-container\">\n",
              "      <div>\n",
              "<style scoped>\n",
              "    .dataframe tbody tr th:only-of-type {\n",
              "        vertical-align: middle;\n",
              "    }\n",
              "\n",
              "    .dataframe tbody tr th {\n",
              "        vertical-align: top;\n",
              "    }\n",
              "\n",
              "    .dataframe thead th {\n",
              "        text-align: right;\n",
              "    }\n",
              "</style>\n",
              "<table border=\"1\" class=\"dataframe\">\n",
              "  <thead>\n",
              "    <tr style=\"text-align: right;\">\n",
              "      <th></th>\n",
              "      <th>Open</th>\n",
              "      <th>High</th>\n",
              "      <th>Low</th>\n",
              "      <th>Close</th>\n",
              "      <th>Adj Close</th>\n",
              "      <th>Volume</th>\n",
              "    </tr>\n",
              "    <tr>\n",
              "      <th>Date</th>\n",
              "      <th></th>\n",
              "      <th></th>\n",
              "      <th></th>\n",
              "      <th></th>\n",
              "      <th></th>\n",
              "      <th></th>\n",
              "    </tr>\n",
              "  </thead>\n",
              "  <tbody>\n",
              "    <tr>\n",
              "      <th>2020-12-23</th>\n",
              "      <td>60.000000</td>\n",
              "      <td>61.310001</td>\n",
              "      <td>59.790001</td>\n",
              "      <td>60.779999</td>\n",
              "      <td>57.921440</td>\n",
              "      <td>16579100</td>\n",
              "    </tr>\n",
              "    <tr>\n",
              "      <th>2020-12-24</th>\n",
              "      <td>60.930000</td>\n",
              "      <td>61.090000</td>\n",
              "      <td>59.880001</td>\n",
              "      <td>60.570000</td>\n",
              "      <td>57.721313</td>\n",
              "      <td>6824400</td>\n",
              "    </tr>\n",
              "    <tr>\n",
              "      <th>2020-12-28</th>\n",
              "      <td>60.619999</td>\n",
              "      <td>61.930000</td>\n",
              "      <td>60.490002</td>\n",
              "      <td>61.130001</td>\n",
              "      <td>58.254978</td>\n",
              "      <td>14414600</td>\n",
              "    </tr>\n",
              "    <tr>\n",
              "      <th>2020-12-29</th>\n",
              "      <td>61.150002</td>\n",
              "      <td>61.400002</td>\n",
              "      <td>60.549999</td>\n",
              "      <td>60.910000</td>\n",
              "      <td>58.045322</td>\n",
              "      <td>10800400</td>\n",
              "    </tr>\n",
              "    <tr>\n",
              "      <th>2020-12-30</th>\n",
              "      <td>60.910000</td>\n",
              "      <td>61.270000</td>\n",
              "      <td>60.669998</td>\n",
              "      <td>60.860001</td>\n",
              "      <td>57.997681</td>\n",
              "      <td>10770700</td>\n",
              "    </tr>\n",
              "  </tbody>\n",
              "</table>\n",
              "</div>\n",
              "      <button class=\"colab-df-convert\" onclick=\"convertToInteractive('df-cd846562-0e6e-4e98-9f2f-4539a97bf5da')\"\n",
              "              title=\"Convert this dataframe to an interactive table.\"\n",
              "              style=\"display:none;\">\n",
              "        \n",
              "  <svg xmlns=\"http://www.w3.org/2000/svg\" height=\"24px\"viewBox=\"0 0 24 24\"\n",
              "       width=\"24px\">\n",
              "    <path d=\"M0 0h24v24H0V0z\" fill=\"none\"/>\n",
              "    <path d=\"M18.56 5.44l.94 2.06.94-2.06 2.06-.94-2.06-.94-.94-2.06-.94 2.06-2.06.94zm-11 1L8.5 8.5l.94-2.06 2.06-.94-2.06-.94L8.5 2.5l-.94 2.06-2.06.94zm10 10l.94 2.06.94-2.06 2.06-.94-2.06-.94-.94-2.06-.94 2.06-2.06.94z\"/><path d=\"M17.41 7.96l-1.37-1.37c-.4-.4-.92-.59-1.43-.59-.52 0-1.04.2-1.43.59L10.3 9.45l-7.72 7.72c-.78.78-.78 2.05 0 2.83L4 21.41c.39.39.9.59 1.41.59.51 0 1.02-.2 1.41-.59l7.78-7.78 2.81-2.81c.8-.78.8-2.07 0-2.86zM5.41 20L4 18.59l7.72-7.72 1.47 1.35L5.41 20z\"/>\n",
              "  </svg>\n",
              "      </button>\n",
              "      \n",
              "  <style>\n",
              "    .colab-df-container {\n",
              "      display:flex;\n",
              "      flex-wrap:wrap;\n",
              "      gap: 12px;\n",
              "    }\n",
              "\n",
              "    .colab-df-convert {\n",
              "      background-color: #E8F0FE;\n",
              "      border: none;\n",
              "      border-radius: 50%;\n",
              "      cursor: pointer;\n",
              "      display: none;\n",
              "      fill: #1967D2;\n",
              "      height: 32px;\n",
              "      padding: 0 0 0 0;\n",
              "      width: 32px;\n",
              "    }\n",
              "\n",
              "    .colab-df-convert:hover {\n",
              "      background-color: #E2EBFA;\n",
              "      box-shadow: 0px 1px 2px rgba(60, 64, 67, 0.3), 0px 1px 3px 1px rgba(60, 64, 67, 0.15);\n",
              "      fill: #174EA6;\n",
              "    }\n",
              "\n",
              "    [theme=dark] .colab-df-convert {\n",
              "      background-color: #3B4455;\n",
              "      fill: #D2E3FC;\n",
              "    }\n",
              "\n",
              "    [theme=dark] .colab-df-convert:hover {\n",
              "      background-color: #434B5C;\n",
              "      box-shadow: 0px 1px 3px 1px rgba(0, 0, 0, 0.15);\n",
              "      filter: drop-shadow(0px 1px 2px rgba(0, 0, 0, 0.3));\n",
              "      fill: #FFFFFF;\n",
              "    }\n",
              "  </style>\n",
              "\n",
              "      <script>\n",
              "        const buttonEl =\n",
              "          document.querySelector('#df-cd846562-0e6e-4e98-9f2f-4539a97bf5da button.colab-df-convert');\n",
              "        buttonEl.style.display =\n",
              "          google.colab.kernel.accessAllowed ? 'block' : 'none';\n",
              "\n",
              "        async function convertToInteractive(key) {\n",
              "          const element = document.querySelector('#df-cd846562-0e6e-4e98-9f2f-4539a97bf5da');\n",
              "          const dataTable =\n",
              "            await google.colab.kernel.invokeFunction('convertToInteractive',\n",
              "                                                     [key], {});\n",
              "          if (!dataTable) return;\n",
              "\n",
              "          const docLinkHtml = 'Like what you see? Visit the ' +\n",
              "            '<a target=\"_blank\" href=https://colab.research.google.com/notebooks/data_table.ipynb>data table notebook</a>'\n",
              "            + ' to learn more about interactive tables.';\n",
              "          element.innerHTML = '';\n",
              "          dataTable['output_type'] = 'display_data';\n",
              "          await google.colab.output.renderOutput(dataTable, element);\n",
              "          const docLink = document.createElement('div');\n",
              "          docLink.innerHTML = docLinkHtml;\n",
              "          element.appendChild(docLink);\n",
              "        }\n",
              "      </script>\n",
              "    </div>\n",
              "  </div>\n",
              "  "
            ]
          },
          "metadata": {},
          "execution_count": 4
        }
      ]
    },
    {
      "cell_type": "markdown",
      "source": [
        "2. Визуализируйте котировки акции (столбец `Adj Close`) за весь период на графике. Подпишите оси и рисунок."
      ],
      "metadata": {
        "id": "jeDDebx1O8GF"
      }
    },
    {
      "cell_type": "code",
      "source": [
        "c['Adj Close'].plot.line(grid=True,title='Котировки акций компании Citigroup в 2019-2020 гг.');\n",
        "plt.ylabel('Стоимость')"
      ],
      "metadata": {
        "colab": {
          "base_uri": "https://localhost:8080/",
          "height": 310
        },
        "id": "2p0g4fJ9_mTg",
        "outputId": "af148f4d-12d7-4324-ce6b-eb962db64879"
      },
      "execution_count": null,
      "outputs": [
        {
          "output_type": "execute_result",
          "data": {
            "text/plain": [
              "Text(0, 0.5, 'Стоимость')"
            ]
          },
          "metadata": {},
          "execution_count": 5
        },
        {
          "output_type": "display_data",
          "data": {
            "text/plain": [
              "<Figure size 432x288 with 1 Axes>"
            ],
            "image/png": "[encoded data removed]"
          },
          "metadata": {
            "needs_background": "light"
          }
        }
      ]
    },
    {
      "cell_type": "markdown",
      "source": [
        "3. Вычислите и визуализируйте заданный показатель акции в соответствии с индивидуальным заданием."
      ],
      "metadata": {
        "id": "VTERPNPWPEh2"
      }
    },
    {
      "cell_type": "code",
      "source": [
        "d_close = c[['Adj Close']]\n",
        "d_close"
      ],
      "metadata": {
        "id": "7cdsAVCqAwAB",
        "colab": {
          "base_uri": "https://localhost:8080/",
          "height": 455
        },
        "outputId": "34841f0e-fc9d-4dd9-cc69-78f9de27fceb"
      },
      "execution_count": null,
      "outputs": [
        {
          "output_type": "execute_result",
          "data": {
            "text/plain": [
              "            Adj Close\n",
              "Date                 \n",
              "2019-01-02  47.678234\n",
              "2019-01-03  46.814281\n",
              "2019-01-04  49.103336\n",
              "2019-01-07  49.530865\n",
              "2019-01-08  49.397259\n",
              "...               ...\n",
              "2020-12-23  57.921440\n",
              "2020-12-24  57.721313\n",
              "2020-12-28  58.254978\n",
              "2020-12-29  58.045322\n",
              "2020-12-30  57.997681\n",
              "\n",
              "[504 rows x 1 columns]"
            ],
            "text/html": [
              "\n",
              "  <div id=\"df-1bd88665-6962-48e6-8e39-2e70d008ed72\">\n",
              "    <div class=\"colab-df-container\">\n",
              "      <div>\n",
              "<style scoped>\n",
              "    .dataframe tbody tr th:only-of-type {\n",
              "        vertical-align: middle;\n",
              "    }\n",
              "\n",
              "    .dataframe tbody tr th {\n",
              "        vertical-align: top;\n",
              "    }\n",
              "\n",
              "    .dataframe thead th {\n",
              "        text-align: right;\n",
              "    }\n",
              "</style>\n",
              "<table border=\"1\" class=\"dataframe\">\n",
              "  <thead>\n",
              "    <tr style=\"text-align: right;\">\n",
              "      <th></th>\n",
              "      <th>Adj Close</th>\n",
              "    </tr>\n",
              "    <tr>\n",
              "      <th>Date</th>\n",
              "      <th></th>\n",
              "    </tr>\n",
              "  </thead>\n",
              "  <tbody>\n",
              "    <tr>\n",
              "      <th>2019-01-02</th>\n",
              "      <td>47.678234</td>\n",
              "    </tr>\n",
              "    <tr>\n",
              "      <th>2019-01-03</th>\n",
              "      <td>46.814281</td>\n",
              "    </tr>\n",
              "    <tr>\n",
              "      <th>2019-01-04</th>\n",
              "      <td>49.103336</td>\n",
              "    </tr>\n",
              "    <tr>\n",
              "      <th>2019-01-07</th>\n",
              "      <td>49.530865</td>\n",
              "    </tr>\n",
              "    <tr>\n",
              "      <th>2019-01-08</th>\n",
              "      <td>49.397259</td>\n",
              "    </tr>\n",
              "    <tr>\n",
              "      <th>...</th>\n",
              "      <td>...</td>\n",
              "    </tr>\n",
              "    <tr>\n",
              "      <th>2020-12-23</th>\n",
              "      <td>57.921440</td>\n",
              "    </tr>\n",
              "    <tr>\n",
              "      <th>2020-12-24</th>\n",
              "      <td>57.721313</td>\n",
              "    </tr>\n",
              "    <tr>\n",
              "      <th>2020-12-28</th>\n",
              "      <td>58.254978</td>\n",
              "    </tr>\n",
              "    <tr>\n",
              "      <th>2020-12-29</th>\n",
              "      <td>58.045322</td>\n",
              "    </tr>\n",
              "    <tr>\n",
              "      <th>2020-12-30</th>\n",
              "      <td>57.997681</td>\n",
              "    </tr>\n",
              "  </tbody>\n",
              "</table>\n",
              "<p>504 rows × 1 columns</p>\n",
              "</div>\n",
              "      <button class=\"colab-df-convert\" onclick=\"convertToInteractive('df-1bd88665-6962-48e6-8e39-2e70d008ed72')\"\n",
              "              title=\"Convert this dataframe to an interactive table.\"\n",
              "              style=\"display:none;\">\n",
              "        \n",
              "  <svg xmlns=\"http://www.w3.org/2000/svg\" height=\"24px\"viewBox=\"0 0 24 24\"\n",
              "       width=\"24px\">\n",
              "    <path d=\"M0 0h24v24H0V0z\" fill=\"none\"/>\n",
              "    <path d=\"M18.56 5.44l.94 2.06.94-2.06 2.06-.94-2.06-.94-.94-2.06-.94 2.06-2.06.94zm-11 1L8.5 8.5l.94-2.06 2.06-.94-2.06-.94L8.5 2.5l-.94 2.06-2.06.94zm10 10l.94 2.06.94-2.06 2.06-.94-2.06-.94-.94-2.06-.94 2.06-2.06.94z\"/><path d=\"M17.41 7.96l-1.37-1.37c-.4-.4-.92-.59-1.43-.59-.52 0-1.04.2-1.43.59L10.3 9.45l-7.72 7.72c-.78.78-.78 2.05 0 2.83L4 21.41c.39.39.9.59 1.41.59.51 0 1.02-.2 1.41-.59l7.78-7.78 2.81-2.81c.8-.78.8-2.07 0-2.86zM5.41 20L4 18.59l7.72-7.72 1.47 1.35L5.41 20z\"/>\n",
              "  </svg>\n",
              "      </button>\n",
              "      \n",
              "  <style>\n",
              "    .colab-df-container {\n",
              "      display:flex;\n",
              "      flex-wrap:wrap;\n",
              "      gap: 12px;\n",
              "    }\n",
              "\n",
              "    .colab-df-convert {\n",
              "      background-color: #E8F0FE;\n",
              "      border: none;\n",
              "      border-radius: 50%;\n",
              "      cursor: pointer;\n",
              "      display: none;\n",
              "      fill: #1967D2;\n",
              "      height: 32px;\n",
              "      padding: 0 0 0 0;\n",
              "      width: 32px;\n",
              "    }\n",
              "\n",
              "    .colab-df-convert:hover {\n",
              "      background-color: #E2EBFA;\n",
              "      box-shadow: 0px 1px 2px rgba(60, 64, 67, 0.3), 0px 1px 3px 1px rgba(60, 64, 67, 0.15);\n",
              "      fill: #174EA6;\n",
              "    }\n",
              "\n",
              "    [theme=dark] .colab-df-convert {\n",
              "      background-color: #3B4455;\n",
              "      fill: #D2E3FC;\n",
              "    }\n",
              "\n",
              "    [theme=dark] .colab-df-convert:hover {\n",
              "      background-color: #434B5C;\n",
              "      box-shadow: 0px 1px 3px 1px rgba(0, 0, 0, 0.15);\n",
              "      filter: drop-shadow(0px 1px 2px rgba(0, 0, 0, 0.3));\n",
              "      fill: #FFFFFF;\n",
              "    }\n",
              "  </style>\n",
              "\n",
              "      <script>\n",
              "        const buttonEl =\n",
              "          document.querySelector('#df-1bd88665-6962-48e6-8e39-2e70d008ed72 button.colab-df-convert');\n",
              "        buttonEl.style.display =\n",
              "          google.colab.kernel.accessAllowed ? 'block' : 'none';\n",
              "\n",
              "        async function convertToInteractive(key) {\n",
              "          const element = document.querySelector('#df-1bd88665-6962-48e6-8e39-2e70d008ed72');\n",
              "          const dataTable =\n",
              "            await google.colab.kernel.invokeFunction('convertToInteractive',\n",
              "                                                     [key], {});\n",
              "          if (!dataTable) return;\n",
              "\n",
              "          const docLinkHtml = 'Like what you see? Visit the ' +\n",
              "            '<a target=\"_blank\" href=https://colab.research.google.com/notebooks/data_table.ipynb>data table notebook</a>'\n",
              "            + ' to learn more about interactive tables.';\n",
              "          element.innerHTML = '';\n",
              "          dataTable['output_type'] = 'display_data';\n",
              "          await google.colab.output.renderOutput(dataTable, element);\n",
              "          const docLink = document.createElement('div');\n",
              "          docLink.innerHTML = docLinkHtml;\n",
              "          element.appendChild(docLink);\n",
              "        }\n",
              "      </script>\n",
              "    </div>\n",
              "  </div>\n",
              "  "
            ]
          },
          "metadata": {},
          "execution_count": 6
        }
      ]
    },
    {
      "cell_type": "code",
      "source": [
        "d_pct_ch2 = d_close.shift(1)-d_close\n",
        "d_pct_ch2"
      ],
      "metadata": {
        "id": "cu234kyMAFV5",
        "colab": {
          "base_uri": "https://localhost:8080/",
          "height": 455
        },
        "outputId": "47ecf343-5b66-4b5e-c686-cfc2f378fbad"
      },
      "execution_count": null,
      "outputs": [
        {
          "output_type": "execute_result",
          "data": {
            "text/plain": [
              "            Adj Close\n",
              "Date                 \n",
              "2019-01-02        NaN\n",
              "2019-01-03   0.863953\n",
              "2019-01-04  -2.289055\n",
              "2019-01-07  -0.427528\n",
              "2019-01-08   0.133606\n",
              "...               ...\n",
              "2020-12-23  -1.448513\n",
              "2020-12-24   0.200127\n",
              "2020-12-28  -0.533665\n",
              "2020-12-29   0.209656\n",
              "2020-12-30   0.047642\n",
              "\n",
              "[504 rows x 1 columns]"
            ],
            "text/html": [
              "\n",
              "  <div id=\"df-8e7cbe9c-22f0-4281-8427-c2db228be6c2\">\n",
              "    <div class=\"colab-df-container\">\n",
              "      <div>\n",
              "<style scoped>\n",
              "    .dataframe tbody tr th:only-of-type {\n",
              "        vertical-align: middle;\n",
              "    }\n",
              "\n",
              "    .dataframe tbody tr th {\n",
              "        vertical-align: top;\n",
              "    }\n",
              "\n",
              "    .dataframe thead th {\n",
              "        text-align: right;\n",
              "    }\n",
              "</style>\n",
              "<table border=\"1\" class=\"dataframe\">\n",
              "  <thead>\n",
              "    <tr style=\"text-align: right;\">\n",
              "      <th></th>\n",
              "      <th>Adj Close</th>\n",
              "    </tr>\n",
              "    <tr>\n",
              "      <th>Date</th>\n",
              "      <th></th>\n",
              "    </tr>\n",
              "  </thead>\n",
              "  <tbody>\n",
              "    <tr>\n",
              "      <th>2019-01-02</th>\n",
              "      <td>NaN</td>\n",
              "    </tr>\n",
              "    <tr>\n",
              "      <th>2019-01-03</th>\n",
              "      <td>0.863953</td>\n",
              "    </tr>\n",
              "    <tr>\n",
              "      <th>2019-01-04</th>\n",
              "      <td>-2.289055</td>\n",
              "    </tr>\n",
              "    <tr>\n",
              "      <th>2019-01-07</th>\n",
              "      <td>-0.427528</td>\n",
              "    </tr>\n",
              "    <tr>\n",
              "      <th>2019-01-08</th>\n",
              "      <td>0.133606</td>\n",
              "    </tr>\n",
              "    <tr>\n",
              "      <th>...</th>\n",
              "      <td>...</td>\n",
              "    </tr>\n",
              "    <tr>\n",
              "      <th>2020-12-23</th>\n",
              "      <td>-1.448513</td>\n",
              "    </tr>\n",
              "    <tr>\n",
              "      <th>2020-12-24</th>\n",
              "      <td>0.200127</td>\n",
              "    </tr>\n",
              "    <tr>\n",
              "      <th>2020-12-28</th>\n",
              "      <td>-0.533665</td>\n",
              "    </tr>\n",
              "    <tr>\n",
              "      <th>2020-12-29</th>\n",
              "      <td>0.209656</td>\n",
              "    </tr>\n",
              "    <tr>\n",
              "      <th>2020-12-30</th>\n",
              "      <td>0.047642</td>\n",
              "    </tr>\n",
              "  </tbody>\n",
              "</table>\n",
              "<p>504 rows × 1 columns</p>\n",
              "</div>\n",
              "      <button class=\"colab-df-convert\" onclick=\"convertToInteractive('df-8e7cbe9c-22f0-4281-8427-c2db228be6c2')\"\n",
              "              title=\"Convert this dataframe to an interactive table.\"\n",
              "              style=\"display:none;\">\n",
              "        \n",
              "  <svg xmlns=\"http://www.w3.org/2000/svg\" height=\"24px\"viewBox=\"0 0 24 24\"\n",
              "       width=\"24px\">\n",
              "    <path d=\"M0 0h24v24H0V0z\" fill=\"none\"/>\n",
              "    <path d=\"M18.56 5.44l.94 2.06.94-2.06 2.06-.94-2.06-.94-.94-2.06-.94 2.06-2.06.94zm-11 1L8.5 8.5l.94-2.06 2.06-.94-2.06-.94L8.5 2.5l-.94 2.06-2.06.94zm10 10l.94 2.06.94-2.06 2.06-.94-2.06-.94-.94-2.06-.94 2.06-2.06.94z\"/><path d=\"M17.41 7.96l-1.37-1.37c-.4-.4-.92-.59-1.43-.59-.52 0-1.04.2-1.43.59L10.3 9.45l-7.72 7.72c-.78.78-.78 2.05 0 2.83L4 21.41c.39.39.9.59 1.41.59.51 0 1.02-.2 1.41-.59l7.78-7.78 2.81-2.81c.8-.78.8-2.07 0-2.86zM5.41 20L4 18.59l7.72-7.72 1.47 1.35L5.41 20z\"/>\n",
              "  </svg>\n",
              "      </button>\n",
              "      \n",
              "  <style>\n",
              "    .colab-df-container {\n",
              "      display:flex;\n",
              "      flex-wrap:wrap;\n",
              "      gap: 12px;\n",
              "    }\n",
              "\n",
              "    .colab-df-convert {\n",
              "      background-color: #E8F0FE;\n",
              "      border: none;\n",
              "      border-radius: 50%;\n",
              "      cursor: pointer;\n",
              "      display: none;\n",
              "      fill: #1967D2;\n",
              "      height: 32px;\n",
              "      padding: 0 0 0 0;\n",
              "      width: 32px;\n",
              "    }\n",
              "\n",
              "    .colab-df-convert:hover {\n",
              "      background-color: #E2EBFA;\n",
              "      box-shadow: 0px 1px 2px rgba(60, 64, 67, 0.3), 0px 1px 3px 1px rgba(60, 64, 67, 0.15);\n",
              "      fill: #174EA6;\n",
              "    }\n",
              "\n",
              "    [theme=dark] .colab-df-convert {\n",
              "      background-color: #3B4455;\n",
              "      fill: #D2E3FC;\n",
              "    }\n",
              "\n",
              "    [theme=dark] .colab-df-convert:hover {\n",
              "      background-color: #434B5C;\n",
              "      box-shadow: 0px 1px 3px 1px rgba(0, 0, 0, 0.15);\n",
              "      filter: drop-shadow(0px 1px 2px rgba(0, 0, 0, 0.3));\n",
              "      fill: #FFFFFF;\n",
              "    }\n",
              "  </style>\n",
              "\n",
              "      <script>\n",
              "        const buttonEl =\n",
              "          document.querySelector('#df-8e7cbe9c-22f0-4281-8427-c2db228be6c2 button.colab-df-convert');\n",
              "        buttonEl.style.display =\n",
              "          google.colab.kernel.accessAllowed ? 'block' : 'none';\n",
              "\n",
              "        async function convertToInteractive(key) {\n",
              "          const element = document.querySelector('#df-8e7cbe9c-22f0-4281-8427-c2db228be6c2');\n",
              "          const dataTable =\n",
              "            await google.colab.kernel.invokeFunction('convertToInteractive',\n",
              "                                                     [key], {});\n",
              "          if (!dataTable) return;\n",
              "\n",
              "          const docLinkHtml = 'Like what you see? Visit the ' +\n",
              "            '<a target=\"_blank\" href=https://colab.research.google.com/notebooks/data_table.ipynb>data table notebook</a>'\n",
              "            + ' to learn more about interactive tables.';\n",
              "          element.innerHTML = '';\n",
              "          dataTable['output_type'] = 'display_data';\n",
              "          await google.colab.output.renderOutput(dataTable, element);\n",
              "          const docLink = document.createElement('div');\n",
              "          docLink.innerHTML = docLinkHtml;\n",
              "          element.appendChild(docLink);\n",
              "        }\n",
              "      </script>\n",
              "    </div>\n",
              "  </div>\n",
              "  "
            ]
          },
          "metadata": {},
          "execution_count": 7
        }
      ]
    },
    {
      "cell_type": "code",
      "source": [
        "d_pct_ch2.plot.hist(bins=50, title='Эмпирическая плотность распределения дневного убытка', density=True);"
      ],
      "metadata": {
        "colab": {
          "base_uri": "https://localhost:8080/",
          "height": 281
        },
        "id": "GhRO4ivET2GK",
        "outputId": "499768af-d6fb-4430-8546-ebe252a933d8"
      },
      "execution_count": null,
      "outputs": [
        {
          "output_type": "display_data",
          "data": {
            "text/plain": [
              "<Figure size 432x288 with 1 Axes>"
            ],
            "image/png": "[encoded data removed]"
          },
          "metadata": {
            "needs_background": "light"
          }
        }
      ]
    },
    {
      "cell_type": "markdown",
      "source": [
        "4. Сформируйте обучающую, тестовую и валидационные выборки для обучения нейронной сети в соответствии с индивидуальным заданием."
      ],
      "metadata": {
        "id": "8Wwhh7ljPM6i"
      }
    },
    {
      "cell_type": "code",
      "source": [
        "num_train_samples = int(0.5 * len(c))\n",
        "num_val_samples = int(0.25 * len(c))\n",
        "num_test_samples = len(c) - num_train_samples - num_val_samples\n",
        "print(\"num_train_samples:\", num_train_samples)\n",
        "print(\"num_val_samples:\", num_val_samples)\n",
        "print(\"num_test_samples:\", num_test_samples)"
      ],
      "metadata": {
        "colab": {
          "base_uri": "https://localhost:8080/"
        },
        "id": "KpK67EBvvgce",
        "outputId": "be47deb7-5275-4838-ac07-44dff8b0e213"
      },
      "execution_count": null,
      "outputs": [
        {
          "output_type": "stream",
          "name": "stdout",
          "text": [
            "num_train_samples: 252\n",
            "num_val_samples: 126\n",
            "num_test_samples: 126\n"
          ]
        }
      ]
    },
    {
      "cell_type": "code",
      "source": [
        "ds_train, ds_test, ds_val = np.array(c[['Adj Close']][:num_train_samples]).reshape(-1), np.array(c[['Adj Close']][num_train_samples:num_test_samples+num_train_samples]).reshape(-1), np.array(c[['Adj Close']][-num_val_samples:]).reshape(-1)"
      ],
      "metadata": {
        "id": "7CKw4-K1vNeI"
      },
      "execution_count": null,
      "outputs": []
    },
    {
      "cell_type": "code",
      "source": [
        "ds_train.shape, ds_test.shape, ds_val.shape"
      ],
      "metadata": {
        "colab": {
          "base_uri": "https://localhost:8080/"
        },
        "id": "6OMiLyEqxpdq",
        "outputId": "40929056-de62-4386-ed41-8590e8ea1611"
      },
      "execution_count": null,
      "outputs": [
        {
          "output_type": "execute_result",
          "data": {
            "text/plain": [
              "((252,), (126,), (126,))"
            ]
          },
          "metadata": {},
          "execution_count": 11
        }
      ]
    },
    {
      "cell_type": "code",
      "source": [
        "def create_ds(ds, look_back=1, forward=10):\n",
        "  dataX, dataY = [], []\n",
        "  for i in range(len(ds)-look_back-forward-1):\n",
        "    a = ds[i:(i+look_back)]\n",
        "    dataX.append(a)\n",
        "    dataY.append(ds[i + look_back + forward])\n",
        "  return np.array(dataX), np.array(dataY)"
      ],
      "metadata": {
        "id": "uk-1l6qbupf1"
      },
      "execution_count": null,
      "outputs": []
    },
    {
      "cell_type": "code",
      "source": [
        "look_back = 40\n",
        "trainX, trainY = create_ds(ds_train, look_back=look_back)\n",
        "testX, testY = create_ds(ds_test, look_back=look_back)\n",
        "valX, valY = create_ds(ds_val, look_back=look_back)\n",
        "trainX.shape, trainY.shape, testX.shape, testY.shape, valX.shape, valY.shape"
      ],
      "metadata": {
        "colab": {
          "base_uri": "https://localhost:8080/"
        },
        "id": "uoIvY-YBu3uJ",
        "outputId": "522400e2-d1ed-4f67-e9e5-3641812416b0"
      },
      "execution_count": null,
      "outputs": [
        {
          "output_type": "execute_result",
          "data": {
            "text/plain": [
              "((201, 40), (201,), (75, 40), (75,), (75, 40), (75,))"
            ]
          },
          "metadata": {},
          "execution_count": 13
        }
      ]
    },
    {
      "cell_type": "code",
      "source": [
        "# reshape input to be [samples, time steps, features]\n",
        "trainX = np.reshape(trainX, (trainX.shape[0], 1, trainX.shape[1]))\n",
        "testX = np.reshape(testX, (testX.shape[0], 1, testX.shape[1]))\n",
        "valX = np.reshape(valX, (testX.shape[0], 1, valX.shape[1]))\n",
        "trainX.shape, testX.shape, valX.shape"
      ],
      "metadata": {
        "colab": {
          "base_uri": "https://localhost:8080/"
        },
        "id": "1RLRmtL8vT5q",
        "outputId": "009807d6-b9cb-4d97-aac9-9afae7c0ea9f"
      },
      "execution_count": null,
      "outputs": [
        {
          "output_type": "execute_result",
          "data": {
            "text/plain": [
              "((201, 1, 40), (75, 1, 40), (75, 1, 40))"
            ]
          },
          "metadata": {},
          "execution_count": 14
        }
      ]
    },
    {
      "cell_type": "markdown",
      "source": [
        "5. Постройте нейронную сеть MLP с нормализующим слоем и одним плотным скрытым слоем из 16 нейронов для прогнозирования стоимости акции и обучите ее на обучающей выборке. Оцените качество прогнозирования при помощи заданного показателя качества на тестовой выборке."
      ],
      "metadata": {
        "id": "CG5Gdj85PXCt"
      }
    },
    {
      "cell_type": "code",
      "source": [
        "feature_normalizer = tf.keras.layers.Normalization(axis=None,input_shape=(1, 40))\n",
        "feature_normalizer.adapt(trainX)"
      ],
      "metadata": {
        "id": "LWRFH5BEgKON"
      },
      "execution_count": null,
      "outputs": []
    },
    {
      "cell_type": "code",
      "source": [
        "model_mlp = tf.keras.Sequential([\n",
        "  feature_normalizer,\n",
        "  tf.keras.layers.Dense(16, input_shape=(1,look_back), activation='tanh', name='HiddenLayer'),\n",
        "  tf.keras.layers.Dense(1, name='OutputLayer')])\n",
        "model_mlp.summary()"
      ],
      "metadata": {
        "colab": {
          "base_uri": "https://localhost:8080/"
        },
        "id": "NEl2oYrOd_yJ",
        "outputId": "8dfe3bfc-2b8d-413d-dd21-8e274f095484"
      },
      "execution_count": null,
      "outputs": [
        {
          "output_type": "stream",
          "name": "stdout",
          "text": [
            "Model: \"sequential\"\n",
            "_________________________________________________________________\n",
            " Layer (type)                Output Shape              Param #   \n",
            "=================================================================\n",
            " normalization (Normalizatio  (None, 1, 40)            3         \n",
            " n)                                                              \n",
            "                                                                 \n",
            " HiddenLayer (Dense)         (None, 1, 16)             656       \n",
            "                                                                 \n",
            " OutputLayer (Dense)         (None, 1, 1)              17        \n",
            "                                                                 \n",
            "=================================================================\n",
            "Total params: 676\n",
            "Trainable params: 673\n",
            "Non-trainable params: 3\n",
            "_________________________________________________________________\n"
          ]
        }
      ]
    },
    {
      "cell_type": "code",
      "source": [
        "model_mlp.compile(loss='mean_squared_error', optimizer='adam')\n",
        "history = model_mlp.fit(trainX, trainY, epochs=100, batch_size=128, validation_data=(valX, valY), verbose=2)"
      ],
      "metadata": {
        "colab": {
          "base_uri": "https://localhost:8080/"
        },
        "id": "q93aUETKekfN",
        "outputId": "d870dcb4-5f05-4e96-ea2b-b57bce8de635"
      },
      "execution_count": null,
      "outputs": [
        {
          "output_type": "stream",
          "name": "stdout",
          "text": [
            "Epoch 1/100\n",
            "2/2 - 1s - loss: 3968.3918 - val_loss: 2210.6416 - 923ms/epoch - 461ms/step\n",
            "Epoch 2/100\n",
            "2/2 - 0s - loss: 3963.7046 - val_loss: 2208.9382 - 35ms/epoch - 17ms/step\n",
            "Epoch 3/100\n",
            "2/2 - 0s - loss: 3958.9856 - val_loss: 2207.1150 - 34ms/epoch - 17ms/step\n",
            "Epoch 4/100\n",
            "2/2 - 0s - loss: 3954.3054 - val_loss: 2204.9006 - 42ms/epoch - 21ms/step\n",
            "Epoch 5/100\n",
            "2/2 - 0s - loss: 3949.4521 - val_loss: 2202.3359 - 28ms/epoch - 14ms/step\n",
            "Epoch 6/100\n",
            "2/2 - 0s - loss: 3944.8589 - val_loss: 2198.9458 - 33ms/epoch - 16ms/step\n",
            "Epoch 7/100\n",
            "2/2 - 0s - loss: 3940.1829 - val_loss: 2195.1982 - 42ms/epoch - 21ms/step\n",
            "Epoch 8/100\n",
            "2/2 - 0s - loss: 3935.8955 - val_loss: 2190.9849 - 29ms/epoch - 14ms/step\n",
            "Epoch 9/100\n",
            "2/2 - 0s - loss: 3931.1140 - val_loss: 2186.3147 - 33ms/epoch - 16ms/step\n",
            "Epoch 10/100\n",
            "2/2 - 0s - loss: 3926.7878 - val_loss: 2181.7024 - 34ms/epoch - 17ms/step\n",
            "Epoch 11/100\n",
            "2/2 - 0s - loss: 3922.4067 - val_loss: 2175.8271 - 80ms/epoch - 40ms/step\n",
            "Epoch 12/100\n",
            "2/2 - 0s - loss: 3917.8015 - val_loss: 2170.1501 - 66ms/epoch - 33ms/step\n",
            "Epoch 13/100\n",
            "2/2 - 0s - loss: 3913.6243 - val_loss: 2164.7507 - 92ms/epoch - 46ms/step\n",
            "Epoch 14/100\n",
            "2/2 - 0s - loss: 3909.2466 - val_loss: 2158.1499 - 50ms/epoch - 25ms/step\n",
            "Epoch 15/100\n",
            "2/2 - 0s - loss: 3905.2761 - val_loss: 2151.3733 - 64ms/epoch - 32ms/step\n",
            "Epoch 16/100\n",
            "2/2 - 0s - loss: 3900.6243 - val_loss: 2145.4966 - 47ms/epoch - 24ms/step\n",
            "Epoch 17/100\n",
            "2/2 - 0s - loss: 3896.4707 - val_loss: 2139.6875 - 44ms/epoch - 22ms/step\n",
            "Epoch 18/100\n",
            "2/2 - 0s - loss: 3892.2588 - val_loss: 2134.0796 - 46ms/epoch - 23ms/step\n",
            "Epoch 19/100\n",
            "2/2 - 0s - loss: 3888.0796 - val_loss: 2128.1968 - 54ms/epoch - 27ms/step\n",
            "Epoch 20/100\n",
            "2/2 - 0s - loss: 3883.6003 - val_loss: 2122.3127 - 50ms/epoch - 25ms/step\n",
            "Epoch 21/100\n",
            "2/2 - 0s - loss: 3879.4216 - val_loss: 2116.3572 - 87ms/epoch - 43ms/step\n",
            "Epoch 22/100\n",
            "2/2 - 0s - loss: 3874.9856 - val_loss: 2110.2734 - 52ms/epoch - 26ms/step\n",
            "Epoch 23/100\n",
            "2/2 - 0s - loss: 3870.5542 - val_loss: 2104.1802 - 45ms/epoch - 23ms/step\n",
            "Epoch 24/100\n",
            "2/2 - 0s - loss: 3865.8501 - val_loss: 2098.0320 - 65ms/epoch - 32ms/step\n",
            "Epoch 25/100\n",
            "2/2 - 0s - loss: 3861.2837 - val_loss: 2092.1343 - 47ms/epoch - 24ms/step\n",
            "Epoch 26/100\n",
            "2/2 - 0s - loss: 3856.6621 - val_loss: 2086.1099 - 45ms/epoch - 22ms/step\n",
            "Epoch 27/100\n",
            "2/2 - 0s - loss: 3851.9043 - val_loss: 2078.9294 - 55ms/epoch - 28ms/step\n",
            "Epoch 28/100\n",
            "2/2 - 0s - loss: 3847.2144 - val_loss: 2071.0115 - 46ms/epoch - 23ms/step\n",
            "Epoch 29/100\n",
            "2/2 - 0s - loss: 3841.8420 - val_loss: 2063.9470 - 77ms/epoch - 38ms/step\n",
            "Epoch 30/100\n",
            "2/2 - 0s - loss: 3836.7930 - val_loss: 2056.6614 - 51ms/epoch - 26ms/step\n",
            "Epoch 31/100\n",
            "2/2 - 0s - loss: 3831.2861 - val_loss: 2049.2251 - 67ms/epoch - 33ms/step\n",
            "Epoch 32/100\n",
            "2/2 - 0s - loss: 3826.0459 - val_loss: 2040.7773 - 56ms/epoch - 28ms/step\n",
            "Epoch 33/100\n",
            "2/2 - 0s - loss: 3820.2554 - val_loss: 2034.2085 - 81ms/epoch - 41ms/step\n",
            "Epoch 34/100\n",
            "2/2 - 0s - loss: 3814.9888 - val_loss: 2028.0784 - 52ms/epoch - 26ms/step\n",
            "Epoch 35/100\n",
            "2/2 - 0s - loss: 3808.9546 - val_loss: 2022.1144 - 72ms/epoch - 36ms/step\n",
            "Epoch 36/100\n",
            "2/2 - 0s - loss: 3803.1965 - val_loss: 2016.4030 - 54ms/epoch - 27ms/step\n",
            "Epoch 37/100\n",
            "2/2 - 0s - loss: 3797.4683 - val_loss: 2013.1038 - 75ms/epoch - 38ms/step\n",
            "Epoch 38/100\n",
            "2/2 - 0s - loss: 3792.0571 - val_loss: 2009.7600 - 48ms/epoch - 24ms/step\n",
            "Epoch 39/100\n",
            "2/2 - 0s - loss: 3786.3252 - val_loss: 2009.0758 - 63ms/epoch - 31ms/step\n",
            "Epoch 40/100\n",
            "2/2 - 0s - loss: 3780.9839 - val_loss: 2008.9862 - 69ms/epoch - 34ms/step\n",
            "Epoch 41/100\n",
            "2/2 - 0s - loss: 3775.3545 - val_loss: 2010.5448 - 80ms/epoch - 40ms/step\n",
            "Epoch 42/100\n",
            "2/2 - 0s - loss: 3770.0776 - val_loss: 2013.8285 - 46ms/epoch - 23ms/step\n",
            "Epoch 43/100\n",
            "2/2 - 0s - loss: 3764.1333 - val_loss: 2017.3718 - 47ms/epoch - 23ms/step\n",
            "Epoch 44/100\n",
            "2/2 - 0s - loss: 3759.2798 - val_loss: 2019.7246 - 62ms/epoch - 31ms/step\n",
            "Epoch 45/100\n",
            "2/2 - 0s - loss: 3754.6194 - val_loss: 2021.4882 - 49ms/epoch - 25ms/step\n",
            "Epoch 46/100\n",
            "2/2 - 0s - loss: 3749.3196 - val_loss: 2019.9485 - 52ms/epoch - 26ms/step\n",
            "Epoch 47/100\n",
            "2/2 - 0s - loss: 3743.7954 - val_loss: 2017.5250 - 52ms/epoch - 26ms/step\n",
            "Epoch 48/100\n",
            "2/2 - 0s - loss: 3738.4333 - val_loss: 2014.3915 - 52ms/epoch - 26ms/step\n",
            "Epoch 49/100\n",
            "2/2 - 0s - loss: 3733.1089 - val_loss: 2009.8562 - 45ms/epoch - 23ms/step\n",
            "Epoch 50/100\n",
            "2/2 - 0s - loss: 3728.0969 - val_loss: 2003.4315 - 45ms/epoch - 22ms/step\n",
            "Epoch 51/100\n",
            "2/2 - 0s - loss: 3722.7065 - val_loss: 1997.1925 - 47ms/epoch - 24ms/step\n",
            "Epoch 52/100\n",
            "2/2 - 0s - loss: 3717.6128 - val_loss: 1992.1694 - 48ms/epoch - 24ms/step\n",
            "Epoch 53/100\n",
            "2/2 - 0s - loss: 3712.3123 - val_loss: 1985.8971 - 101ms/epoch - 51ms/step\n",
            "Epoch 54/100\n",
            "2/2 - 0s - loss: 3707.4048 - val_loss: 1981.1981 - 130ms/epoch - 65ms/step\n",
            "Epoch 55/100\n",
            "2/2 - 0s - loss: 3702.7100 - val_loss: 1979.5212 - 66ms/epoch - 33ms/step\n",
            "Epoch 56/100\n",
            "2/2 - 0s - loss: 3697.6431 - val_loss: 1982.7894 - 64ms/epoch - 32ms/step\n",
            "Epoch 57/100\n",
            "2/2 - 0s - loss: 3693.2158 - val_loss: 1985.0586 - 63ms/epoch - 31ms/step\n",
            "Epoch 58/100\n",
            "2/2 - 0s - loss: 3688.8706 - val_loss: 1986.6727 - 45ms/epoch - 22ms/step\n",
            "Epoch 59/100\n",
            "2/2 - 0s - loss: 3684.4890 - val_loss: 1985.2158 - 70ms/epoch - 35ms/step\n",
            "Epoch 60/100\n",
            "2/2 - 0s - loss: 3680.1997 - val_loss: 1983.0692 - 71ms/epoch - 36ms/step\n",
            "Epoch 61/100\n",
            "2/2 - 0s - loss: 3676.0261 - val_loss: 1979.8137 - 48ms/epoch - 24ms/step\n",
            "Epoch 62/100\n",
            "2/2 - 0s - loss: 3671.6599 - val_loss: 1975.9791 - 62ms/epoch - 31ms/step\n",
            "Epoch 63/100\n",
            "2/2 - 0s - loss: 3666.9333 - val_loss: 1970.5198 - 44ms/epoch - 22ms/step\n",
            "Epoch 64/100\n",
            "2/2 - 0s - loss: 3662.8601 - val_loss: 1964.2321 - 93ms/epoch - 46ms/step\n",
            "Epoch 65/100\n",
            "2/2 - 0s - loss: 3658.0889 - val_loss: 1959.4351 - 64ms/epoch - 32ms/step\n",
            "Epoch 66/100\n",
            "2/2 - 0s - loss: 3653.2219 - val_loss: 1954.9677 - 59ms/epoch - 29ms/step\n",
            "Epoch 67/100\n",
            "2/2 - 0s - loss: 3648.4189 - val_loss: 1949.3702 - 39ms/epoch - 19ms/step\n",
            "Epoch 68/100\n",
            "2/2 - 0s - loss: 3643.9646 - val_loss: 1943.8490 - 43ms/epoch - 21ms/step\n",
            "Epoch 69/100\n",
            "2/2 - 0s - loss: 3639.3049 - val_loss: 1941.8979 - 60ms/epoch - 30ms/step\n",
            "Epoch 70/100\n",
            "2/2 - 0s - loss: 3635.1511 - val_loss: 1941.4584 - 50ms/epoch - 25ms/step\n",
            "Epoch 71/100\n",
            "2/2 - 0s - loss: 3631.2227 - val_loss: 1941.0566 - 45ms/epoch - 23ms/step\n",
            "Epoch 72/100\n",
            "2/2 - 0s - loss: 3627.2439 - val_loss: 1944.8735 - 67ms/epoch - 33ms/step\n",
            "Epoch 73/100\n",
            "2/2 - 0s - loss: 3623.7109 - val_loss: 1946.2367 - 47ms/epoch - 24ms/step\n",
            "Epoch 74/100\n",
            "2/2 - 0s - loss: 3620.1672 - val_loss: 1944.4891 - 56ms/epoch - 28ms/step\n",
            "Epoch 75/100\n",
            "2/2 - 0s - loss: 3616.6492 - val_loss: 1943.2515 - 45ms/epoch - 22ms/step\n",
            "Epoch 76/100\n",
            "2/2 - 0s - loss: 3613.0747 - val_loss: 1939.4240 - 65ms/epoch - 32ms/step\n",
            "Epoch 77/100\n",
            "2/2 - 0s - loss: 3609.5193 - val_loss: 1938.4290 - 56ms/epoch - 28ms/step\n",
            "Epoch 78/100\n",
            "2/2 - 0s - loss: 3606.2002 - val_loss: 1938.9242 - 46ms/epoch - 23ms/step\n",
            "Epoch 79/100\n",
            "2/2 - 0s - loss: 3602.6741 - val_loss: 1936.2438 - 46ms/epoch - 23ms/step\n",
            "Epoch 80/100\n",
            "2/2 - 0s - loss: 3599.3281 - val_loss: 1937.3284 - 43ms/epoch - 21ms/step\n",
            "Epoch 81/100\n",
            "2/2 - 0s - loss: 3595.9197 - val_loss: 1940.2444 - 42ms/epoch - 21ms/step\n",
            "Epoch 82/100\n",
            "2/2 - 0s - loss: 3592.2275 - val_loss: 1938.1984 - 44ms/epoch - 22ms/step\n",
            "Epoch 83/100\n",
            "2/2 - 0s - loss: 3588.8965 - val_loss: 1933.5181 - 40ms/epoch - 20ms/step\n",
            "Epoch 84/100\n",
            "2/2 - 0s - loss: 3585.3022 - val_loss: 1927.5381 - 39ms/epoch - 19ms/step\n",
            "Epoch 85/100\n",
            "2/2 - 0s - loss: 3582.1626 - val_loss: 1918.4838 - 62ms/epoch - 31ms/step\n",
            "Epoch 86/100\n",
            "2/2 - 0s - loss: 3578.8591 - val_loss: 1912.8981 - 65ms/epoch - 32ms/step\n",
            "Epoch 87/100\n",
            "2/2 - 0s - loss: 3575.0708 - val_loss: 1907.9463 - 50ms/epoch - 25ms/step\n",
            "Epoch 88/100\n",
            "2/2 - 0s - loss: 3572.6887 - val_loss: 1903.9102 - 51ms/epoch - 25ms/step\n",
            "Epoch 89/100\n",
            "2/2 - 0s - loss: 3569.4172 - val_loss: 1899.6077 - 53ms/epoch - 27ms/step\n",
            "Epoch 90/100\n",
            "2/2 - 0s - loss: 3565.9089 - val_loss: 1896.2462 - 61ms/epoch - 31ms/step\n",
            "Epoch 91/100\n",
            "2/2 - 0s - loss: 3562.9453 - val_loss: 1889.7073 - 60ms/epoch - 30ms/step\n",
            "Epoch 92/100\n",
            "2/2 - 0s - loss: 3559.6145 - val_loss: 1888.3596 - 48ms/epoch - 24ms/step\n",
            "Epoch 93/100\n",
            "2/2 - 0s - loss: 3556.4763 - val_loss: 1886.6252 - 47ms/epoch - 24ms/step\n",
            "Epoch 94/100\n",
            "2/2 - 0s - loss: 3553.3555 - val_loss: 1881.5256 - 58ms/epoch - 29ms/step\n",
            "Epoch 95/100\n",
            "2/2 - 0s - loss: 3549.5378 - val_loss: 1876.1244 - 86ms/epoch - 43ms/step\n",
            "Epoch 96/100\n",
            "2/2 - 0s - loss: 3547.1287 - val_loss: 1868.5442 - 63ms/epoch - 32ms/step\n",
            "Epoch 97/100\n",
            "2/2 - 0s - loss: 3544.0913 - val_loss: 1863.5840 - 49ms/epoch - 24ms/step\n",
            "Epoch 98/100\n",
            "2/2 - 0s - loss: 3541.1909 - val_loss: 1863.0444 - 46ms/epoch - 23ms/step\n",
            "Epoch 99/100\n",
            "2/2 - 0s - loss: 3538.0024 - val_loss: 1866.4790 - 47ms/epoch - 24ms/step\n",
            "Epoch 100/100\n",
            "2/2 - 0s - loss: 3534.8396 - val_loss: 1871.7070 - 43ms/epoch - 22ms/step\n"
          ]
        }
      ]
    },
    {
      "cell_type": "code",
      "source": [
        "testPredict = model_mlp.predict(testX)"
      ],
      "metadata": {
        "id": "oIvt_n9MerfX"
      },
      "execution_count": null,
      "outputs": []
    },
    {
      "cell_type": "code",
      "source": [
        "def my_mse(y_test, y_predict):\n",
        "    return np.sum((y_predict - y_test)**2) / len(y_test)"
      ],
      "metadata": {
        "id": "XJyuP5nqer9f"
      },
      "execution_count": null,
      "outputs": []
    },
    {
      "cell_type": "code",
      "source": [
        "testScore = my_mse(testY, testPredict.reshape(-1))\n",
        "print('Test Score: %.2f MSE' % (testScore))"
      ],
      "metadata": {
        "colab": {
          "base_uri": "https://localhost:8080/"
        },
        "id": "sYVizsn-evHI",
        "outputId": "02db206f-52ef-4a60-ef2e-e84202732d6f"
      },
      "execution_count": null,
      "outputs": [
        {
          "output_type": "stream",
          "name": "stdout",
          "text": [
            "Test Score: 1931.32 MSE\n"
          ]
        }
      ]
    },
    {
      "cell_type": "markdown",
      "source": [
        "6. Примените указанную в индивидуальном задании технику решения проблемы исчезающих градиентов и постройте нейронную сеть MLP с нормализующим слоем и тремя плотными скрытыми слоями из 16 нейронов для прогнозирования стоимости акции и обучите ее на обучающей выборке. Оцените качество прогнозирования при помощи заданного показателя качества для тестовой выборки."
      ],
      "metadata": {
        "id": "bPttp8JTPbju"
      }
    },
    {
      "cell_type": "code",
      "source": [
        "import keras"
      ],
      "metadata": {
        "id": "XEJRxzTE4fSO"
      },
      "execution_count": null,
      "outputs": []
    },
    {
      "cell_type": "code",
      "source": [
        "model_mlp2 = tf.keras.Sequential([\n",
        "  feature_normalizer,\n",
        "  tf.keras.layers.Dense(16, input_shape=(1,look_back), activation='tanh', kernel_initializer=keras.initializers.VarianceScaling(scale=2., mode='fan_avg', distribution='uniform')),\n",
        "  tf.keras.layers.Dense(16, input_shape=(1,look_back), activation='tanh', kernel_initializer=keras.initializers.VarianceScaling(scale=2., mode='fan_avg', distribution='uniform')),\n",
        "  tf.keras.layers.Dense(16, input_shape=(1,look_back), activation='tanh', kernel_initializer=keras.initializers.VarianceScaling(scale=2., mode='fan_avg', distribution='uniform')),\n",
        "  tf.keras.layers.Dense(1, name='OutputLayer')])\n",
        "model_mlp2.summary()"
      ],
      "metadata": {
        "colab": {
          "base_uri": "https://localhost:8080/"
        },
        "id": "jy-p1GPN3uuW",
        "outputId": "42e97506-e1cc-4b1d-e353-975d9ba9a989"
      },
      "execution_count": null,
      "outputs": [
        {
          "output_type": "stream",
          "name": "stdout",
          "text": [
            "Model: \"sequential_1\"\n",
            "_________________________________________________________________\n",
            " Layer (type)                Output Shape              Param #   \n",
            "=================================================================\n",
            " normalization (Normalizatio  (None, 1, 40)            3         \n",
            " n)                                                              \n",
            "                                                                 \n",
            " dense (Dense)               (None, 1, 16)             656       \n",
            "                                                                 \n",
            " dense_1 (Dense)             (None, 1, 16)             272       \n",
            "                                                                 \n",
            " dense_2 (Dense)             (None, 1, 16)             272       \n",
            "                                                                 \n",
            " OutputLayer (Dense)         (None, 1, 1)              17        \n",
            "                                                                 \n",
            "=================================================================\n",
            "Total params: 1,220\n",
            "Trainable params: 1,217\n",
            "Non-trainable params: 3\n",
            "_________________________________________________________________\n"
          ]
        }
      ]
    },
    {
      "cell_type": "code",
      "source": [
        "model_mlp2.compile(loss='mean_squared_error', optimizer='adam')\n",
        "history2 = model_mlp2.fit(trainX, trainY, epochs=100, batch_size=128, validation_data=(valX, valY), verbose=2)"
      ],
      "metadata": {
        "colab": {
          "base_uri": "https://localhost:8080/"
        },
        "id": "ueqOxtpz4xeE",
        "outputId": "4773abfb-d1ed-43b7-b775-04e7a65b4486"
      },
      "execution_count": null,
      "outputs": [
        {
          "output_type": "stream",
          "name": "stdout",
          "text": [
            "Epoch 1/100\n",
            "2/2 - 1s - loss: 3992.3174 - val_loss: 2196.0454 - 1s/epoch - 740ms/step\n",
            "Epoch 2/100\n",
            "2/2 - 0s - loss: 3979.0957 - val_loss: 2184.1594 - 68ms/epoch - 34ms/step\n",
            "Epoch 3/100\n",
            "2/2 - 0s - loss: 3966.1377 - val_loss: 2176.3098 - 55ms/epoch - 28ms/step\n",
            "Epoch 4/100\n",
            "2/2 - 0s - loss: 3954.2500 - val_loss: 2168.0964 - 45ms/epoch - 22ms/step\n",
            "Epoch 5/100\n",
            "2/2 - 0s - loss: 3943.2095 - val_loss: 2161.8708 - 47ms/epoch - 24ms/step\n",
            "Epoch 6/100\n",
            "2/2 - 0s - loss: 3931.6670 - val_loss: 2156.4019 - 55ms/epoch - 28ms/step\n",
            "Epoch 7/100\n",
            "2/2 - 0s - loss: 3921.2693 - val_loss: 2151.0083 - 58ms/epoch - 29ms/step\n",
            "Epoch 8/100\n",
            "2/2 - 0s - loss: 3910.5293 - val_loss: 2146.6726 - 50ms/epoch - 25ms/step\n",
            "Epoch 9/100\n",
            "2/2 - 0s - loss: 3900.8792 - val_loss: 2143.2178 - 53ms/epoch - 26ms/step\n",
            "Epoch 10/100\n",
            "2/2 - 0s - loss: 3891.5559 - val_loss: 2140.0696 - 44ms/epoch - 22ms/step\n",
            "Epoch 11/100\n",
            "2/2 - 0s - loss: 3882.1179 - val_loss: 2139.7195 - 44ms/epoch - 22ms/step\n",
            "Epoch 12/100\n",
            "2/2 - 0s - loss: 3872.9976 - val_loss: 2139.1797 - 50ms/epoch - 25ms/step\n",
            "Epoch 13/100\n",
            "2/2 - 0s - loss: 3863.7488 - val_loss: 2137.8943 - 56ms/epoch - 28ms/step\n",
            "Epoch 14/100\n",
            "2/2 - 0s - loss: 3854.8867 - val_loss: 2138.0798 - 47ms/epoch - 23ms/step\n",
            "Epoch 15/100\n",
            "2/2 - 0s - loss: 3846.3633 - val_loss: 2140.1443 - 58ms/epoch - 29ms/step\n",
            "Epoch 16/100\n",
            "2/2 - 0s - loss: 3837.2285 - val_loss: 2142.4355 - 55ms/epoch - 28ms/step\n",
            "Epoch 17/100\n",
            "2/2 - 0s - loss: 3828.7986 - val_loss: 2144.4978 - 57ms/epoch - 28ms/step\n",
            "Epoch 18/100\n",
            "2/2 - 0s - loss: 3820.1536 - val_loss: 2144.1375 - 49ms/epoch - 25ms/step\n",
            "Epoch 19/100\n",
            "2/2 - 0s - loss: 3811.4646 - val_loss: 2141.4175 - 58ms/epoch - 29ms/step\n",
            "Epoch 20/100\n",
            "2/2 - 0s - loss: 3803.0569 - val_loss: 2138.7063 - 53ms/epoch - 27ms/step\n",
            "Epoch 21/100\n",
            "2/2 - 0s - loss: 3794.2322 - val_loss: 2134.5591 - 62ms/epoch - 31ms/step\n",
            "Epoch 22/100\n",
            "2/2 - 0s - loss: 3785.4470 - val_loss: 2128.4268 - 63ms/epoch - 32ms/step\n",
            "Epoch 23/100\n",
            "2/2 - 0s - loss: 3777.1431 - val_loss: 2122.3796 - 48ms/epoch - 24ms/step\n",
            "Epoch 24/100\n",
            "2/2 - 0s - loss: 3768.4326 - val_loss: 2115.9500 - 46ms/epoch - 23ms/step\n",
            "Epoch 25/100\n",
            "2/2 - 0s - loss: 3760.1274 - val_loss: 2106.2380 - 79ms/epoch - 39ms/step\n",
            "Epoch 26/100\n",
            "2/2 - 0s - loss: 3751.7900 - val_loss: 2089.6738 - 42ms/epoch - 21ms/step\n",
            "Epoch 27/100\n",
            "2/2 - 0s - loss: 3743.1873 - val_loss: 2074.8420 - 44ms/epoch - 22ms/step\n",
            "Epoch 28/100\n",
            "2/2 - 0s - loss: 3735.9172 - val_loss: 2062.1042 - 45ms/epoch - 22ms/step\n",
            "Epoch 29/100\n",
            "2/2 - 0s - loss: 3727.5896 - val_loss: 2049.3418 - 44ms/epoch - 22ms/step\n",
            "Epoch 30/100\n",
            "2/2 - 0s - loss: 3719.8254 - val_loss: 2039.5590 - 42ms/epoch - 21ms/step\n",
            "Epoch 31/100\n",
            "2/2 - 0s - loss: 3712.6809 - val_loss: 2034.9216 - 46ms/epoch - 23ms/step\n",
            "Epoch 32/100\n",
            "2/2 - 0s - loss: 3705.1941 - val_loss: 2035.2673 - 49ms/epoch - 24ms/step\n",
            "Epoch 33/100\n",
            "2/2 - 0s - loss: 3698.0032 - val_loss: 2039.8555 - 44ms/epoch - 22ms/step\n",
            "Epoch 34/100\n",
            "2/2 - 0s - loss: 3691.0503 - val_loss: 2043.4832 - 48ms/epoch - 24ms/step\n",
            "Epoch 35/100\n",
            "2/2 - 0s - loss: 3683.8936 - val_loss: 2044.7931 - 51ms/epoch - 25ms/step\n",
            "Epoch 36/100\n",
            "2/2 - 0s - loss: 3677.1306 - val_loss: 2043.9009 - 49ms/epoch - 24ms/step\n",
            "Epoch 37/100\n",
            "2/2 - 0s - loss: 3670.2310 - val_loss: 2042.1023 - 41ms/epoch - 21ms/step\n",
            "Epoch 38/100\n",
            "2/2 - 0s - loss: 3663.3330 - val_loss: 2036.4033 - 54ms/epoch - 27ms/step\n",
            "Epoch 39/100\n",
            "2/2 - 0s - loss: 3656.5442 - val_loss: 2031.6327 - 43ms/epoch - 21ms/step\n",
            "Epoch 40/100\n",
            "2/2 - 0s - loss: 3649.8452 - val_loss: 2025.9982 - 42ms/epoch - 21ms/step\n",
            "Epoch 41/100\n",
            "2/2 - 0s - loss: 3642.8276 - val_loss: 2022.2073 - 43ms/epoch - 21ms/step\n",
            "Epoch 42/100\n",
            "2/2 - 0s - loss: 3636.0840 - val_loss: 2021.9531 - 45ms/epoch - 23ms/step\n",
            "Epoch 43/100\n",
            "2/2 - 0s - loss: 3629.3577 - val_loss: 2017.8479 - 47ms/epoch - 24ms/step\n",
            "Epoch 44/100\n",
            "2/2 - 0s - loss: 3622.3259 - val_loss: 2019.6730 - 47ms/epoch - 23ms/step\n",
            "Epoch 45/100\n",
            "2/2 - 0s - loss: 3615.5339 - val_loss: 2018.1650 - 46ms/epoch - 23ms/step\n",
            "Epoch 46/100\n",
            "2/2 - 0s - loss: 3608.5354 - val_loss: 2019.5671 - 53ms/epoch - 27ms/step\n",
            "Epoch 47/100\n",
            "2/2 - 0s - loss: 3601.5681 - val_loss: 2021.0321 - 56ms/epoch - 28ms/step\n",
            "Epoch 48/100\n",
            "2/2 - 0s - loss: 3594.4287 - val_loss: 2025.4352 - 52ms/epoch - 26ms/step\n",
            "Epoch 49/100\n",
            "2/2 - 0s - loss: 3587.3220 - val_loss: 2027.7821 - 47ms/epoch - 23ms/step\n",
            "Epoch 50/100\n",
            "2/2 - 0s - loss: 3580.4973 - val_loss: 2030.6282 - 42ms/epoch - 21ms/step\n",
            "Epoch 51/100\n",
            "2/2 - 0s - loss: 3573.0012 - val_loss: 2028.6229 - 51ms/epoch - 26ms/step\n",
            "Epoch 52/100\n",
            "2/2 - 0s - loss: 3565.3640 - val_loss: 2017.5734 - 43ms/epoch - 21ms/step\n",
            "Epoch 53/100\n",
            "2/2 - 0s - loss: 3558.4092 - val_loss: 2008.5238 - 48ms/epoch - 24ms/step\n",
            "Epoch 54/100\n",
            "2/2 - 0s - loss: 3550.6531 - val_loss: 2005.9508 - 56ms/epoch - 28ms/step\n",
            "Epoch 55/100\n",
            "2/2 - 0s - loss: 3543.3135 - val_loss: 2003.9788 - 44ms/epoch - 22ms/step\n",
            "Epoch 56/100\n",
            "2/2 - 0s - loss: 3535.7576 - val_loss: 2002.7919 - 47ms/epoch - 24ms/step\n",
            "Epoch 57/100\n",
            "2/2 - 0s - loss: 3527.4963 - val_loss: 2003.0345 - 56ms/epoch - 28ms/step\n",
            "Epoch 58/100\n",
            "2/2 - 0s - loss: 3519.3826 - val_loss: 2002.7854 - 79ms/epoch - 39ms/step\n",
            "Epoch 59/100\n",
            "2/2 - 0s - loss: 3511.2454 - val_loss: 2000.3455 - 49ms/epoch - 25ms/step\n",
            "Epoch 60/100\n",
            "2/2 - 0s - loss: 3502.9385 - val_loss: 1997.1650 - 41ms/epoch - 20ms/step\n",
            "Epoch 61/100\n",
            "2/2 - 0s - loss: 3493.9678 - val_loss: 1995.9563 - 45ms/epoch - 22ms/step\n",
            "Epoch 62/100\n",
            "2/2 - 0s - loss: 3485.5081 - val_loss: 1992.4419 - 48ms/epoch - 24ms/step\n",
            "Epoch 63/100\n",
            "2/2 - 0s - loss: 3476.5547 - val_loss: 1986.6539 - 46ms/epoch - 23ms/step\n",
            "Epoch 64/100\n",
            "2/2 - 0s - loss: 3466.9785 - val_loss: 1980.8467 - 44ms/epoch - 22ms/step\n",
            "Epoch 65/100\n",
            "2/2 - 0s - loss: 3457.4617 - val_loss: 1975.1562 - 49ms/epoch - 25ms/step\n",
            "Epoch 66/100\n",
            "2/2 - 0s - loss: 3448.2349 - val_loss: 1972.5446 - 43ms/epoch - 21ms/step\n",
            "Epoch 67/100\n",
            "2/2 - 0s - loss: 3438.1760 - val_loss: 1972.5206 - 50ms/epoch - 25ms/step\n",
            "Epoch 68/100\n",
            "2/2 - 0s - loss: 3428.3079 - val_loss: 1967.6023 - 53ms/epoch - 26ms/step\n",
            "Epoch 69/100\n",
            "2/2 - 0s - loss: 3417.8535 - val_loss: 1957.1312 - 50ms/epoch - 25ms/step\n",
            "Epoch 70/100\n",
            "2/2 - 0s - loss: 3407.6555 - val_loss: 1947.0042 - 49ms/epoch - 24ms/step\n",
            "Epoch 71/100\n",
            "2/2 - 0s - loss: 3396.9783 - val_loss: 1944.3214 - 46ms/epoch - 23ms/step\n",
            "Epoch 72/100\n",
            "2/2 - 0s - loss: 3385.9204 - val_loss: 1944.4125 - 49ms/epoch - 24ms/step\n",
            "Epoch 73/100\n",
            "2/2 - 0s - loss: 3374.9976 - val_loss: 1944.5757 - 49ms/epoch - 25ms/step\n",
            "Epoch 74/100\n",
            "2/2 - 0s - loss: 3363.6716 - val_loss: 1944.6453 - 49ms/epoch - 25ms/step\n",
            "Epoch 75/100\n",
            "2/2 - 0s - loss: 3352.5144 - val_loss: 1945.0050 - 45ms/epoch - 22ms/step\n",
            "Epoch 76/100\n",
            "2/2 - 0s - loss: 3340.8196 - val_loss: 1953.0295 - 53ms/epoch - 26ms/step\n",
            "Epoch 77/100\n",
            "2/2 - 0s - loss: 3329.0254 - val_loss: 1957.2297 - 56ms/epoch - 28ms/step\n",
            "Epoch 78/100\n",
            "2/2 - 0s - loss: 3317.4031 - val_loss: 1953.9542 - 52ms/epoch - 26ms/step\n",
            "Epoch 79/100\n",
            "2/2 - 0s - loss: 3305.4246 - val_loss: 1951.2633 - 54ms/epoch - 27ms/step\n",
            "Epoch 80/100\n",
            "2/2 - 0s - loss: 3293.7258 - val_loss: 1948.5829 - 49ms/epoch - 25ms/step\n",
            "Epoch 81/100\n",
            "2/2 - 0s - loss: 3281.3101 - val_loss: 1930.8154 - 52ms/epoch - 26ms/step\n",
            "Epoch 82/100\n",
            "2/2 - 0s - loss: 3269.5588 - val_loss: 1916.9525 - 45ms/epoch - 22ms/step\n",
            "Epoch 83/100\n",
            "2/2 - 0s - loss: 3256.8345 - val_loss: 1908.0452 - 49ms/epoch - 24ms/step\n",
            "Epoch 84/100\n",
            "2/2 - 0s - loss: 3245.0920 - val_loss: 1892.7473 - 52ms/epoch - 26ms/step\n",
            "Epoch 85/100\n",
            "2/2 - 0s - loss: 3233.3030 - val_loss: 1883.3541 - 61ms/epoch - 30ms/step\n",
            "Epoch 86/100\n",
            "2/2 - 0s - loss: 3221.2544 - val_loss: 1877.5123 - 45ms/epoch - 23ms/step\n",
            "Epoch 87/100\n",
            "2/2 - 0s - loss: 3209.5386 - val_loss: 1866.2317 - 49ms/epoch - 25ms/step\n",
            "Epoch 88/100\n",
            "2/2 - 0s - loss: 3197.9939 - val_loss: 1866.8818 - 44ms/epoch - 22ms/step\n",
            "Epoch 89/100\n",
            "2/2 - 0s - loss: 3186.6855 - val_loss: 1876.4819 - 52ms/epoch - 26ms/step\n",
            "Epoch 90/100\n",
            "2/2 - 0s - loss: 3175.1897 - val_loss: 1885.7913 - 59ms/epoch - 29ms/step\n",
            "Epoch 91/100\n",
            "2/2 - 0s - loss: 3164.4592 - val_loss: 1891.4016 - 65ms/epoch - 33ms/step\n",
            "Epoch 92/100\n",
            "2/2 - 0s - loss: 3153.8325 - val_loss: 1887.3558 - 60ms/epoch - 30ms/step\n",
            "Epoch 93/100\n",
            "2/2 - 0s - loss: 3143.1921 - val_loss: 1873.3113 - 56ms/epoch - 28ms/step\n",
            "Epoch 94/100\n",
            "2/2 - 0s - loss: 3133.1272 - val_loss: 1855.1503 - 81ms/epoch - 41ms/step\n",
            "Epoch 95/100\n",
            "2/2 - 0s - loss: 3123.3345 - val_loss: 1829.5250 - 131ms/epoch - 65ms/step\n",
            "Epoch 96/100\n",
            "2/2 - 0s - loss: 3113.6274 - val_loss: 1802.8431 - 117ms/epoch - 59ms/step\n",
            "Epoch 97/100\n",
            "2/2 - 0s - loss: 3104.2432 - val_loss: 1776.9408 - 98ms/epoch - 49ms/step\n",
            "Epoch 98/100\n",
            "2/2 - 0s - loss: 3095.0205 - val_loss: 1753.1000 - 123ms/epoch - 61ms/step\n",
            "Epoch 99/100\n",
            "2/2 - 0s - loss: 3085.9170 - val_loss: 1736.9526 - 96ms/epoch - 48ms/step\n",
            "Epoch 100/100\n",
            "2/2 - 0s - loss: 3077.3157 - val_loss: 1723.6260 - 89ms/epoch - 45ms/step\n"
          ]
        }
      ]
    },
    {
      "cell_type": "code",
      "source": [
        "testPredict2 = model_mlp2.predict(testX)"
      ],
      "metadata": {
        "id": "hvXNfUbO44b2"
      },
      "execution_count": null,
      "outputs": []
    },
    {
      "cell_type": "code",
      "source": [
        "testScore = my_mse(testY, testPredict2.reshape(-1))\n",
        "print('Test Score: %.2f MSE' % (testScore))"
      ],
      "metadata": {
        "colab": {
          "base_uri": "https://localhost:8080/"
        },
        "id": "nopnMnOY5AmI",
        "outputId": "92049c1f-472d-4e7b-b07d-74068122edce"
      },
      "execution_count": null,
      "outputs": [
        {
          "output_type": "stream",
          "name": "stdout",
          "text": [
            "Test Score: 1643.03 MSE\n"
          ]
        }
      ]
    },
    {
      "cell_type": "markdown",
      "source": [
        "7. Постройте рекуррентную нейронную сеть с нормализующим слоем и одним скрытым слоем LSTM из 16 нейронов для прогнозирования стоимости акции и обучите ее на обучающей выборке. Оцените качество прогнозирования при помощи заданного показателя качества на тестовой выборке."
      ],
      "metadata": {
        "id": "b7l3GoPDPg5w"
      }
    },
    {
      "cell_type": "code",
      "source": [
        "model_rnn = tf.keras.Sequential([\n",
        "  feature_normalizer,\n",
        "  tf.keras.layers.LSTM(16, input_shape=(1,look_back)),\n",
        "  tf.keras.layers.Dense(1, name='OutputLayer')])\n",
        "model_rnn.summary()"
      ],
      "metadata": {
        "colab": {
          "base_uri": "https://localhost:8080/"
        },
        "id": "1R1_9zc15JQT",
        "outputId": "ed534098-d6f7-4ca0-e83f-be43bc21794f"
      },
      "execution_count": null,
      "outputs": [
        {
          "output_type": "stream",
          "name": "stdout",
          "text": [
            "Model: \"sequential_2\"\n",
            "_________________________________________________________________\n",
            " Layer (type)                Output Shape              Param #   \n",
            "=================================================================\n",
            " normalization (Normalizatio  (None, 1, 40)            3         \n",
            " n)                                                              \n",
            "                                                                 \n",
            " lstm (LSTM)                 (None, 16)                3648      \n",
            "                                                                 \n",
            " OutputLayer (Dense)         (None, 1)                 17        \n",
            "                                                                 \n",
            "=================================================================\n",
            "Total params: 3,668\n",
            "Trainable params: 3,665\n",
            "Non-trainable params: 3\n",
            "_________________________________________________________________\n"
          ]
        }
      ]
    },
    {
      "cell_type": "code",
      "source": [
        "model_rnn.compile(loss='mean_squared_error', optimizer='adam')\n",
        "history3 = model_rnn.fit(trainX, trainY, epochs=100, batch_size=128, validation_data=(valX, valY), verbose=2)"
      ],
      "metadata": {
        "colab": {
          "base_uri": "https://localhost:8080/"
        },
        "id": "Om9J29nc7tMA",
        "outputId": "8278dd16-1c5c-4c30-f1d2-66d77bfead92"
      },
      "execution_count": null,
      "outputs": [
        {
          "output_type": "stream",
          "name": "stdout",
          "text": [
            "Epoch 1/100\n",
            "2/2 - 3s - loss: 3946.3657 - val_loss: 2227.6926 - 3s/epoch - 1s/step\n",
            "Epoch 2/100\n",
            "2/2 - 0s - loss: 3941.5354 - val_loss: 2215.8652 - 30ms/epoch - 15ms/step\n",
            "Epoch 3/100\n",
            "2/2 - 0s - loss: 3936.4192 - val_loss: 2204.5872 - 30ms/epoch - 15ms/step\n",
            "Epoch 4/100\n",
            "2/2 - 0s - loss: 3931.9304 - val_loss: 2193.3125 - 32ms/epoch - 16ms/step\n",
            "Epoch 5/100\n",
            "2/2 - 0s - loss: 3927.1985 - val_loss: 2182.9006 - 30ms/epoch - 15ms/step\n",
            "Epoch 6/100\n",
            "2/2 - 0s - loss: 3922.7351 - val_loss: 2173.3284 - 30ms/epoch - 15ms/step\n",
            "Epoch 7/100\n",
            "2/2 - 0s - loss: 3918.2202 - val_loss: 2164.8921 - 30ms/epoch - 15ms/step\n",
            "Epoch 8/100\n",
            "2/2 - 0s - loss: 3913.7561 - val_loss: 2157.7561 - 36ms/epoch - 18ms/step\n",
            "Epoch 9/100\n",
            "2/2 - 0s - loss: 3909.2979 - val_loss: 2150.8247 - 31ms/epoch - 16ms/step\n",
            "Epoch 10/100\n",
            "2/2 - 0s - loss: 3904.8284 - val_loss: 2144.6899 - 37ms/epoch - 19ms/step\n",
            "Epoch 11/100\n",
            "2/2 - 0s - loss: 3900.2207 - val_loss: 2138.8765 - 42ms/epoch - 21ms/step\n",
            "Epoch 12/100\n",
            "2/2 - 0s - loss: 3895.6633 - val_loss: 2133.4150 - 39ms/epoch - 20ms/step\n",
            "Epoch 13/100\n",
            "2/2 - 0s - loss: 3890.9963 - val_loss: 2128.1626 - 35ms/epoch - 18ms/step\n",
            "Epoch 14/100\n",
            "2/2 - 0s - loss: 3886.0640 - val_loss: 2123.1775 - 31ms/epoch - 16ms/step\n",
            "Epoch 15/100\n",
            "2/2 - 0s - loss: 3881.1306 - val_loss: 2118.7498 - 31ms/epoch - 16ms/step\n",
            "Epoch 16/100\n",
            "2/2 - 0s - loss: 3875.9541 - val_loss: 2114.7175 - 32ms/epoch - 16ms/step\n",
            "Epoch 17/100\n",
            "2/2 - 0s - loss: 3870.9099 - val_loss: 2111.1365 - 34ms/epoch - 17ms/step\n",
            "Epoch 18/100\n",
            "2/2 - 0s - loss: 3865.7300 - val_loss: 2107.5703 - 31ms/epoch - 15ms/step\n",
            "Epoch 19/100\n",
            "2/2 - 0s - loss: 3860.3259 - val_loss: 2104.1248 - 33ms/epoch - 17ms/step\n",
            "Epoch 20/100\n",
            "2/2 - 0s - loss: 3855.0530 - val_loss: 2101.0066 - 41ms/epoch - 21ms/step\n",
            "Epoch 21/100\n",
            "2/2 - 0s - loss: 3849.5815 - val_loss: 2098.0208 - 34ms/epoch - 17ms/step\n",
            "Epoch 22/100\n",
            "2/2 - 0s - loss: 3844.1384 - val_loss: 2095.1785 - 35ms/epoch - 17ms/step\n",
            "Epoch 23/100\n",
            "2/2 - 0s - loss: 3838.6929 - val_loss: 2092.5745 - 33ms/epoch - 16ms/step\n",
            "Epoch 24/100\n",
            "2/2 - 0s - loss: 3833.1731 - val_loss: 2090.0759 - 38ms/epoch - 19ms/step\n",
            "Epoch 25/100\n",
            "2/2 - 0s - loss: 3827.6318 - val_loss: 2087.6250 - 31ms/epoch - 16ms/step\n",
            "Epoch 26/100\n",
            "2/2 - 0s - loss: 3822.1697 - val_loss: 2085.2317 - 33ms/epoch - 16ms/step\n",
            "Epoch 27/100\n",
            "2/2 - 0s - loss: 3816.5918 - val_loss: 2082.9111 - 33ms/epoch - 16ms/step\n",
            "Epoch 28/100\n",
            "2/2 - 0s - loss: 3811.2114 - val_loss: 2080.7588 - 31ms/epoch - 16ms/step\n",
            "Epoch 29/100\n",
            "2/2 - 0s - loss: 3805.5964 - val_loss: 2078.2075 - 30ms/epoch - 15ms/step\n",
            "Epoch 30/100\n",
            "2/2 - 0s - loss: 3800.1794 - val_loss: 2075.4275 - 40ms/epoch - 20ms/step\n",
            "Epoch 31/100\n",
            "2/2 - 0s - loss: 3794.6230 - val_loss: 2072.6299 - 29ms/epoch - 15ms/step\n",
            "Epoch 32/100\n",
            "2/2 - 0s - loss: 3789.2761 - val_loss: 2070.0591 - 36ms/epoch - 18ms/step\n",
            "Epoch 33/100\n",
            "2/2 - 0s - loss: 3783.8513 - val_loss: 2067.1924 - 32ms/epoch - 16ms/step\n",
            "Epoch 34/100\n",
            "2/2 - 0s - loss: 3778.4556 - val_loss: 2064.1741 - 39ms/epoch - 20ms/step\n",
            "Epoch 35/100\n",
            "2/2 - 0s - loss: 3773.1853 - val_loss: 2061.3789 - 32ms/epoch - 16ms/step\n",
            "Epoch 36/100\n",
            "2/2 - 0s - loss: 3767.9272 - val_loss: 2058.7593 - 35ms/epoch - 18ms/step\n",
            "Epoch 37/100\n",
            "2/2 - 0s - loss: 3762.6252 - val_loss: 2056.1587 - 42ms/epoch - 21ms/step\n",
            "Epoch 38/100\n",
            "2/2 - 0s - loss: 3757.4546 - val_loss: 2053.7285 - 33ms/epoch - 16ms/step\n",
            "Epoch 39/100\n",
            "2/2 - 0s - loss: 3752.2969 - val_loss: 2051.5115 - 37ms/epoch - 18ms/step\n",
            "Epoch 40/100\n",
            "2/2 - 0s - loss: 3747.0859 - val_loss: 2049.4851 - 37ms/epoch - 18ms/step\n",
            "Epoch 41/100\n",
            "2/2 - 0s - loss: 3742.0659 - val_loss: 2047.6748 - 33ms/epoch - 16ms/step\n",
            "Epoch 42/100\n",
            "2/2 - 0s - loss: 3736.9863 - val_loss: 2046.0254 - 29ms/epoch - 15ms/step\n",
            "Epoch 43/100\n",
            "2/2 - 0s - loss: 3731.9285 - val_loss: 2044.4771 - 30ms/epoch - 15ms/step\n",
            "Epoch 44/100\n",
            "2/2 - 0s - loss: 3726.9612 - val_loss: 2042.9961 - 36ms/epoch - 18ms/step\n",
            "Epoch 45/100\n",
            "2/2 - 0s - loss: 3722.0193 - val_loss: 2041.4755 - 32ms/epoch - 16ms/step\n",
            "Epoch 46/100\n",
            "2/2 - 0s - loss: 3717.1282 - val_loss: 2040.1323 - 36ms/epoch - 18ms/step\n",
            "Epoch 47/100\n",
            "2/2 - 0s - loss: 3712.2556 - val_loss: 2038.7922 - 33ms/epoch - 16ms/step\n",
            "Epoch 48/100\n",
            "2/2 - 0s - loss: 3707.3489 - val_loss: 2037.5566 - 31ms/epoch - 16ms/step\n",
            "Epoch 49/100\n",
            "2/2 - 0s - loss: 3702.6145 - val_loss: 2036.5259 - 32ms/epoch - 16ms/step\n",
            "Epoch 50/100\n",
            "2/2 - 0s - loss: 3697.7854 - val_loss: 2035.5212 - 32ms/epoch - 16ms/step\n",
            "Epoch 51/100\n",
            "2/2 - 0s - loss: 3693.0803 - val_loss: 2034.4442 - 33ms/epoch - 16ms/step\n",
            "Epoch 52/100\n",
            "2/2 - 0s - loss: 3688.4094 - val_loss: 2033.3378 - 31ms/epoch - 15ms/step\n",
            "Epoch 53/100\n",
            "2/2 - 0s - loss: 3683.7712 - val_loss: 2032.3844 - 38ms/epoch - 19ms/step\n",
            "Epoch 54/100\n",
            "2/2 - 0s - loss: 3679.1907 - val_loss: 2031.0117 - 33ms/epoch - 16ms/step\n",
            "Epoch 55/100\n",
            "2/2 - 0s - loss: 3674.5500 - val_loss: 2029.6436 - 36ms/epoch - 18ms/step\n",
            "Epoch 56/100\n",
            "2/2 - 0s - loss: 3669.9817 - val_loss: 2028.4918 - 37ms/epoch - 19ms/step\n",
            "Epoch 57/100\n",
            "2/2 - 0s - loss: 3665.5161 - val_loss: 2027.3217 - 32ms/epoch - 16ms/step\n",
            "Epoch 58/100\n",
            "2/2 - 0s - loss: 3661.0283 - val_loss: 2025.9460 - 31ms/epoch - 16ms/step\n",
            "Epoch 59/100\n",
            "2/2 - 0s - loss: 3656.6455 - val_loss: 2024.5952 - 37ms/epoch - 18ms/step\n",
            "Epoch 60/100\n",
            "2/2 - 0s - loss: 3652.1580 - val_loss: 2022.9850 - 36ms/epoch - 18ms/step\n",
            "Epoch 61/100\n",
            "2/2 - 0s - loss: 3647.8372 - val_loss: 2021.4202 - 34ms/epoch - 17ms/step\n",
            "Epoch 62/100\n",
            "2/2 - 0s - loss: 3643.4907 - val_loss: 2019.7754 - 33ms/epoch - 16ms/step\n",
            "Epoch 63/100\n",
            "2/2 - 0s - loss: 3639.1638 - val_loss: 2018.0717 - 50ms/epoch - 25ms/step\n",
            "Epoch 64/100\n",
            "2/2 - 0s - loss: 3634.8440 - val_loss: 2016.0171 - 34ms/epoch - 17ms/step\n",
            "Epoch 65/100\n",
            "2/2 - 0s - loss: 3630.6709 - val_loss: 2014.1223 - 34ms/epoch - 17ms/step\n",
            "Epoch 66/100\n",
            "2/2 - 0s - loss: 3626.3496 - val_loss: 2011.7502 - 35ms/epoch - 17ms/step\n",
            "Epoch 67/100\n",
            "2/2 - 0s - loss: 3622.2295 - val_loss: 2009.1666 - 38ms/epoch - 19ms/step\n",
            "Epoch 68/100\n",
            "2/2 - 0s - loss: 3617.9670 - val_loss: 2006.3850 - 36ms/epoch - 18ms/step\n",
            "Epoch 69/100\n",
            "2/2 - 0s - loss: 3613.8420 - val_loss: 2003.6792 - 36ms/epoch - 18ms/step\n",
            "Epoch 70/100\n",
            "2/2 - 0s - loss: 3609.7207 - val_loss: 2000.5138 - 61ms/epoch - 30ms/step\n",
            "Epoch 71/100\n",
            "2/2 - 0s - loss: 3605.4956 - val_loss: 1997.3641 - 34ms/epoch - 17ms/step\n",
            "Epoch 72/100\n",
            "2/2 - 0s - loss: 3601.4978 - val_loss: 1994.1454 - 31ms/epoch - 16ms/step\n",
            "Epoch 73/100\n",
            "2/2 - 0s - loss: 3597.3787 - val_loss: 1990.9048 - 31ms/epoch - 15ms/step\n",
            "Epoch 74/100\n",
            "2/2 - 0s - loss: 3593.3367 - val_loss: 1987.4189 - 39ms/epoch - 19ms/step\n",
            "Epoch 75/100\n",
            "2/2 - 0s - loss: 3589.1614 - val_loss: 1983.7506 - 35ms/epoch - 17ms/step\n",
            "Epoch 76/100\n",
            "2/2 - 0s - loss: 3585.1121 - val_loss: 1979.9045 - 35ms/epoch - 17ms/step\n",
            "Epoch 77/100\n",
            "2/2 - 0s - loss: 3581.1013 - val_loss: 1975.8325 - 36ms/epoch - 18ms/step\n",
            "Epoch 78/100\n",
            "2/2 - 0s - loss: 3577.1384 - val_loss: 1971.6127 - 38ms/epoch - 19ms/step\n",
            "Epoch 79/100\n",
            "2/2 - 0s - loss: 3573.0356 - val_loss: 1967.5206 - 37ms/epoch - 18ms/step\n",
            "Epoch 80/100\n",
            "2/2 - 0s - loss: 3569.0435 - val_loss: 1963.7327 - 40ms/epoch - 20ms/step\n",
            "Epoch 81/100\n",
            "2/2 - 0s - loss: 3564.9658 - val_loss: 1959.8862 - 36ms/epoch - 18ms/step\n",
            "Epoch 82/100\n",
            "2/2 - 0s - loss: 3561.0129 - val_loss: 1955.9708 - 32ms/epoch - 16ms/step\n",
            "Epoch 83/100\n",
            "2/2 - 0s - loss: 3557.0466 - val_loss: 1952.1594 - 33ms/epoch - 17ms/step\n",
            "Epoch 84/100\n",
            "2/2 - 0s - loss: 3553.1133 - val_loss: 1948.3746 - 36ms/epoch - 18ms/step\n",
            "Epoch 85/100\n",
            "2/2 - 0s - loss: 3549.0752 - val_loss: 1944.8367 - 30ms/epoch - 15ms/step\n",
            "Epoch 86/100\n",
            "2/2 - 0s - loss: 3545.2400 - val_loss: 1941.3954 - 33ms/epoch - 16ms/step\n",
            "Epoch 87/100\n",
            "2/2 - 0s - loss: 3541.2793 - val_loss: 1937.8900 - 32ms/epoch - 16ms/step\n",
            "Epoch 88/100\n",
            "2/2 - 0s - loss: 3537.3740 - val_loss: 1934.0109 - 40ms/epoch - 20ms/step\n",
            "Epoch 89/100\n",
            "2/2 - 0s - loss: 3533.4919 - val_loss: 1930.0256 - 30ms/epoch - 15ms/step\n",
            "Epoch 90/100\n",
            "2/2 - 0s - loss: 3529.6646 - val_loss: 1926.0260 - 31ms/epoch - 16ms/step\n",
            "Epoch 91/100\n",
            "2/2 - 0s - loss: 3525.7424 - val_loss: 1921.8704 - 36ms/epoch - 18ms/step\n",
            "Epoch 92/100\n",
            "2/2 - 0s - loss: 3522.0217 - val_loss: 1917.8591 - 31ms/epoch - 16ms/step\n",
            "Epoch 93/100\n",
            "2/2 - 0s - loss: 3518.1628 - val_loss: 1914.2987 - 35ms/epoch - 18ms/step\n",
            "Epoch 94/100\n",
            "2/2 - 0s - loss: 3514.3296 - val_loss: 1910.5444 - 33ms/epoch - 16ms/step\n",
            "Epoch 95/100\n",
            "2/2 - 0s - loss: 3510.4670 - val_loss: 1906.9183 - 36ms/epoch - 18ms/step\n",
            "Epoch 96/100\n",
            "2/2 - 0s - loss: 3506.7754 - val_loss: 1903.6211 - 32ms/epoch - 16ms/step\n",
            "Epoch 97/100\n",
            "2/2 - 0s - loss: 3502.9568 - val_loss: 1900.0529 - 33ms/epoch - 17ms/step\n",
            "Epoch 98/100\n",
            "2/2 - 0s - loss: 3499.2019 - val_loss: 1896.3213 - 34ms/epoch - 17ms/step\n",
            "Epoch 99/100\n",
            "2/2 - 0s - loss: 3495.4465 - val_loss: 1892.6979 - 34ms/epoch - 17ms/step\n",
            "Epoch 100/100\n",
            "2/2 - 0s - loss: 3491.7026 - val_loss: 1889.4056 - 47ms/epoch - 24ms/step\n"
          ]
        }
      ]
    },
    {
      "cell_type": "code",
      "source": [
        "testPredict3 = model_rnn.predict(testX)"
      ],
      "metadata": {
        "id": "l3Q0E8J374dD"
      },
      "execution_count": null,
      "outputs": []
    },
    {
      "cell_type": "code",
      "source": [
        "testScore = my_mse(testY, testPredict3.reshape(-1))\n",
        "print('Test Score: %.2f MSE' % (testScore))"
      ],
      "metadata": {
        "colab": {
          "base_uri": "https://localhost:8080/"
        },
        "id": "9SBgbNT_77a0",
        "outputId": "f6474cc8-d9ff-4525-86cc-d8414a23f2da"
      },
      "execution_count": null,
      "outputs": [
        {
          "output_type": "stream",
          "name": "stdout",
          "text": [
            "Test Score: 1617.43 MSE\n"
          ]
        }
      ]
    },
    {
      "cell_type": "markdown",
      "source": [
        "8. Визуализируйте кривые обучения для трех построенных моделей на одном рисунке в зависимости от эпохи обучения, подписывая оси и рисунок и создавая легенду. Используйте для визуализации относительную ошибку (ошибку обучения, деленную на начальную ошибку на первой эпохе)."
      ],
      "metadata": {
        "id": "VqEyP3OFSTuh"
      }
    },
    {
      "cell_type": "code",
      "source": [
        "loss1 = np.array(history.history[\"loss\"])/history.history[\"loss\"][0]\n",
        "val_loss1 = np.array(history.history[\"val_loss\"])/history.history[\"val_loss\"][0]\n",
        "loss2 = np.array(history2.history[\"loss\"])/history2.history[\"loss\"][0]\n",
        "val_loss2 = np.array(history2.history[\"val_loss\"])/history2.history[\"val_loss\"][0]\n",
        "loss3 = np.array(history3.history[\"loss\"])/history3.history[\"loss\"][0]\n",
        "val_loss3 = np.array(history3.history[\"val_loss\"])/history3.history[\"val_loss\"][0]\n",
        "epochs = range(1, len(loss1) + 1)\n",
        "plt.plot(epochs, loss1, label=\"Потери на обучающей выборке model_mlp\")\n",
        "plt.plot(epochs, val_loss1, label=\"Потери на тестовой выборке model_mlp\")\n",
        "plt.plot(epochs, loss2, label=\"Потери на обучающей выборке model_mlp2\")\n",
        "plt.plot(epochs, val_loss2, label=\"Потери на тестовой выборке model_mlp2\")\n",
        "plt.plot(epochs, loss3, label=\"Потери на обучающей выборке model_rnn\")\n",
        "plt.plot(epochs, val_loss3, label=\"Потери на тестовой выборке model_rnn\")\n",
        "plt.title(\"Функция потерь при обучении модели\")\n",
        "plt.xlabel(\"Эпохи обучения\")\n",
        "plt.ylabel(\"Функция потерь\")\n",
        "plt.legend();"
      ],
      "metadata": {
        "colab": {
          "base_uri": "https://localhost:8080/",
          "height": 295
        },
        "id": "ft8W8byZ9AYC",
        "outputId": "f46bf2fb-2a53-4b88-9342-502096c7830f"
      },
      "execution_count": null,
      "outputs": [
        {
          "output_type": "display_data",
          "data": {
            "text/plain": [
              "<Figure size 432x288 with 1 Axes>"
            ],
            "image/png": "[encoded data removed]"
          },
          "metadata": {
            "needs_background": "light"
          }
        }
      ]
    },
    {
      "cell_type": "markdown",
      "source": [
        "9. Визуализируйте весь набор данных и прогнозы трех построенных моделей для обучающей и тестовой выборок на одном рисунке (ось X – даты, ось Y – стоимость акции), подписывая оси и рисунок и создавая легенду."
      ],
      "metadata": {
        "id": "fa94o6l5SbFM"
      }
    },
    {
      "cell_type": "code",
      "source": [
        "trainPredict = model_mlp.predict(trainX)\n",
        "trainPredict2 = model_mlp2.predict(trainX)\n",
        "trainPredict3 = model_rnn.predict(trainX)"
      ],
      "metadata": {
        "id": "xotkRTRzBbFl"
      },
      "execution_count": null,
      "outputs": []
    },
    {
      "cell_type": "code",
      "source": [
        "plt.title('Котировки акций компании Citigroup в 2019-2020 гг.')\n",
        "plt.xlabel('Дата')\n",
        "plt.ylabel('Стоимость')\n",
        "plt.plot(testY, label='Тестовая выборка')\n",
        "plt.plot(testPredict.reshape(-1), c='m', label='Тестовая выборка model_mlp')\n",
        "plt.plot(testPredict2.reshape(-1), c='r', label='Тестовая выборка model_mlp2')\n",
        "plt.plot(testPredict3.reshape(-1), c='g', label='Тестовая выборка model_rnn')\n",
        "plt.plot(trainY, label='Обучающая выборка')\n",
        "plt.plot(trainPredict.reshape(-1), label='Обучающая выборка model_mlp')\n",
        "plt.plot(trainPredict2.reshape(-1), label='Обучающая выборка model_mlp2')\n",
        "plt.plot(trainPredict3.reshape(-1), label='Обучающая выборка model_rnn')\n",
        "plt.legend();"
      ],
      "metadata": {
        "colab": {
          "base_uri": "https://localhost:8080/",
          "height": 295
        },
        "id": "ARom0-y6-CGn",
        "outputId": "8ea68f85-7c23-497f-b3be-822086bee773"
      },
      "execution_count": null,
      "outputs": [
        {
          "output_type": "display_data",
          "data": {
            "text/plain": [
              "<Figure size 432x288 with 1 Axes>"
            ],
            "image/png": "[encoded data removed]"
          },
          "metadata": {
            "needs_background": "light"
          }
        }
      ]
    }
  ],
  "metadata": {
    "colab": {
      "provenance": [],
      "include_colab_link": true
    },
    "kernelspec": {
      "display_name": "Python 3 (ipykernel)",
      "language": "python",
      "name": "python3"
    },
    "language_info": {
      "codemirror_mode": {
        "name": "ipython",
        "version": 3
      },
      "file_extension": ".py",
      "mimetype": "text/x-python",
      "name": "python",
      "nbconvert_exporter": "python",
      "pygments_lexer": "ipython3",
      "version": "3.8.11"
    }
  },
  "nbformat": 4,
  "nbformat_minor": 0
}